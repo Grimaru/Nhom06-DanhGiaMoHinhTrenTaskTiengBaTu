{
 "cells": [
  {
   "cell_type": "code",
   "execution_count": null,
   "id": "af56b8d0",
   "metadata": {},
   "outputs": [],
   "source": [
    "import time\n",
    "import random\n",
    "from hazm import stopwords_list\n",
    "import numpy as np\n",
    "import pandas as pd\n",
    "from tqdm import tqdm\n",
    "from hazm import *"
   ]
  },
  {
   "cell_type": "code",
   "execution_count": null,
   "id": "365bddac",
   "metadata": {},
   "outputs": [],
   "source": [
    "from openai import OpenAI\n",
    "\n",
    "# Khởi tạo client\n",
    "client = OpenAI(api_key=\"--\")\n",
    "\n",
    "def get_completion(prompt, model=\"gpt-3.5-turbo\"):\n",
    "    response = client.chat.completions.create(\n",
    "        model=model,\n",
    "        messages=[{\"role\": \"user\", \"content\": prompt}],\n",
    "        temperature=0\n",
    "    )\n",
    "    return response.choices[0].message.content.strip()\n"
   ]
  },
  {
   "cell_type": "code",
   "execution_count": null,
   "id": "fd0da6bc",
   "metadata": {},
   "outputs": [],
   "source": [
    "import pandas as pd\n",
    "df = pd.read_excel(\"D:\\Học Tập (2024 HK3_Năm 3)\\XLNNTN\\Benchmarking_ChatGPT_for_Persian-main\\Benchmarking_ChatGPT_for_Persian-main\\Experiments\\ChatGPT\\Elemntry School Questions\\elem_q.xlsx\")"
   ]
  },
  {
   "cell_type": "code",
   "execution_count": null,
   "id": "7d8fb167",
   "metadata": {},
   "outputs": [],
   "source": [
    "df"
   ]
  },
  {
   "cell_type": "code",
   "execution_count": null,
   "id": "8c93403f",
   "metadata": {},
   "outputs": [],
   "source": [
    "len(df)"
   ]
  },
  {
   "cell_type": "code",
   "execution_count": null,
   "id": "c65807e4",
   "metadata": {},
   "outputs": [],
   "source": [
    "results = {\"question\":[],\"correct_ans\":[],\"model_ans_farsiprompt_zero\":[]}\n",
    "\n",
    "for i in range(len(df)):\n",
    "\n",
    "  question = df['question'].values[i]\n",
    "  correct_ans =  df['true_answer'].values[i]\n",
    "  print(f'question {i+1}')\n",
    "\n",
    "  prompt = f\"\"\"\n",
    "  در اینجا تو باید به سوالات ریاضی مقطع ابتدایی در زبان فارسی پاسخ دهی.\\\n",
    "  سوالات دو گزنه ای هستند.\n",
    "  پاسخ یکی از دو گزینه ی `ا` یا `ب` می شود.\\\n",
    "  پس تو در پاسخ صرفا باید یک حرف بنویسی `ا` یا `ب`. لطفا هیچ چیز اضافه ای ننویس. .\n",
    "\n",
    "  سوال:\n",
    "  '''{question}\n",
    "\n",
    "  پاسخ:\n",
    "  \"\"\"\n",
    "\n",
    "  response = get_completion(prompt)\n",
    "  print(prompt)\n",
    "  print(\"model ans: \",response)\n",
    "  print(\"correct ans: \",correct_ans)\n",
    "  print(\"-------------------------------------------------------------------------------------\")\n",
    "  results['question'].append(question)\n",
    "  results['correct_ans'].append(correct_ans)\n",
    "  results['model_ans_farsiprompt_zero'].append(response)\n",
    "  time.sleep(21)"
   ]
  },
  {
   "cell_type": "code",
   "execution_count": null,
   "id": "7d22ba7c",
   "metadata": {},
   "outputs": [],
   "source": [
    "df_res = pd.DataFrame(results)"
   ]
  },
  {
   "cell_type": "code",
   "execution_count": null,
   "id": "66dd867d",
   "metadata": {},
   "outputs": [],
   "source": [
    "# df_i['model_ans_farsiprompt_zero'] = results['model_ans_farsiprompt_zero']\n",
    "# df_i.to_csv('elem_q_res.csv')\n",
    "\n",
    "df_res['model_ans_farsiprompt_zero'] = results['model_ans_farsiprompt_zero']\n",
    "df_res.to_csv('elem_q_res (2).csv')"
   ]
  },
  {
   "cell_type": "code",
   "execution_count": null,
   "id": "dbed4a7c",
   "metadata": {},
   "outputs": [],
   "source": [
    "# df_i = pd.read_csv('elem_q_res.csv')\n",
    "# gpt_results = df_i['model_ans_farsiprompt_zero'].values\n",
    "# true_ans = [str(x) for x in df[\"true_answer\"].values]\n",
    "# acc = (gpt_results == true_ans).sum()/len(true_ans)\n",
    "# acc\n",
    "\n",
    "df_res = pd.read_csv('elem_q_res (2).csv')\n",
    "gpt_results = df_res['model_ans_farsiprompt_zero'].values\n",
    "true_ans = [str(x) for x in df[\"true_answer\"].values]\n",
    "acc = (gpt_results == true_ans).sum()/len(true_ans)\n",
    "acc"
   ]
  },
  {
   "cell_type": "code",
   "execution_count": null,
   "id": "0ebe63ae",
   "metadata": {},
   "outputs": [],
   "source": [
    "results = {\"question\":[],\"correct_ans\":[],\"model_ans_farsiprompt_one\":[]}\n",
    "\n",
    "for i in range(len(df)):\n",
    "  idx = random.randint(0, len(df)-1)\n",
    "  while True:\n",
    "      if idx == i:\n",
    "          idx = random.randint(0, len(df)-1)\n",
    "      else:\n",
    "          break\n",
    "  question = df['question'].values[i]\n",
    "  correct_ans =  df['true_answer'].values[i]\n",
    "  print(f'question {i+1}')\n",
    "\n",
    "  prompt = f\"\"\"\n",
    "  در اینجا تو باید به سوالات ریاضی مقطع ابتدایی در زبان فارسی پاسخ دهی.\\\n",
    "  سوالات دو گزنه ای هستند.\n",
    "  پاسخ یکی از دو گزینه ی `ا` یا `ب` می شود.\\\n",
    " پس تو در پاسخ صرفا باید یک حرف بنویسی `ا` یا `ب`. لطفا هیچ چیز اضافه ای ننویس. در ابتدا یک مثال خواهی دید لطفا به فرم مثال پاسخ بده.\n",
    "\n",
    "  مثال:\n",
    "    `{df.iloc[idx][\"question\"]}`\n",
    "  پاسخ:\n",
    "    `{df.iloc[idx][\"true_answer\"]}`\n",
    "  سوال:\n",
    "  '''{question}\n",
    "\n",
    "  پاسخ:\n",
    "  \"\"\"\n",
    "\n",
    "  response = get_completion(prompt)\n",
    "  print(prompt)\n",
    "  print(\"model ans: \",response)\n",
    "  print(\"correct ans: \",correct_ans)\n",
    "  print(\"-------------------------------------------------------------------------------------\")\n",
    "  results['question'].append(question)\n",
    "  results['correct_ans'].append(correct_ans)\n",
    "  results['model_ans_farsiprompt_one'].append(response)\n",
    "  time.sleep(21)"
   ]
  },
  {
   "cell_type": "code",
   "execution_count": null,
   "id": "2ed0cee5",
   "metadata": {},
   "outputs": [],
   "source": [
    "df_res['model_ans_farsiprompt_one'] = results['model_ans_farsiprompt_one']\n",
    "df_res.to_csv('elem_q_res (2).csv')"
   ]
  },
  {
   "cell_type": "code",
   "execution_count": null,
   "id": "a02bacc4",
   "metadata": {},
   "outputs": [],
   "source": [
    "df_res = pd.read_csv('elem_q_res (2).csv')\n",
    "gpt_results = df_res['model_ans_farsiprompt_one'].values\n",
    "true_ans = [str(x) for x in df[\"true_answer\"].values]\n",
    "acc = (gpt_results == true_ans).sum()/len(true_ans)\n",
    "acc"
   ]
  },
  {
   "cell_type": "code",
   "execution_count": null,
   "id": "64e4fe5f",
   "metadata": {},
   "outputs": [],
   "source": [
    "results = {\"question\":[],\"correct_ans\":[],\"model_ans_farsiprompt_three\":[]}\n",
    "\n",
    "for i in range(len(df)):\n",
    "  idxs = np.random.randint(0, len(df),3)\n",
    "  while True:\n",
    "      if i in idxs:\n",
    "          idxs = np.random.randint(0, len(df),3)\n",
    "      else:\n",
    "          break\n",
    "  question = df['question'].values[i]\n",
    "  correct_ans =  df['true_answer'].values[i]\n",
    "  print(f'question {i+1}')\n",
    "\n",
    "  question = df['question'].values[i]\n",
    "  correct_ans =  df['true_answer'].values[i]\n",
    "  print(f'question {i+1}')\n",
    "\n",
    "  prompt = f\"\"\"\n",
    "  در اینجا تو باید به سوالات ریاضی مقطع ابتدایی در زبان فارسی پاسخ دهی.\\\n",
    "  سوالات دو گزنه ای هستند.\n",
    "  پاسخ یکی از دو گزینه ی `ا` یا `ب` می شود.\\\n",
    " پس تو در پاسخ صرفا باید یک حرف بنویسی `ا` یا `ب`. لطفا هیچ چیز اضافه ای ننویس. در ابتدا سه مثال خواهی دید لطفا به فرم مثال پاسخ بده.\n",
    "\n",
    "  مثال 1:\n",
    "    {df.iloc[idxs[0]][\"question\"]}\n",
    "  پاسخ 1:\n",
    "    {df.iloc[idxs[0]][\"true_answer\"]}\n",
    "\n",
    "  مثال 2:\n",
    "    {df.iloc[idxs[1]][\"question\"]}\n",
    "  پاسخ 2:\n",
    "    {df.iloc[idxs[1]][\"true_answer\"]}\n",
    "\n",
    "  مثال 3:\n",
    "    {df.iloc[idxs[2]][\"question\"]}\n",
    "  پاسخ 3:\n",
    "    {df.iloc[idxs[2]][\"true_answer\"]}\n",
    "\n",
    "  سوال:\n",
    "  '''{question}\n",
    "\n",
    "  پاسخ:\n",
    "  \"\"\"\n",
    "\n",
    "  response = get_completion(prompt)\n",
    "  print(prompt)\n",
    "  print(\"model ans: \",response)\n",
    "  print(\"correct ans: \",correct_ans)\n",
    "  print(\"-------------------------------------------------------------------------------------\")\n",
    "  results['question'].append(question)\n",
    "  results['correct_ans'].append(correct_ans)\n",
    "  results['model_ans_farsiprompt_three'].append(response)\n",
    "  time.sleep(21)"
   ]
  },
  {
   "cell_type": "code",
   "execution_count": null,
   "id": "84dc02fc",
   "metadata": {},
   "outputs": [],
   "source": [
    "df_res['model_ans_farsiprompt_three'] = results['model_ans_farsiprompt_three']\n",
    "df_res.to_csv('elem_q_res (2).csv')"
   ]
  },
  {
   "cell_type": "code",
   "execution_count": null,
   "id": "fe8d280d",
   "metadata": {},
   "outputs": [],
   "source": [
    "df_res = pd.read_csv('elem_q_res (2).csv')\n",
    "gpt_results = df_res['model_ans_farsiprompt_three'].values\n",
    "true_ans = [str(x) for x in df[\"true_answer\"].values]\n",
    "acc = (gpt_results == true_ans).sum()/len(true_ans)\n",
    "acc"
   ]
  },
  {
   "cell_type": "code",
   "execution_count": null,
   "id": "abf504e0",
   "metadata": {},
   "outputs": [],
   "source": [
    "df_f = df_res[['question', 'correct_ans', 'model_ans',\n",
    "       'model_ans_one_shot', 'model_ans_three_shot',\n",
    "       'model_ans_farsiprompt_zero', 'model_ans_farsiprompt_one',\n",
    "       'model_ans_farsiprompt_three']]"
   ]
  },
  {
   "cell_type": "code",
   "execution_count": null,
   "id": "4b344fd7",
   "metadata": {},
   "outputs": [],
   "source": [
    "df_f.to_csv('elem_q_res (2).csv')"
   ]
  },
  {
   "cell_type": "code",
   "execution_count": null,
   "id": "950c9910",
   "metadata": {},
   "outputs": [],
   "source": [
    "df_f"
   ]
  },
  {
   "cell_type": "code",
   "execution_count": null,
   "id": "338d2894",
   "metadata": {},
   "outputs": [],
   "source": [
    "import pandas as pd\n",
    "df = pd.read_csv(\"elem_q_res (2).csv\")"
   ]
  },
  {
   "cell_type": "code",
   "execution_count": null,
   "id": "c61fcf7f",
   "metadata": {},
   "outputs": [],
   "source": [
    "answer_list_pp = {}\n",
    "accuracy = {}\n",
    "a = list()\n",
    "for i in range(len(df)):\n",
    "  a.append(0)\n",
    "for i in range(len(df.columns[3:])):\n",
    "  answer_list_pp[df.columns[i+3]] = a"
   ]
  },
  {
   "cell_type": "code",
   "execution_count": null,
   "id": "2fe88895",
   "metadata": {},
   "outputs": [],
   "source": [
    "for i in range(len(df.columns[3:])):\n",
    "  c = 0\n",
    "\n",
    "  for j in range(len(df)):\n",
    "    answer_list_pp[df.columns[i+3]][j] = df[df.columns[i+3]][j]\n",
    "    if df[\"correct_ans\"][j] in df[df.columns[i+3]][j][:1]:\n",
    "      answer_list_pp[df.columns[i+3]][j] = df.correct_ans[j]\n",
    "      c += 1\n",
    "    else:\n",
    "      answer_list_pp[df.columns[i+3]][j] = answer_list_pp[df.columns[i+3]][j][:1]\n",
    "  accuracy[df.columns[i+3]] = c/len(df)"
   ]
  },
  {
   "cell_type": "code",
   "execution_count": null,
   "id": "645d3e3f",
   "metadata": {},
   "outputs": [],
   "source": [
    "for i,j in enumerate(answer_list_pp.keys()):\n",
    "  df[df.columns[i+3] + \"_post_process\"] = answer_list_pp[j]"
   ]
  },
  {
   "cell_type": "code",
   "execution_count": null,
   "id": "0870809c",
   "metadata": {},
   "outputs": [],
   "source": [
    "df.to_csv(\"result_elem_q_pp (2).csv\")"
   ]
  },
  {
   "cell_type": "code",
   "execution_count": null,
   "id": "9f97733d",
   "metadata": {},
   "outputs": [],
   "source": [
    "accuracy"
   ]
  }
 ],
 "metadata": {
  "language_info": {
   "name": "python"
  }
 },
 "nbformat": 4,
 "nbformat_minor": 5
}
