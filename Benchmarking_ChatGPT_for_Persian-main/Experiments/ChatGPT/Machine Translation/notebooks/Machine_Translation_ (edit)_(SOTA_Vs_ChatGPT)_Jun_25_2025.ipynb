{
  "cells": [
    {
      "cell_type": "markdown",
      "metadata": {
        "id": "NNiQSOkvvrUM"
      },
      "source": [
        "# Evaluation"
      ]
    },
    {
      "cell_type": "markdown",
      "metadata": {
        "id": "hUAlSbrPNG6I"
      },
      "source": [
        "**English prompt:**\n",
        "*   EN to PER\n",
        "\n",
        "    *   Zeroshot\n",
        "    *   Oneshot\n",
        "    *   Fewshot\n",
        "\n",
        "*   PER to EN\n",
        "\n",
        "    *   Zeroshot\n",
        "    *   Oneshot\n",
        "    *   Fewshot\n",
        "\n",
        "**Persian prompt:**\n",
        "*   EN to PER\n",
        "\n",
        "    *   Zeroshot\n",
        "    *   Oneshot  \n",
        "    *   Fewshot\n",
        "\n",
        "*   PER to EN\n",
        "\n",
        "    *   Zeroshot\n",
        "    *   Oneshot  \n",
        "    *   Fewshot"
      ]
    },
    {
      "cell_type": "markdown",
      "metadata": {
        "id": "O7HbhUqq__zV"
      },
      "source": [
        "# Openai"
      ]
    },
    {
      "cell_type": "markdown",
      "metadata": {
        "id": "yc5z9QxVBZCA"
      },
      "source": [
        "## Importing & Data"
      ]
    },
    {
      "cell_type": "code",
      "execution_count": 1,
      "metadata": {
        "colab": {
          "base_uri": "https://localhost:8080/"
        },
        "id": "sYO0jYB4-_gX",
        "outputId": "b9771849-0a7f-4bdd-d2db-ebeabf0c9f22"
      },
      "outputs": [
        {
          "name": "stdout",
          "output_type": "stream",
          "text": [
            "Requirement already satisfied: openai in /usr/local/lib/python3.11/dist-packages (1.87.0)\n",
            "Requirement already satisfied: anyio<5,>=3.5.0 in /usr/local/lib/python3.11/dist-packages (from openai) (4.9.0)\n",
            "Requirement already satisfied: distro<2,>=1.7.0 in /usr/local/lib/python3.11/dist-packages (from openai) (1.9.0)\n",
            "Requirement already satisfied: httpx<1,>=0.23.0 in /usr/local/lib/python3.11/dist-packages (from openai) (0.28.1)\n",
            "Requirement already satisfied: jiter<1,>=0.4.0 in /usr/local/lib/python3.11/dist-packages (from openai) (0.10.0)\n",
            "Requirement already satisfied: pydantic<3,>=1.9.0 in /usr/local/lib/python3.11/dist-packages (from openai) (2.11.7)\n",
            "Requirement already satisfied: sniffio in /usr/local/lib/python3.11/dist-packages (from openai) (1.3.1)\n",
            "Requirement already satisfied: tqdm>4 in /usr/local/lib/python3.11/dist-packages (from openai) (4.67.1)\n",
            "Requirement already satisfied: typing-extensions<5,>=4.11 in /usr/local/lib/python3.11/dist-packages (from openai) (4.14.0)\n",
            "Requirement already satisfied: idna>=2.8 in /usr/local/lib/python3.11/dist-packages (from anyio<5,>=3.5.0->openai) (3.10)\n",
            "Requirement already satisfied: certifi in /usr/local/lib/python3.11/dist-packages (from httpx<1,>=0.23.0->openai) (2025.6.15)\n",
            "Requirement already satisfied: httpcore==1.* in /usr/local/lib/python3.11/dist-packages (from httpx<1,>=0.23.0->openai) (1.0.9)\n",
            "Requirement already satisfied: h11>=0.16 in /usr/local/lib/python3.11/dist-packages (from httpcore==1.*->httpx<1,>=0.23.0->openai) (0.16.0)\n",
            "Requirement already satisfied: annotated-types>=0.6.0 in /usr/local/lib/python3.11/dist-packages (from pydantic<3,>=1.9.0->openai) (0.7.0)\n",
            "Requirement already satisfied: pydantic-core==2.33.2 in /usr/local/lib/python3.11/dist-packages (from pydantic<3,>=1.9.0->openai) (2.33.2)\n",
            "Requirement already satisfied: typing-inspection>=0.4.0 in /usr/local/lib/python3.11/dist-packages (from pydantic<3,>=1.9.0->openai) (0.4.1)\n",
            "Collecting sacrebleu\n",
            "  Downloading sacrebleu-2.5.1-py3-none-any.whl.metadata (51 kB)\n",
            "\u001b[2K     \u001b[90m━━━━━━━━━━━━━━━━━━━━━━━━━━━━━━━━━━━━━━━━\u001b[0m \u001b[32m51.8/51.8 kB\u001b[0m \u001b[31m2.1 MB/s\u001b[0m eta \u001b[36m0:00:00\u001b[0m\n",
            "\u001b[?25hCollecting portalocker (from sacrebleu)\n",
            "  Downloading portalocker-3.2.0-py3-none-any.whl.metadata (8.7 kB)\n",
            "Requirement already satisfied: regex in /usr/local/lib/python3.11/dist-packages (from sacrebleu) (2024.11.6)\n",
            "Requirement already satisfied: tabulate>=0.8.9 in /usr/local/lib/python3.11/dist-packages (from sacrebleu) (0.9.0)\n",
            "Requirement already satisfied: numpy>=1.17 in /usr/local/lib/python3.11/dist-packages (from sacrebleu) (2.0.2)\n",
            "Collecting colorama (from sacrebleu)\n",
            "  Downloading colorama-0.4.6-py2.py3-none-any.whl.metadata (17 kB)\n",
            "Requirement already satisfied: lxml in /usr/local/lib/python3.11/dist-packages (from sacrebleu) (5.4.0)\n",
            "Downloading sacrebleu-2.5.1-py3-none-any.whl (104 kB)\n",
            "\u001b[2K   \u001b[90m━━━━━━━━━━━━━━━━━━━━━━━━━━━━━━━━━━━━━━━━\u001b[0m \u001b[32m104.1/104.1 kB\u001b[0m \u001b[31m4.3 MB/s\u001b[0m eta \u001b[36m0:00:00\u001b[0m\n",
            "\u001b[?25hDownloading colorama-0.4.6-py2.py3-none-any.whl (25 kB)\n",
            "Downloading portalocker-3.2.0-py3-none-any.whl (22 kB)\n",
            "Installing collected packages: portalocker, colorama, sacrebleu\n",
            "Successfully installed colorama-0.4.6 portalocker-3.2.0 sacrebleu-2.5.1\n"
          ]
        }
      ],
      "source": [
        "!pip install openai\n",
        "!pip install sacrebleu"
      ]
    },
    {
      "cell_type": "code",
      "execution_count": 2,
      "metadata": {
        "id": "o3xKal2CBPYg"
      },
      "outputs": [],
      "source": [
        "import pandas as pd\n",
        "import sacrebleu\n",
        "import openai\n",
        "import time"
      ]
    },
    {
      "cell_type": "code",
      "execution_count": 3,
      "metadata": {
        "id": "ZZRG29lWCMel"
      },
      "outputs": [],
      "source": [
        "en_file_path = \"/content/English.txt\"\n",
        "pr_file_path = \"/content/Persian.txt\"\n",
        "\n",
        "with open(en_file_path, \"r\") as file:\n",
        "    english = [line.strip() for line in file]\n",
        "\n",
        "with open(pr_file_path, \"r\") as file:\n",
        "    persian = [line.strip() for line in file]"
      ]
    },
    {
      "cell_type": "markdown",
      "metadata": {
        "id": "IBkjbEBRvW97"
      },
      "source": [
        "## Sentences"
      ]
    },
    {
      "cell_type": "markdown",
      "metadata": {
        "id": "7snOkZKZGRaC"
      },
      "source": [
        "### English"
      ]
    },
    {
      "cell_type": "code",
      "execution_count": 4,
      "metadata": {
        "id": "XMaaiwWBTJes"
      },
      "outputs": [],
      "source": [
        "en_sentences_50 = [\n",
        "    '\"in the heat and sands of India, the mud and swamp of Africa, the purlieus of London, wherever in short the climate or the devil tempts men to fall from the true belief which is her own is even now engaged in dashing down shrines, smashing idols, and setting up in their place her own stern countenance.\"',\n",
        "    'Conversion is her name',\n",
        "    '\"she feasts on the wills of the weakly, loving to impress, to impose, adoring her own features stamped on the face of the populace.\"',\n",
        "    'At Hyde Park Corner on a tub she stands preaching;',\n",
        "    '\"shrouds herself in white and walks penitentially disguised as brotherly love through factories and parliaments; offers help, but desires power;\"',\n",
        "    '\"smites out of her way roughly the dissentient, or dissatisfied; bestows her blessing on those who, looking upward, catch submissively from her eyes the light of their own.\"',\n",
        "    '\"This lady too Rezia Warren Smith divined it had her dwelling in Sir William\\'s heart, though concealed, as she mostly is, under some plausible disguise; some venerable name; love, duty, self sacrifice.\"',\n",
        "    'How he would work',\n",
        "    '\"how toil to raise funds, propagate reforms, initiate institutions!\"',\n",
        "    '\"But conversion, fastidious Goddess, loves blood better than brick, and feasts most subtly on the human will.\"',\n",
        "    '\"For example, Lady Bradshaw.\"',\n",
        "    'Fifteen years ago she had gone under.',\n",
        "    '\"It was nothing you could put your finger on; there had been no scene, no snap; only the slow sinking, water logged, of her will into his.\"',\n",
        "    '\"Sweet was her smile, swift her submission; dinner in Harley Street, numbering eight or nine courses, feeding ten or fifteen guests of the professional classes, was smooth and urbane.\"',\n",
        "    '\"Only as the evening wore on a very slight dulness, or uneasiness perhaps, a nervous twitch, fumble, stumble and confusion indicated, what it was really painful to believe\"',\n",
        "    'that the poor lady lied.',\n",
        "    '\"Once, long ago, she had caught salmon freely:\"',\n",
        "    '\"now, quick to minister to the craving which lit her husband\\'s eye so oilily for dominion, for power, she cramped, squeezed, pared, pruned, drew back, peeped through; so that without knowing precisely what made the evening disagreeable, and caused this pressure on the top of the head which might well be imputed to the professional conversation, or the fatigue of a great doctor whose life, Lady Bradshaw said, is not his own but his patients\\' disagreeable it was:\"',\n",
        "    '\"so that guests, when the clock struck ten, breathed in the air of Harley Street even with rapture; which relief, however, was denied to his patients.\"',\n",
        "    '\"There in the grey room, with the pictures on the wall, and the valuable furniture, under the ground glass skylight, they learnt the extent of their transgressions; huddled up in arm chairs, they watched him go through, for their benefit, a curious exercise with the arms, which he shot out, brought sharply back to his hip, to prove if the patient was obstinate that Sir William was master of his own actions, which the patient was not.\"',\n",
        "    '\"There some weakly broke down; sobbed, submitted;\"',\n",
        "    '\"others, inspired by Heaven knows what intemperate madness, called Sir William to his face a damnable humbug; questioned, even more impiously, life itself.\"',\n",
        "    'Why live?',\n",
        "    'Sir William replied that life was good.',\n",
        "    '\"Certainly Lady Bradshaw in ostrich feathers hung over the mantelpiece, and as for his income it was quite twelve thousand a year.\"',\n",
        "    '\"But to us, they protested, life has given no such bounty.\"',\n",
        "    'He acquiesced.',\n",
        "    'They lacked a sense of proportion.',\n",
        "    '\"And perhaps, after all, there is no God?\"',\n",
        "    'He shrugged his shoulders.',\n",
        "    '\"In short, this living or not living is an affair of our own?\"',\n",
        "    'But there they were mistaken.',\n",
        "    '\"Sir William had a friend in Surrey where they taught, what Sir William frankly admitted was a difficult art\"',\n",
        "    'a sense of proportion.',\n",
        "    '\"There were, moreover, family affection; honour; courage; and a brilliant career.\"',\n",
        "    'All of these had in Sir William a resolute champion.',\n",
        "    '\"If they failed him,\"',\n",
        "    '\"he had to support police and the good of society, which, he remarked very quietly, would take care, down in Surrey, that these unsocial impulses, bred more than anything by the lack of good blood, were held in control.\"',\n",
        "    '\"And then stole out from her hiding place and mounted her throne that Goddess whose lust is to override opposition, to stamp indelibly in the sanctuaries of others the image of herself.\"',\n",
        "    '\"Naked, defenceless, the exhausted, the friendless received the impress of Sir William\\'s will.\"',\n",
        "    'He swooped;',\n",
        "    'he devoured.',\n",
        "    'He shut people up.',\n",
        "    'It was this combination of decision and humanity that endeared Sir William so greatly to the relations of his victims.',\n",
        "    '\"But Rezia Warren Smith cried, walking down Harley Street, that she did not like that man.\"',\n",
        "    '\"Shredding and slicing, dividing and subdividing, the clocks of Harley Street nibbled at the June day, counselled submission, upheld authority, and pointed out in chorus the supreme advantages of a sense of proportion, until the mound of time was so far diminished that a commercial clock, suspended above a shop in Oxford Street, announced, genially and fraternally, as if it were a pleasure to Messrs.\"',\n",
        "    '\"Rigby and Lowndes to give the information gratis, that it was half past one.\"',\n",
        "    '\"Looking up, it appeared that each letter of their names stood for one of the hours;\"',\n",
        "    'subconsciously one was grateful to Rigby and Lowndes for giving one time ratified by Greenwich;',\n",
        "    '\"this gratitude so Hugh Whitbread ruminated, dallying there in front of the shop window , naturally took the form later of buying off Rigby and Lowndes socks or shoes.\"'\n",
        "    ]"
      ]
    },
    {
      "cell_type": "markdown",
      "metadata": {
        "id": "yEXIIO2KGUAh"
      },
      "source": [
        "### Persian"
      ]
    },
    {
      "cell_type": "code",
      "execution_count": 5,
      "metadata": {
        "id": "ljEQ90gCHFn5"
      },
      "outputs": [],
      "source": [
        "pr_sentences_50 = [\n",
        "    \"در گرما و ماسه هایس هندوستان، گل و باتلاق آفریقا، حواشی لندن، هر جا کهخلاصه اقلیم یا شیطان انسانتن‌ها را وسوسه می‌کند تا از صراط راستینی که از آن اوست بلغزند حتی در همین لحظه مشغول پایین کشیدن محراب‌ها، خرد کردن بت‌ها و بر پا کردن چهرة عبوس خود به جای آن‌هاست.\",\n",
        "    \"نامش همکیش گردانی است\",\n",
        "    \"از ارادة ضعیفان سور خویش فراهم می‌آورد، عاشق تاثیر گذاشتن است، تحمیل کردن، ستایش وجنات خویش که به صورت عوام الناس مهر شده است.\",\n",
        "    \"در هاید پارک کرنر بر گلدانی ایستاده موعظه می‌کند؛\",\n",
        "    \"پیچیده در دایی سفید به نشان توبه با لباس مبدل عشق برادرانه در کارخانه‌ها و مجالس قانونگذاری راه می‌رود؛ پیشنهاد کمک می‌کند، اما طالب قدرت است.\",\n",
        "    \"مخالفان، یا ناراضیان را با خشونت از سر راه خود کنار میزند؛ دعای خیر خود را نثار آنان می‌کند که رو به بالاکرده، مطیعانه فروغ چشمان خود را از چشمان او می‌گیرند.\",\n",
        "    \"این بانو هم رتزیا وارن اسمیت به فراست در یافت د قلب سر ویلیام جایداشت هر چند پنهان بود چنان که اغلب هست در لباس مبدلی موجه ناامی والا عشق وظیفه از خود گذشتگی.\",\n",
        "    \"اماده که چه کارها بکند\",\n",
        "    \"چه زحمت‌ها که بکشد تا منابع مالی را تامین کند اصطلاحات را ترویج کند نهادهایی به راه اندازد.\",\n",
        "    \"اما همکیش گردانی ایزد بانوی سختگیر خون را بیش از خشت دوست دارد و به ظریف‌ترین وجهی اراده‌ی انسان را سفره‌ی سور خود می‌کند.\",\n",
        "    \"نمونه‌اش لیدی بردشاو\",\n",
        "    \"پانزده سال پیز فرو رفته بود\",\n",
        "    \"چیزی نبود که بشود دقیقا بر ان انگشت گذاشت نه جنجالی نه ترق توروقی فقط فرو نشستن به طی اراده‌ی او بود غرقاب اراده‌ی سر ویلیام.\",\n",
        "    \"لبخندش شیرین بود منقاد شدنش سریع شام در خیابان هارلی به تعدا هشت تا نه مرحله تغذیه ده پانزده مهمان از اهالی تخصص‌های گوناگون نرم و با نزاکت تمام.\",\n",
        "    \"اما پاسی از شب که می‌گذشت گرفتگی بسیار مختصری یا شاید معذب بودنی پرشی عصبی تته پته‌ای تبقی و سردرگمی ای که چیزی را بر ملا می‌کرد که باور کردنش واقعا دردناک بود.\",\n",
        "    \"اینکه بانوی بیچاره دروغ می‌گفت.\",\n",
        "    \"زمانی، خیلی پیش، ازاد و رها به صید قزل الا می‌رفت\",\n",
        "    \"حال‌تر و فرز اماده در خدمت عطش سلطه قدرت که چشمان شوهرش را به نوری چرب بر می‌افروخت جمع می‌شد فشرده می‌شد تقلیل می‌یافت هرس می‌شد واپس مینشست سرک می‌کشید طوری که ب یاینکه دقیقا معلوم باشد که چه چیزی ان شب را نامطبوع کرده و سب این فشار بر بالای سر شده که به احتمال زیاد می‌شد ان را به مکالمات حرفه‌ای نسبت داد یا خستگی پزش عالیقدری که زندگی‌اش به قول لیدی بردشاو مال خودش نیست بلکه مال بیمارانش است شبی نامطبوع می‌شد.\",\n",
        "    \"طوری که مهمانان وقتی ساعت ده ضربه می‌زد هوای خیابان هارلی را می‌شد گفت با شعفی زایدالوصف فرو می‌بردند تسکینی که البته بیمارانش از ان محروم بودند.\",\n",
        "    \"انجا در اتاق خاکستری با تابلوهای روی دیوار و اثاث گرانقیمت زیر نورگیر شیشه مات درجه‌ی انحرافشان را در میافتند گلوله شده در صندلی‌های راحتی تماشایش می‌کردند که برای انکه ببیند حرکت عجیبی با دست‌هایش می‌کند ان‌ها را سریع دراز می‌کرد به تندی به دو طرف راهنها بر می‌گرداند تا اگر بیمار سرسخت بود ثابت کند که سر ویلیام مسلط به امور خود است و بیمار نیست.\",\n",
        "    \"اینجا بود که ادم‌های ضعیف در هم می‌شکستند به گریه می‌افتادند تسلیم می‌شدند.\",\n",
        "    \"بقیه با الهام از خدا می‌داند کدام جنون مفرط رو در روی سر ویلیام او را شیاد ملعون می‌نامیدند با تکبری حتی بیشتر در خود زندگی چون و چرا می‌کردند.\",\n",
        "    \"اصلا چرا زنده بمانند؟\",\n",
        "    \"سر ویلیام پاسخ می‌داد که زندگی خودب است\",\n",
        "    \"البته لیدی بردشاو با پرهای شترمرغ بر بالای بخاری اویزان بود و او هم که دوازده هزار تایی در سال در امد داشت اعتراض می‌کردند.\",\n",
        "    \"اما زندگی به ما چنین نعمت‌هایی ارزانی نداشته است\",\n",
        "    \"قبول می‌کرد\",\n",
        "    \"ان‌ها درک از تناسب امور را از ست داده بودند\",\n",
        "    \"تازه شاید هم از همه‌ی این حرف‌ها گذشته اصلا خدایی در کار نباشد؟\",\n",
        "    \"شانه بالا می‌انداخت\",\n",
        "    \"خلاصه مگر نه اینکه این زندگی کردن یا زندگی نکردن به خودمان مربوط می‌شود\",\n",
        "    \"اما این یکی را اشتباه می‌کردند\",\n",
        "    \"سر ویلیام در ساری دوستی داشت که در انجا چیزی را اموزش می‌داد که سر ویلیام با صداقت اذعان می‌کرد هنر دشواری است.\",\n",
        "    \"درک از تناسب امور،\",\n",
        "    \"علاوه بر این، محبت خویشان هم بود؛ شرافت؛ شجاعت؛ و اینه‌ی شغلی درخشان.\",\n",
        "    \"همه‌ی این‌ها در سر ویلیام پرچمداری ثابت قدم داشت\",\n",
        "    \"اگر از ان‌ها کاری بر نمیامد\",\n",
        "    \"مجبور بود پلیس و خیر و صلاح جامعه را به حمایت خویش فراخواند که خیلی ارام خاطر نشان می‌کرد انجا در ساری مراقبت خواهند بود که این تکانه‌های غیر اجتماعی که بیش از هر چیز بر اثر فقدان اصل و نسب خوب نشو و نما می‌کنند مهار شوند.\",\n",
        "    \"و بعد ان ایزد بانو که شهوت منکوب کردن مخالفت داشت کوباندن مهر پاک ناشدنی تصویر خویش در حریم دیگران، از نهانگاه خود بیرون می‌خزید و بر تخت خود جلوس می‌کرد.\",\n",
        "    \"عریان بی دفاع از رمق افتادگان و بی کس ماندگان نشان اراده سر ویلیام را پذیرا می‌شدند.\",\n",
        "    \"حمله ور می‌شد\",\n",
        "    \"می‌بلعید.\",\n",
        "    \"آدم‌ها را خفه می‌کرد.\",\n",
        "    \"همین ترکیب عزم جزم و انسانیت بود که سر ویلیام را این همه در چشم خویشاوندان قربانیانش عزیز می‌کرد.\",\n",
        "    \"امارتزیا وارن اسمیت در خیابان هارلی که می‌رفت فریاد می‌زد که آن مرد را دوست ندذراد.\",\n",
        "    \"ساعت‌ها در خیابان هارلی ریزریز کنان و قطعه کنان در کار تقسیم و تقسیم دوباره روز ماه ژوئن را دندان می‌زدند توصیه به اطاعت می‌کردند اقتدار را تأیید می‌کردند و هماوا با هم مزایای عالی درک از تناسب اور را خاطرنشان می‌کردند تا وقتی که توده زمان چنان فروکاسته شد که ساعتی تبلغاتی آویخته بر فراز مغازه‌ای در خیابان اکسفورد با مهربانی و برادرانه اعلام کرد که ساعت یک و نیم است.\",\n",
        "    \"گویی آقایان ریگبی و لوندیز از ارائه رایگان این اطلاعات مسرور باشند.\",\n",
        "    \"به بالا که نگاه می‌کردی به نظر می‌رسید که هر حرف نامشان جای یی از اعدا ساعت است.\",\n",
        "    \"نیم خودآگاه ممنون ریگبی و لوندیز می‌شد که وقتی به آدم خبر می‌دادند که به تأیید گرینیچ رسیده بود.\",\n",
        "    \"این امتنان در ذهن هیو ویتربد که در مقابل ویترین مغازه به غور مشغول بود طبعا بعدش به شکل خریداری جوراب یا کفش از ریگبی و لوندیز بروز می‌کرد.\"\n",
        "]"
      ]
    },
    {
      "cell_type": "markdown",
      "metadata": {
        "id": "16RdkN5xFV2b"
      },
      "source": [
        "## English Prompt - English to Persian"
      ]
    },
    {
      "cell_type": "markdown",
      "metadata": {
        "id": "gd3RMJQMFefv"
      },
      "source": [
        "### Zeroshot"
      ]
    },
    {
      "cell_type": "code",
      "execution_count": null,
      "metadata": {
        "id": "CnXn8kvrN7yI"
      },
      "outputs": [],
      "source": [
        "import openai\n",
        "import time\n",
        "\n",
        "# Khai báo API key\n",
        "client = openai.Client(api_key='--')\n",
        "\n",
        "# Hàm lấy completion\n",
        "def get_completion(prompt, model=\"gpt-3.5-turbo\"):\n",
        "    if isinstance(prompt, str):\n",
        "        messages = [{\"role\": \"user\", \"content\": prompt}]\n",
        "    elif isinstance(prompt, list):\n",
        "        messages = prompt\n",
        "\n",
        "    response = client.chat.completions.create(\n",
        "        model=model,\n",
        "        messages=messages,\n",
        "        temperature=0\n",
        "    )\n",
        "\n",
        "    return response.choices[0].message.content\n",
        "\n",
        "# Hàm dịch và lưu\n",
        "def translate_and_save(sentences, source_language, target_language, output_file):\n",
        "    prompt_intro = (\n",
        "        f\"In this task, which is Machine Translation (MT), you will be presented with a sentence in {source_language}. \"\n",
        "        f\"You should translate it to {target_language} in the most appropriate way.\"\n",
        "    )\n",
        "\n",
        "    with open(output_file, 'w', encoding='utf-8') as f:\n",
        "        for sentence in sentences:\n",
        "            prompt = f\"{prompt_intro}\\n{source_language} to {target_language}: {sentence}\"\n",
        "\n",
        "            # Gọi API dịch\n",
        "            translated_sentence = get_completion(prompt).strip()\n",
        "\n",
        "            # Lưu kết quả\n",
        "            f.write(translated_sentence + '\\n')\n",
        "\n",
        "            # Delay để tránh vượt giới hạn tốc độ\n",
        "            time.sleep(20)"
      ]
    },
    {
      "cell_type": "code",
      "execution_count": 7,
      "metadata": {
        "id": "aIeHZmdwxSP0"
      },
      "outputs": [],
      "source": [
        "translate_and_save(\n",
        "    en_sentences_50,\n",
        "    source_language=\"English\",\n",
        "    target_language=\"Persian\",\n",
        "    output_file=\"/content/ENPrompt-EN-PER-0shot.txt\"\n",
        ")"
      ]
    },
    {
      "cell_type": "code",
      "execution_count": 8,
      "metadata": {
        "colab": {
          "base_uri": "https://localhost:8080/"
        },
        "id": "Opt__JM5sDun",
        "outputId": "0765398f-3748-4dae-fcf8-e5a10c66bf4a"
      },
      "outputs": [
        {
          "name": "stdout",
          "output_type": "stream",
          "text": [
            "BLEU = 6.06 38.3/11.7/4.0/1.5 (BP = 0.841 ratio = 0.853 hyp_len = 1008 ref_len = 1182)\n"
          ]
        }
      ],
      "source": [
        "enenpr0_file_path = \"/content/ENPrompt-EN-PER-0shot.txt\"\n",
        "\n",
        "with open(enenpr0_file_path, \"r\") as file:\n",
        "    enenpr0 = [line.strip() for line in file]\n",
        "\n",
        "bleu = sacrebleu.corpus_bleu(enenpr0, [persian])\n",
        "\n",
        "print(bleu)"
      ]
    },
    {
      "cell_type": "markdown",
      "metadata": {
        "id": "3eXm3MxHFg7k"
      },
      "source": [
        "### Oneshot"
      ]
    },
    {
      "cell_type": "code",
      "execution_count": null,
      "metadata": {
        "id": "8UfrIeDVtTXj"
      },
      "outputs": [],
      "source": [
        "# # Import your OpenAI API key\n",
        "# openai.api_key = ''\n",
        "\n",
        "# def get_completion(prompt, model=\"gpt-3.5-turbo\"):\n",
        "#     if type(prompt) == str:\n",
        "#         messages = [{\"role\": \"user\", \"content\": prompt}]\n",
        "#     elif type(prompt) == list:\n",
        "#         messages = prompt\n",
        "\n",
        "#     response = openai.ChatCompletion.create(\n",
        "#         model=model,\n",
        "#         messages=messages,\n",
        "#         temperature=0,\n",
        "#     )\n",
        "#     return response['choices'][0]['message']['content']\n",
        "\n",
        "# def translate_and_save(sentences, source_language, target_language, output_file):\n",
        "#     # Prompt for machine translation task\n",
        "#     prompt_intro = (\n",
        "#         f\"In this task, which is Machine Translation (MT), you will be presented with a sentence in {source_language}\"\n",
        "#         f\"You should translate it to {target_language} in the most appropriate way.\"\n",
        "\n",
        "#         f\"Here is an example for this task, which is translating sentecnes from {source_language} to {target_language}:\"\n",
        "#         \"'This is a sample sentence that we are going to translate it.' -> 'این یک جمله‌ی نمونه است که می‌خواهیم آن را ترجمه کنیم.'\"\n",
        "#     )\n",
        "\n",
        "#     # Get the translation for each sentence and save it to a file\n",
        "#     with open(output_file, 'w', encoding='utf-8') as f:\n",
        "#         for sentence in sentences:\n",
        "#             prompt = f\"{prompt_intro}\\n\\n{source_language} to {target_language}: {sentence}\"\n",
        "\n",
        "#             # Get the translation for the current sentence\n",
        "#             response = get_completion(prompt)\n",
        "\n",
        "#             # Extract and save the translated sentence\n",
        "#             translated_sentence = response.strip()\n",
        "#             f.write(translated_sentence + '\\n')\n",
        "\n",
        "#             # Add a delay of 20 seconds between requests\n",
        "#             time.sleep(20)"
      ]
    },
    {
      "cell_type": "code",
      "execution_count": null,
      "metadata": {
        "id": "NnVB7igxPGPu"
      },
      "outputs": [],
      "source": [
        "import openai\n",
        "import time\n",
        "\n",
        "# Khai báo API key\n",
        "client = openai.Client(api_key='--')\n",
        "\n",
        "# Hàm lấy completion\n",
        "def get_completion(prompt, model=\"gpt-3.5-turbo\"):\n",
        "    if isinstance(prompt, str):\n",
        "        messages = [{\"role\": \"user\", \"content\": prompt}]\n",
        "    elif isinstance(prompt, list):\n",
        "        messages = prompt\n",
        "\n",
        "    response = client.chat.completions.create(\n",
        "        model=model,\n",
        "        messages=messages,\n",
        "        temperature=0\n",
        "    )\n",
        "\n",
        "    return response.choices[0].message.content\n",
        "\n",
        "def translate_and_save(sentences, source_language, target_language, output_file):\n",
        "    # Prompt for machine translation task\n",
        "    prompt_intro = (\n",
        "        f\"In this task, which is Machine Translation (MT), you will be presented with a sentence in {source_language}\"\n",
        "        f\"You should translate it to {target_language} in the most appropriate way.\"\n",
        "\n",
        "        f\"Here is an example for this task, which is translating sentecnes from {source_language} to {target_language}:\"\n",
        "        \"'This is a sample sentence that we are going to translate it.' -> 'این یک جمله‌ی نمونه است که می‌خواهیم آن را ترجمه کنیم.'\"\n",
        "    )\n",
        "\n",
        "    # Get the translation for each sentence and save it to a file\n",
        "    with open(output_file, 'w', encoding='utf-8') as f:\n",
        "        for sentence in sentences:\n",
        "            prompt = f\"{prompt_intro}\\n\\n{source_language} to {target_language}: {sentence}\"\n",
        "\n",
        "            # Get the translation for the current sentence\n",
        "            response = get_completion(prompt)\n",
        "\n",
        "            # Extract and save the translated sentence\n",
        "            translated_sentence = response.strip()\n",
        "            f.write(translated_sentence + '\\n')\n",
        "\n",
        "            # Add a delay of 20 seconds between requests\n",
        "            time.sleep(20)"
      ]
    },
    {
      "cell_type": "code",
      "execution_count": 10,
      "metadata": {
        "id": "Y4qn41oJ931N"
      },
      "outputs": [],
      "source": [
        "translate_and_save(\n",
        "    en_sentences_50,\n",
        "    source_language=\"English\",\n",
        "    target_language=\"Persian\",\n",
        "    output_file=\"/content/ENPrompt-EN-PER-1shot.txt\"\n",
        ")"
      ]
    },
    {
      "cell_type": "code",
      "execution_count": 11,
      "metadata": {
        "colab": {
          "base_uri": "https://localhost:8080/"
        },
        "id": "ZQiDHD2YxMob",
        "outputId": "00c8914d-7c56-49b3-b471-6434766bfbdd"
      },
      "outputs": [
        {
          "name": "stdout",
          "output_type": "stream",
          "text": [
            "BLEU = 6.45 39.3/13.0/4.4/1.5 (BP = 0.846 ratio = 0.857 hyp_len = 1013 ref_len = 1182)\n"
          ]
        }
      ],
      "source": [
        "enenpr1_file_path = \"/content/ENPrompt-EN-PER-1shot.txt\"\n",
        "\n",
        "with open(enenpr1_file_path, \"r\") as file:\n",
        "    enenpr1 = [line.strip() for line in file]\n",
        "\n",
        "bleu = sacrebleu.corpus_bleu(enenpr1, [persian])\n",
        "\n",
        "print(bleu)"
      ]
    },
    {
      "cell_type": "markdown",
      "metadata": {
        "id": "bNkw_IrOFi5Z"
      },
      "source": [
        "### Fewshot"
      ]
    },
    {
      "cell_type": "code",
      "execution_count": null,
      "metadata": {
        "id": "D2bfy1IUtf9t"
      },
      "outputs": [],
      "source": [
        "# # Import your OpenAI API key\n",
        "# openai.api_key = ''\n",
        "\n",
        "# def get_completion(prompt, model=\"gpt-3.5-turbo\"):\n",
        "#     if type(prompt) == str:\n",
        "#         messages = [{\"role\": \"user\", \"content\": prompt}]\n",
        "#     elif type(prompt) == list:\n",
        "#         messages = prompt\n",
        "\n",
        "#     response = openai.ChatCompletion.create(\n",
        "#         model=model,\n",
        "#         messages=messages,\n",
        "#         temperature=0,  # You can adjust the temperature as needed\n",
        "#     )\n",
        "#     return response['choices'][0]['message']['content']\n",
        "\n",
        "# def translate_and_save(sentences, source_language, target_language, output_file):\n",
        "#     # Prompt for machine translation task\n",
        "#     prompt_intro = (\n",
        "#         f\"In this task, which is Machine Translation (MT), you will be presented with a sentence in {source_language}\"\n",
        "#         f\"You should translate it to {target_language} in the most appropriate way.\"\n",
        "\n",
        "#         f\"Here are some examples for this task, which is translating sentecnes from {source_language} to {target_language}:\"\n",
        "#         \"'I love programming.' -> 'من برنامه‌نویسی را دوست دارم.'\"\n",
        "#         \"'Cooking a delicious meal requires a combination of ingredients and techniques.' -> 'پخت یک وعده غذای خوشمزه نیازمند ترکیبی از مواد اولیه و تکنیک‌هاست.'\"\n",
        "#         \"'In the realm of artificial intelligence, neural networks play a pivotal role.' -> 'در دنیای هوش مصنوعی، شبکه‌های عصبی نقشی کلیدی ایفا می‌کنند.'\"\n",
        "#     )\n",
        "#     # Get the translation for each sentence and save it to a file\n",
        "#     with open(output_file, 'w', encoding='utf-8') as f:\n",
        "#         for sentence in sentences:\n",
        "#             prompt = f\"{prompt_intro}\\n{source_language} to {target_language}: {sentence}\"\n",
        "\n",
        "#             # Get the translation for the current sentence\n",
        "#             response = get_completion(prompt)\n",
        "\n",
        "#             # Extract and save the translated sentence\n",
        "#             translated_sentence = response.strip()\n",
        "#             f.write(translated_sentence + '\\n')\n",
        "\n",
        "#             # Add a delay of 20 seconds between requests\n",
        "#             time.sleep(24)"
      ]
    },
    {
      "cell_type": "code",
      "execution_count": null,
      "metadata": {
        "id": "thpaWQctdEma"
      },
      "outputs": [],
      "source": [
        "import openai\n",
        "import time\n",
        "\n",
        "# Khai báo API key\n",
        "client = openai.Client(api_key='--')\n",
        "\n",
        "# Hàm lấy completion\n",
        "def get_completion(prompt, model=\"gpt-3.5-turbo\"):\n",
        "    if isinstance(prompt, str):\n",
        "        messages = [{\"role\": \"user\", \"content\": prompt}]\n",
        "    elif isinstance(prompt, list):\n",
        "        messages = prompt\n",
        "\n",
        "    response = client.chat.completions.create(\n",
        "        model=model,\n",
        "        messages=messages,\n",
        "        temperature=0\n",
        "    )\n",
        "\n",
        "    return response.choices[0].message.content\n",
        "\n",
        "def translate_and_save(sentences, source_language, target_language, output_file):\n",
        "    # Prompt for machine translation task\n",
        "    prompt_intro = (\n",
        "        f\"In this task, which is Machine Translation (MT), you will be presented with a sentence in {source_language}\"\n",
        "        f\"You should translate it to {target_language} in the most appropriate way.\"\n",
        "\n",
        "        f\"Here are some examples for this task, which is translating sentecnes from {source_language} to {target_language}:\"\n",
        "        \"'I love programming.' -> 'من برنامه‌نویسی را دوست دارم.'\"\n",
        "        \"'Cooking a delicious meal requires a combination of ingredients and techniques.' -> 'پخت یک وعده غذای خوشمزه نیازمند ترکیبی از مواد اولیه و تکنیک‌هاست.'\"\n",
        "        \"'In the realm of artificial intelligence, neural networks play a pivotal role.' -> 'در دنیای هوش مصنوعی، شبکه‌های عصبی نقشی کلیدی ایفا می‌کنند.'\"\n",
        "    )\n",
        "    # Get the translation for each sentence and save it to a file\n",
        "    with open(output_file, 'w', encoding='utf-8') as f:\n",
        "        for sentence in sentences:\n",
        "            prompt = f\"{prompt_intro}\\n{source_language} to {target_language}: {sentence}\"\n",
        "\n",
        "            # Get the translation for the current sentence\n",
        "            response = get_completion(prompt)\n",
        "\n",
        "            # Extract and save the translated sentence\n",
        "            translated_sentence = response.strip()\n",
        "            f.write(translated_sentence + '\\n')\n",
        "\n",
        "            # Add a delay of 20 seconds between requests\n",
        "            time.sleep(24)"
      ]
    },
    {
      "cell_type": "code",
      "execution_count": 13,
      "metadata": {
        "id": "PBUvz2_3GpgM"
      },
      "outputs": [],
      "source": [
        "translate_and_save(\n",
        "    en_sentences_50,\n",
        "    source_language=\"English\",\n",
        "    target_language=\"Persian\",\n",
        "    output_file=\"/content/ENPrompt-EN-PER-3shot.txt\"\n",
        ")"
      ]
    },
    {
      "cell_type": "code",
      "execution_count": 14,
      "metadata": {
        "colab": {
          "base_uri": "https://localhost:8080/"
        },
        "id": "KP6yOfG1xuek",
        "outputId": "5c1974e3-bc28-4afc-aeb3-dd33a623898c"
      },
      "outputs": [
        {
          "name": "stdout",
          "output_type": "stream",
          "text": [
            "BLEU = 7.27 39.9/14.1/5.1/1.7 (BP = 0.871 ratio = 0.879 hyp_len = 1039 ref_len = 1182)\n"
          ]
        }
      ],
      "source": [
        "enenpr3_file_path = \"/content/ENPrompt-EN-PER-3shot.txt\"\n",
        "\n",
        "with open(enenpr3_file_path, \"r\") as file:\n",
        "    enenpr3 = [line.strip() for line in file]\n",
        "\n",
        "bleu = sacrebleu.corpus_bleu(enenpr3, [persian])\n",
        "\n",
        "print(bleu)"
      ]
    },
    {
      "cell_type": "markdown",
      "metadata": {
        "id": "k-4PipNLFUiA"
      },
      "source": [
        "## English Prompt - Persian to English"
      ]
    },
    {
      "cell_type": "markdown",
      "metadata": {
        "id": "JyWbdPFbF35Z"
      },
      "source": [
        "### Zeroshot"
      ]
    },
    {
      "cell_type": "code",
      "execution_count": null,
      "metadata": {
        "id": "9JNL8T-nF5m1"
      },
      "outputs": [],
      "source": [
        "# # Import your OpenAI API key\n",
        "# openai.api_key = ''\n",
        "\n",
        "# def get_completion(prompt, model=\"gpt-3.5-turbo\"):\n",
        "#     if type(prompt) == str:\n",
        "#         messages = [{\"role\": \"user\", \"content\": prompt}]\n",
        "#     elif type(prompt) == list:\n",
        "#         messages = prompt\n",
        "\n",
        "#     response = openai.ChatCompletion.create(\n",
        "#         model=model,\n",
        "#         messages=messages,\n",
        "#         temperature=0,  # You can adjust the temperature as needed\n",
        "#     )\n",
        "#     return response['choices'][0]['message']['content']\n",
        "\n",
        "# def translate_and_save(sentences, source_language, target_language, output_file):\n",
        "#     # Prompt for machine translation task\n",
        "#     prompt_intro = (\n",
        "#         f\"In this task, which is Machine Translation (MT), you will be presented with a sentence in the {source_language} (Farsi) language.\"\n",
        "#         f\"You should translate it to {target_language} in the most appropriate way.\"\n",
        "#     )\n",
        "#     # Get the translation for each sentence and save it to a file\n",
        "#     with open(output_file, 'w', encoding='utf-8') as f:\n",
        "#         for sentence in sentences:\n",
        "#             prompt = f\"{prompt_intro}\\n{source_language} to {target_language}: {sentence}\"\n",
        "\n",
        "#             # Get the translation for the current sentence\n",
        "#             response = get_completion(prompt)\n",
        "\n",
        "#             # Extract and save the translated sentence\n",
        "#             translated_sentence = response.strip()\n",
        "#             f.write(translated_sentence + '\\n')\n",
        "\n",
        "#             # Add a delay of 20 seconds between requests\n",
        "#             time.sleep(21)"
      ]
    },
    {
      "cell_type": "code",
      "execution_count": null,
      "metadata": {
        "id": "qXWgKeLbjN_j"
      },
      "outputs": [],
      "source": [
        "import openai\n",
        "import time\n",
        "\n",
        "# Khai báo API key\n",
        "client = openai.Client(api_key='--')\n",
        "\n",
        "# Hàm lấy completion\n",
        "def get_completion(prompt, model=\"gpt-3.5-turbo\"):\n",
        "    if isinstance(prompt, str):\n",
        "        messages = [{\"role\": \"user\", \"content\": prompt}]\n",
        "    elif isinstance(prompt, list):\n",
        "        messages = prompt\n",
        "\n",
        "    response = client.chat.completions.create(\n",
        "        model=model,\n",
        "        messages=messages,\n",
        "        temperature=0\n",
        "    )\n",
        "\n",
        "    return response.choices[0].message.content\n",
        "\n",
        "def translate_and_save(sentences, source_language, target_language, output_file):\n",
        "    # Prompt for machine translation task\n",
        "    prompt_intro = (\n",
        "        f\"In this task, which is Machine Translation (MT), you will be presented with a sentence in the {source_language} (Farsi) language.\"\n",
        "        f\"You should translate it to {target_language} in the most appropriate way.\"\n",
        "    )\n",
        "    # Get the translation for each sentence and save it to a file\n",
        "    with open(output_file, 'w', encoding='utf-8') as f:\n",
        "        for sentence in sentences:\n",
        "            prompt = f\"{prompt_intro}\\n{source_language} to {target_language}: {sentence}\"\n",
        "\n",
        "            # Get the translation for the current sentence\n",
        "            response = get_completion(prompt)\n",
        "\n",
        "            # Extract and save the translated sentence\n",
        "            translated_sentence = response.strip()\n",
        "            f.write(translated_sentence + '\\n')\n",
        "\n",
        "            # Add a delay of 20 seconds between requests\n",
        "            time.sleep(21)"
      ]
    },
    {
      "cell_type": "code",
      "execution_count": 16,
      "metadata": {
        "id": "RqvRFhabbcye"
      },
      "outputs": [],
      "source": [
        "translate_and_save(\n",
        "    pr_sentences_50,\n",
        "    source_language=\"Persian\",\n",
        "    target_language=\"English\",\n",
        "    output_file=\"/content/ENPrompt-PER-EN-0shot.txt\"\n",
        ")"
      ]
    },
    {
      "cell_type": "code",
      "execution_count": 17,
      "metadata": {
        "colab": {
          "base_uri": "https://localhost:8080/"
        },
        "id": "IK0-ZjcTyjZp",
        "outputId": "4aceb687-8566-44fc-abe9-7a5be062fe04"
      },
      "outputs": [
        {
          "name": "stdout",
          "output_type": "stream",
          "text": [
            "BLEU = 12.66 43.4/16.5/8.3/4.7 (BP = 0.979 ratio = 0.979 hyp_len = 1124 ref_len = 1148)\n"
          ]
        }
      ],
      "source": [
        "enpren0_file_path = \"/content/ENPrompt-PER-EN-0shot.txt\"\n",
        "\n",
        "with open(enpren0_file_path, \"r\") as file:\n",
        "    enpren0 = [line.strip() for line in file]\n",
        "\n",
        "bleu = sacrebleu.corpus_bleu(enpren0, [english])\n",
        "\n",
        "print(bleu)"
      ]
    },
    {
      "cell_type": "markdown",
      "metadata": {
        "id": "YRze7xHWF35c"
      },
      "source": [
        "### Oneshot"
      ]
    },
    {
      "cell_type": "code",
      "execution_count": null,
      "metadata": {
        "id": "efk-PGSAF6G3"
      },
      "outputs": [],
      "source": [
        "# # Import your actual OpenAI API key\n",
        "# openai.api_key = ''\n",
        "\n",
        "# def get_completion(prompt, model=\"gpt-3.5-turbo\"):\n",
        "#     if type(prompt) == str:\n",
        "#         messages = [{\"role\": \"user\", \"content\": prompt}]\n",
        "#     elif type(prompt) == list:\n",
        "#         messages = prompt\n",
        "\n",
        "#     response = openai.ChatCompletion.create(\n",
        "#         model=model,\n",
        "#         messages=messages,\n",
        "#         temperature=0,  # You can adjust the temperature as needed\n",
        "#     )\n",
        "#     return response['choices'][0]['message']['content']\n",
        "\n",
        "# def translate_and_save(sentences, source_language, target_language, output_file):\n",
        "#     # Prompt for machine translation task\n",
        "#     prompt_intro = (\n",
        "#         f\"In this task, which is Machine Translation (MT), you will be presented with a sentence in {source_language}\"\n",
        "#         f\"You should translate it to {target_language} in the most appropriate way.\"\n",
        "\n",
        "#         f\"Here is an example for this task, which is translating sentecnes from {source_language} to {target_language}:\"\n",
        "#         \"'این یک جمله‌ی نمونه است که می‌خواهیم آن را ترجمه کنیم' -> 'This is a sample sentence that we are going to translate it.'\"\n",
        "#     )\n",
        "\n",
        "#     # Get the translation for each sentence and save it to a file\n",
        "#     with open(output_file, 'w', encoding='utf-8') as f:\n",
        "#         for sentence in sentences:\n",
        "#             prompt = f\"{prompt_intro}\\n{source_language} to {target_language}: {sentence}\"\n",
        "\n",
        "#             # Get the translation for the current sentence\n",
        "#             response = get_completion(prompt)\n",
        "\n",
        "#             # Extract and save the translated sentence\n",
        "#             translated_sentence = response.strip()\n",
        "#             f.write(translated_sentence + '\\n')\n",
        "\n",
        "#             # Add a delay of 20 seconds between requests\n",
        "#             time.sleep(21)"
      ]
    },
    {
      "cell_type": "code",
      "execution_count": null,
      "metadata": {
        "id": "U0Wfye2fplJI"
      },
      "outputs": [],
      "source": [
        "import openai\n",
        "import time\n",
        "\n",
        "# Khai báo API key\n",
        "client = openai.Client(api_key='--')\n",
        "\n",
        "# Hàm lấy completion\n",
        "def get_completion(prompt, model=\"gpt-3.5-turbo\"):\n",
        "    if isinstance(prompt, str):\n",
        "        messages = [{\"role\": \"user\", \"content\": prompt}]\n",
        "    elif isinstance(prompt, list):\n",
        "        messages = prompt\n",
        "\n",
        "    response = client.chat.completions.create(\n",
        "        model=model,\n",
        "        messages=messages,\n",
        "        temperature=0\n",
        "    )\n",
        "\n",
        "    return response.choices[0].message.content\n",
        "\n",
        "def translate_and_save(sentences, source_language, target_language, output_file):\n",
        "    # Prompt for machine translation task\n",
        "    prompt_intro = (\n",
        "        f\"In this task, which is Machine Translation (MT), you will be presented with a sentence in {source_language}\"\n",
        "        f\"You should translate it to {target_language} in the most appropriate way.\"\n",
        "\n",
        "        f\"Here is an example for this task, which is translating sentecnes from {source_language} to {target_language}:\"\n",
        "        \"'این یک جمله‌ی نمونه است که می‌خواهیم آن را ترجمه کنیم' -> 'This is a sample sentence that we are going to translate it.'\"\n",
        "    )\n",
        "\n",
        "    # Get the translation for each sentence and save it to a file\n",
        "    with open(output_file, 'w', encoding='utf-8') as f:\n",
        "        for sentence in sentences:\n",
        "            prompt = f\"{prompt_intro}\\n{source_language} to {target_language}: {sentence}\"\n",
        "\n",
        "            # Get the translation for the current sentence\n",
        "            response = get_completion(prompt)\n",
        "\n",
        "            # Extract and save the translated sentence\n",
        "            translated_sentence = response.strip()\n",
        "            f.write(translated_sentence + '\\n')\n",
        "\n",
        "            # Add a delay of 20 seconds between requests\n",
        "            time.sleep(21)"
      ]
    },
    {
      "cell_type": "code",
      "execution_count": 19,
      "metadata": {
        "id": "Kro80Zn9xuEg"
      },
      "outputs": [],
      "source": [
        "translate_and_save(\n",
        "    pr_sentences_50,\n",
        "    source_language=\"Persian\",\n",
        "    target_language=\"English\",\n",
        "    output_file=\"/content/ENPrompt-PER-EN-1shot.txt\"\n",
        ")"
      ]
    },
    {
      "cell_type": "code",
      "execution_count": 20,
      "metadata": {
        "colab": {
          "base_uri": "https://localhost:8080/"
        },
        "id": "4L0a1Ve20mkU",
        "outputId": "8a620671-df21-407e-93ce-c95061a8dba2"
      },
      "outputs": [
        {
          "name": "stdout",
          "output_type": "stream",
          "text": [
            "BLEU = 5.68 27.1/7.5/3.4/1.8 (BP = 0.965 ratio = 0.966 hyp_len = 1109 ref_len = 1148)\n"
          ]
        }
      ],
      "source": [
        "enpren1_file_path = \"/content/ENPrompt-PER-EN-1shot.txt\"\n",
        "\n",
        "with open(enpren1_file_path, \"r\") as file:\n",
        "    enpren1 = [line.strip() for line in file]\n",
        "\n",
        "bleu = sacrebleu.corpus_bleu(enpren1, [english])\n",
        "\n",
        "print(bleu)"
      ]
    },
    {
      "cell_type": "markdown",
      "metadata": {
        "id": "1rKAuL02F35e"
      },
      "source": [
        "### Fewshot"
      ]
    },
    {
      "cell_type": "code",
      "execution_count": null,
      "metadata": {
        "id": "Z2LjBv1CF2pe"
      },
      "outputs": [],
      "source": [
        "# # Import your actual OpenAI API key\n",
        "# openai.api_key = ''\n",
        "\n",
        "# def get_completion(prompt, model=\"gpt-3.5-turbo\"):\n",
        "#     if type(prompt) == str:\n",
        "#         messages = [{\"role\": \"user\", \"content\": prompt}]\n",
        "#     elif type(prompt) == list:\n",
        "#         messages = prompt\n",
        "\n",
        "#     response = openai.ChatCompletion.create(\n",
        "#         model=model,\n",
        "#         messages=messages,\n",
        "#         temperature=0,  # You can adjust the temperature as needed\n",
        "#     )\n",
        "#     return response['choices'][0]['message']['content']\n",
        "\n",
        "import openai\n",
        "import time\n",
        "\n",
        "# Khai báo API key\n",
        "client = openai.Client(api_key='--')\n",
        "\n",
        "# Hàm lấy completion\n",
        "def get_completion(prompt, model=\"gpt-3.5-turbo\"):\n",
        "    if isinstance(prompt, str):\n",
        "        messages = [{\"role\": \"user\", \"content\": prompt}]\n",
        "    elif isinstance(prompt, list):\n",
        "        messages = prompt\n",
        "\n",
        "    response = client.chat.completions.create(\n",
        "        model=model,\n",
        "        messages=messages,\n",
        "        temperature=0\n",
        "    )\n",
        "\n",
        "    return response.choices[0].message.content\n",
        "\n",
        "def translate_and_save(sentences, source_language, target_language, output_file):\n",
        "    # Prompt for machine translation task\n",
        "    prompt_intro = (\n",
        "        f\"In this task, which is Machine Translation (MT), you will be presented with a sentence in {source_language}\"\n",
        "        f\"You should translate it to {target_language} in the most appropriate way.\"\n",
        "\n",
        "        f\"Here is an example for this task, which is translating sentecnes from {source_language} to {target_language}:\"\n",
        "        \"'من عاشق برنامه‌نویسی هستم.' -> 'I love programming.'\"\n",
        "        \"'پخت یک وعده غذای خوشمزه نیازمند ترکیبی از مواد اولیه و تکنیک‌هاست.' -> 'Cooking a delicious meal requires a combination of ingredients and techniques.'\"\n",
        "        \"'در دنیای هوش مصنوعی، شبکه‌های عصبی نقشی کلیدی ایفا می‌کنند.' -> 'In the realm of artificial intelligence, neural networks play a pivotal role.'\"\n",
        "    )\n",
        "\n",
        "    # Get the translation for each sentence and save it to a file\n",
        "    with open(output_file, 'w', encoding='utf-8') as f:\n",
        "        for sentence in sentences:\n",
        "            prompt = f\"{prompt_intro}\\n{source_language} to {target_language}: {sentence}\"\n",
        "\n",
        "            # Get the translation for the current sentence\n",
        "            response = get_completion(prompt)\n",
        "\n",
        "            # Extract and save the translated sentence\n",
        "            translated_sentence = response.strip()\n",
        "            f.write(translated_sentence + '\\n')\n",
        "\n",
        "            # Add a delay of 20 seconds between requests\n",
        "            time.sleep(20)"
      ]
    },
    {
      "cell_type": "code",
      "execution_count": 22,
      "metadata": {
        "id": "GEmEs_w0yMvL"
      },
      "outputs": [],
      "source": [
        "translate_and_save(\n",
        "    pr_sentences_50,\n",
        "    source_language=\"Persian\",\n",
        "    target_language=\"English\",\n",
        "    output_file=\"/content/ENPrompt-PER-EN-3shot.txt\"\n",
        ")"
      ]
    },
    {
      "cell_type": "code",
      "execution_count": 23,
      "metadata": {
        "colab": {
          "base_uri": "https://localhost:8080/"
        },
        "id": "nwTWD95B1HI7",
        "outputId": "8938900d-6c04-4af5-e15a-941f13e47f89"
      },
      "outputs": [
        {
          "name": "stdout",
          "output_type": "stream",
          "text": [
            "BLEU = 12.27 44.0/16.6/7.8/4.2 (BP = 0.989 ratio = 0.989 hyp_len = 1135 ref_len = 1148)\n"
          ]
        }
      ],
      "source": [
        "enpren3_file_path = \"/content/ENPrompt-PER-EN-3shot.txt\"\n",
        "\n",
        "with open(enpren3_file_path, \"r\") as file:\n",
        "    enpren3 = [line.strip() for line in file]\n",
        "\n",
        "bleu = sacrebleu.corpus_bleu(enpren3, [english])\n",
        "\n",
        "print(bleu)"
      ]
    },
    {
      "cell_type": "markdown",
      "metadata": {
        "id": "Oj60TbZzAEi2"
      },
      "source": [
        "## Persian Prompt - English to Persian"
      ]
    },
    {
      "cell_type": "markdown",
      "metadata": {
        "id": "YzkUjLfTAnvy"
      },
      "source": [
        "### Zeroshot"
      ]
    },
    {
      "cell_type": "code",
      "execution_count": null,
      "metadata": {
        "id": "jeNQI8GibwfE"
      },
      "outputs": [],
      "source": [
        "# # Import your OpenAI API key\n",
        "# openai.api_key = ''\n",
        "\n",
        "# def get_completion(prompt, model=\"gpt-3.5-turbo\"):\n",
        "#     if type(prompt) == str:\n",
        "#         messages = [{\"role\": \"user\", \"content\": prompt}]\n",
        "#     elif type(prompt) == list:\n",
        "#         messages = prompt\n",
        "\n",
        "#     response = openai.ChatCompletion.create(\n",
        "#         model=model,\n",
        "#         messages=messages,\n",
        "#         temperature=0,  # You can adjust the temperature as needed\n",
        "#     )\n",
        "#     return response['choices'][0]['message']['content']\n",
        "\n",
        "import openai\n",
        "import time\n",
        "\n",
        "# Khai báo API key\n",
        "client = openai.Client(api_key='--')\n",
        "\n",
        "# Hàm lấy completion\n",
        "def get_completion(prompt, model=\"gpt-3.5-turbo\"):\n",
        "    if isinstance(prompt, str):\n",
        "        messages = [{\"role\": \"user\", \"content\": prompt}]\n",
        "    elif isinstance(prompt, list):\n",
        "        messages = prompt\n",
        "\n",
        "    response = client.chat.completions.create(\n",
        "        model=model,\n",
        "        messages=messages,\n",
        "        temperature=0\n",
        "    )\n",
        "\n",
        "    return response.choices[0].message.content\n",
        "\n",
        "def translate_and_save(sentences, source_language, target_language, output_file):\n",
        "    # Prompt for machine translation task\n",
        "    prompt_intro = (\n",
        "        \"در ادامه‌، وظیفه‌ (تکلیفی) برای شما درنظر گرفته شده است، که مربوط به  ترجمه ماشینی است. \"\n",
        "        \"به این منظور جمله‌ای به زبان انگلیسی به شما نشان داده می‌شود. \"\n",
        "        \"در نتیجه، شما باید آن جمله را به شکل مناسب و دقیق به زبان فارسی ترجمه کنید.\"\n",
        "    )\n",
        "\n",
        "    # Get the translation for each sentence and save it to a file\n",
        "    with open(output_file, 'w', encoding='utf-8') as f:\n",
        "        for sentence in sentences:\n",
        "            prompt = f\"{prompt_intro}\\n\\nجمله زیر به زبان فارسی است و باید به زبان انگلیسی ترجمه شود:\\n {sentence}\"\n",
        "\n",
        "            # Get the translation for the current sentence\n",
        "            response = get_completion(prompt)\n",
        "\n",
        "            # Extract and save the translated sentence\n",
        "            translated_sentence = response.strip()\n",
        "            f.write(translated_sentence + '\\n')\n",
        "\n",
        "            # Add a delay of 20 seconds between requests\n",
        "            time.sleep(20)"
      ]
    },
    {
      "cell_type": "code",
      "execution_count": 25,
      "metadata": {
        "id": "ehDghtr1jJ2z"
      },
      "outputs": [],
      "source": [
        "translate_and_save(\n",
        "    en_sentences_50,\n",
        "    source_language=\"English\",\n",
        "    target_language=\"Persian\",\n",
        "    output_file=\"/content/PERPrompt-EN-PER-0shot.txt\"\n",
        ")"
      ]
    },
    {
      "cell_type": "code",
      "execution_count": 26,
      "metadata": {
        "colab": {
          "base_uri": "https://localhost:8080/"
        },
        "id": "D0qDC4TT1stV",
        "outputId": "0bc942de-d9d4-43bc-d945-4093c9ff6ec3"
      },
      "outputs": [
        {
          "name": "stdout",
          "output_type": "stream",
          "text": [
            "BLEU = 0.39 11.4/1.5/0.1/0.1 (BP = 0.598 ratio = 0.661 hyp_len = 781 ref_len = 1182)\n"
          ]
        }
      ],
      "source": [
        "prener0_file_path = \"/content/PERPrompt-EN-PER-0shot.txt\"\n",
        "\n",
        "with open(prener0_file_path, \"r\") as file:\n",
        "    prener0 = [line.strip() for line in file]\n",
        "\n",
        "bleu = sacrebleu.corpus_bleu(prener0, [persian])\n",
        "\n",
        "print(bleu)"
      ]
    },
    {
      "cell_type": "markdown",
      "metadata": {
        "id": "MktshXArArtA"
      },
      "source": [
        "### Oneshot"
      ]
    },
    {
      "cell_type": "code",
      "execution_count": null,
      "metadata": {
        "id": "ENjPU686AdbR"
      },
      "outputs": [],
      "source": [
        "# # Import your OpenAI API key\n",
        "# openai.api_key = ''\n",
        "\n",
        "# def get_completion(prompt, model=\"gpt-3.5-turbo\"):\n",
        "#     if type(prompt) == str:\n",
        "#         messages = [{\"role\": \"user\", \"content\": prompt}]\n",
        "#     elif type(prompt) == list:\n",
        "#         messages = prompt\n",
        "\n",
        "#     response = openai.ChatCompletion.create(\n",
        "#         model=model,\n",
        "#         messages=messages,\n",
        "#         temperature=0,  # You can adjust the temperature as needed\n",
        "#     )\n",
        "#     return response['choices'][0]['message']['content']\n",
        "\n",
        "import openai\n",
        "import time\n",
        "\n",
        "# Khai báo API key\n",
        "client = openai.Client(api_key='--')\n",
        "\n",
        "# Hàm lấy completion\n",
        "def get_completion(prompt, model=\"gpt-3.5-turbo\"):\n",
        "    if isinstance(prompt, str):\n",
        "        messages = [{\"role\": \"user\", \"content\": prompt}]\n",
        "    elif isinstance(prompt, list):\n",
        "        messages = prompt\n",
        "\n",
        "    response = client.chat.completions.create(\n",
        "        model=model,\n",
        "        messages=messages,\n",
        "        temperature=0\n",
        "    )\n",
        "\n",
        "    return response.choices[0].message.content\n",
        "\n",
        "def translate_and_save(sentences, source_language, target_language, output_file):\n",
        "    # Prompt for machine translation task\n",
        "    prompt_intro = (\n",
        "        \"در ادامه‌، وظیفه‌ (تکلیفی) برای شما درنظر گرفته شده است، که مربوط به  ترجمه ماشینی است. \"\n",
        "        \"به این منظور جمله‌ای به زبان انگلیسی به شما نشان داده می‌شود. \"\n",
        "        \"در نتیجه، شما باید آن جمله را به شکل مناسب و دقیق به زبان فارسی ترجمه کنید.\"\n",
        "\n",
        "        \" مثالی از ترجمه‌ی جمله‌ی نمونه از زبان انگلیسی به زبان فارسی:\"\n",
        "        \" 'This is a sample sentence that we are going to translate it.' -> 'این یک جمله‌ی نمونه است که می‌خواهیم آن را ترجمه کنیم.'\"\n",
        "    )\n",
        "\n",
        "    # Get the translation for each sentence and save it to a file\n",
        "    with open(output_file, 'w', encoding='utf-8') as f:\n",
        "        for sentence in sentences:\n",
        "            prompt = f\"{prompt_intro}\\n\\nجمله زیر به زبان فارسی است و باید به زبان انگلیسی ترجمه شود:\\n {sentence}\"\n",
        "\n",
        "            # Get the translation for the current sentence\n",
        "            response = get_completion(prompt)\n",
        "\n",
        "            # Extract and save the translated sentence\n",
        "            translated_sentence = response.strip()\n",
        "            f.write(translated_sentence + '\\n')\n",
        "\n",
        "            # Add a delay of 20 seconds between requests\n",
        "            time.sleep(20)"
      ]
    },
    {
      "cell_type": "code",
      "execution_count": 28,
      "metadata": {
        "id": "Ro17IUFRDwEP"
      },
      "outputs": [],
      "source": [
        "translate_and_save(\n",
        "    en_sentences_50,\n",
        "    source_language=\"English\",\n",
        "    target_language=\"Persian\",\n",
        "    output_file=\"/content/PERPrompt-EN-PER-1shot.txt\"\n",
        ")"
      ]
    },
    {
      "cell_type": "code",
      "execution_count": 29,
      "metadata": {
        "colab": {
          "base_uri": "https://localhost:8080/"
        },
        "id": "kbVK0w702k2L",
        "outputId": "71babc33-743d-40ce-e016-f58749cfece7"
      },
      "outputs": [
        {
          "name": "stdout",
          "output_type": "stream",
          "text": [
            "BLEU = 1.54 14.5/3.0/1.1/0.4 (BP = 0.751 ratio = 0.777 hyp_len = 919 ref_len = 1182)\n"
          ]
        }
      ],
      "source": [
        "prener1_file_path = \"/content/PERPrompt-EN-PER-1shot.txt\"\n",
        "\n",
        "with open(prener1_file_path, \"r\") as file:\n",
        "    prener1 = [line.strip() for line in file]\n",
        "\n",
        "bleu = sacrebleu.corpus_bleu(prener1, [persian])\n",
        "\n",
        "print(bleu)"
      ]
    },
    {
      "cell_type": "markdown",
      "metadata": {
        "id": "TD8TzRvuAuJs"
      },
      "source": [
        "### Fewshot"
      ]
    },
    {
      "cell_type": "code",
      "execution_count": null,
      "metadata": {
        "id": "3zyGlJNKCMng"
      },
      "outputs": [],
      "source": [
        "# # Import your OpenAI API key\n",
        "# openai.api_key = ''\n",
        "\n",
        "# def get_completion(prompt, model=\"gpt-3.5-turbo\"):\n",
        "#     if type(prompt) == str:\n",
        "#         messages = [{\"role\": \"user\", \"content\": prompt}]\n",
        "#     elif type(prompt) == list:\n",
        "#         messages = prompt\n",
        "\n",
        "#     response = openai.ChatCompletion.create(\n",
        "#         model=model,\n",
        "#         messages=messages,\n",
        "#         temperature=0,  # You can adjust the temperature as needed\n",
        "#     )\n",
        "#     return response['choices'][0]['message']['content']\n",
        "\n",
        "import openai\n",
        "import time\n",
        "\n",
        "# Khai báo API key\n",
        "client = openai.Client(api_key='--')\n",
        "\n",
        "# Hàm lấy completion\n",
        "def get_completion(prompt, model=\"gpt-3.5-turbo\"):\n",
        "    if isinstance(prompt, str):\n",
        "        messages = [{\"role\": \"user\", \"content\": prompt}]\n",
        "    elif isinstance(prompt, list):\n",
        "        messages = prompt\n",
        "\n",
        "    response = client.chat.completions.create(\n",
        "        model=model,\n",
        "        messages=messages,\n",
        "        temperature=0\n",
        "    )\n",
        "\n",
        "    return response.choices[0].message.content\n",
        "\n",
        "def translate_and_save(sentences, source_language, target_language, output_file):\n",
        "    # Prompt for machine translation task\n",
        "    prompt_intro = (\n",
        "        \"در ادامه‌، وظیفه‌ (تکلیفی) برای شما درنظر گرفته شده است، که مربوط به  ترجمه ماشینی است. \"\n",
        "        \"به این منظور جمله‌ای به زبان انگلیسی به شما نشان داده می‌شود. \"\n",
        "        \"در نتیجه، شما باید آن جمله را به شکل مناسب و دقیق به زبان فارسی ترجمه کنید.\"\n",
        "\n",
        "        \" مثال‌هایی از ترجمه‌ی جملات نمونه از زبان انگلیسی به زبان فارسی:\"\n",
        "        \"'I love programming.' -> 'من برنامه‌نویسی را دوست دارم.'\"\n",
        "        \"'Cooking a delicious meal requires a combination of ingredients and techniques.' -> 'پخت یک وعده غذای خوشمزه نیازمند ترکیبی از مواد اولیه و تکنیک‌هاست.'\"\n",
        "        \"'In the realm of artificial intelligence, neural networks play a pivotal role.' -> 'در دنیای هوش مصنوعی، شبکه‌های عصبی نقشی کلیدی ایفا می‌کنند.'\"    )\n",
        "\n",
        "    # Get the translation for each sentence and save it to a file\n",
        "    with open(output_file, 'w', encoding='utf-8') as f:\n",
        "        for sentence in sentences:\n",
        "            prompt = f\"{prompt_intro}\\n\\nجمله زیر به زبان فارسی است و باید به زبان انگلیسی ترجمه شود:\\n {sentence}\"\n",
        "\n",
        "            # Get the translation for the current sentence\n",
        "            response = get_completion(prompt)\n",
        "\n",
        "            # Extract and save the translated sentence\n",
        "            translated_sentence = response.strip()\n",
        "            f.write(translated_sentence + '\\n')\n",
        "\n",
        "            # Add a delay of 20 seconds between requests\n",
        "            time.sleep(20)"
      ]
    },
    {
      "cell_type": "code",
      "execution_count": null,
      "metadata": {
        "id": "NbQ-1aKnCPSq"
      },
      "outputs": [],
      "source": [
        "# translate_and_save(\n",
        "#     en_sentences_50,\n",
        "#     source_language=\"English\",\n",
        "#     target_language=\"Persian\",\n",
        "#     output_file=\"/content/drive/MyDrive/Openai/Persian Prompt/English to Persian/3shot/0-200.txt\"\n",
        "# )"
      ]
    },
    {
      "cell_type": "code",
      "execution_count": null,
      "metadata": {
        "colab": {
          "base_uri": "https://localhost:8080/"
        },
        "id": "oPkrHmjX2twC",
        "outputId": "452110ad-104f-4169-8775-0c2479351792"
      },
      "outputs": [
        {
          "name": "stdout",
          "output_type": "stream",
          "text": [
            "BLEU = 7.26 39.0/12.7/4.5/1.7 (BP = 0.923 ratio = 0.926 hyp_len = 3974 ref_len = 4291)\n"
          ]
        }
      ],
      "source": [
        "prener3_file_path = \"/content/drive/MyDrive/MTEval/Openai/Persian Prompt/English to Persian/3shot/PERPrompt-EN-PER-3shot.txt\"\n",
        "\n",
        "with open(prener3_file_path, \"r\") as file:\n",
        "    prener3 = [line.strip() for line in file]\n",
        "\n",
        "bleu = sacrebleu.corpus_bleu(prener3, [persian])\n",
        "\n",
        "print(bleu)"
      ]
    },
    {
      "cell_type": "markdown",
      "metadata": {
        "id": "GDR4576awCAE"
      },
      "source": [
        "## Persian Prompt - Persian to English"
      ]
    },
    {
      "cell_type": "markdown",
      "metadata": {
        "id": "t3No5xSP2Jth"
      },
      "source": [
        "### Zeroshot"
      ]
    },
    {
      "cell_type": "code",
      "execution_count": null,
      "metadata": {
        "id": "UZySdkaZ2Jtk"
      },
      "outputs": [],
      "source": [
        "# Import your OpenAI API key\n",
        "openai.api_key = ''\n",
        "\n",
        "def get_completion(prompt, model=\"gpt-3.5-turbo\"):\n",
        "    if type(prompt) == str:\n",
        "        messages = [{\"role\": \"user\", \"content\": prompt}]\n",
        "    elif type(prompt) == list:\n",
        "        messages = prompt\n",
        "\n",
        "    response = openai.ChatCompletion.create(\n",
        "        model=model,\n",
        "        messages=messages,\n",
        "        temperature=0,  # You can adjust the temperature as needed\n",
        "    )\n",
        "    return response['choices'][0]['message']['content']\n",
        "\n",
        "def translate_and_save(sentences, source_language, target_language, output_file):\n",
        "    # Prompt for machine translation task\n",
        "    prompt_intro = (\n",
        "        \"در ادامه‌، وظیفه‌ (تکلیفی) برای شما درنظر گرفته شده است، که مربوط به  ترجمه ماشینی است. \"\n",
        "        \"به این منظور جمله‌ای به زبان فارسی به شما نشان داده می‌شود. \"\n",
        "        \"در نتیجه، شما باید آن جمله را به شکل مناسب و دقیق به زبان انگلیسی ترجمه کنید.\"\n",
        "    )\n",
        "    # Get the translation for each sentence and save it to a file\n",
        "    with open(output_file, 'w', encoding='utf-8') as f:\n",
        "        for sentence in sentences:\n",
        "            prompt = f\"{prompt_intro}\\n\\nجمله زیر به زبان فارسی است و باید به زبان انگلیسی ترجمه شود:\\n {sentence}\"\n",
        "\n",
        "            # Get the translation for the current sentence\n",
        "            response = get_completion(prompt)\n",
        "\n",
        "            # Extract and save the translated sentence\n",
        "            translated_sentence = response.strip()\n",
        "            f.write(translated_sentence + '\\n')\n",
        "\n",
        "            # Add a delay of 20 seconds between requests\n",
        "            time.sleep(20)"
      ]
    },
    {
      "cell_type": "code",
      "execution_count": null,
      "metadata": {
        "id": "2iQcCH5BxSSo"
      },
      "outputs": [],
      "source": [
        "# translate_and_save(\n",
        "#     pr_sentences_200,\n",
        "#     source_language=\"Persian\",\n",
        "#     target_language=\"English\",\n",
        "#     output_file=\"/content/drive/MyDrive/Openai/Persian Prompt/Persian to English/0shot/0-200.txt\",\n",
        "# )"
      ]
    },
    {
      "cell_type": "code",
      "execution_count": null,
      "metadata": {
        "colab": {
          "base_uri": "https://localhost:8080/"
        },
        "id": "C3nYvuhJ3ez2",
        "outputId": "5db7cc58-54e8-4c4d-ef9c-d06e8e8dfd88"
      },
      "outputs": [
        {
          "name": "stdout",
          "output_type": "stream",
          "text": [
            "BLEU = 10.51 42.8/15.3/6.7/2.8 (BP = 1.000 ratio = 1.020 hyp_len = 4285 ref_len = 4202)\n"
          ]
        }
      ],
      "source": [
        "prpren0_file_path = \"/content/drive/MyDrive/MTEval/Openai/Persian Prompt/Persian to English/0shot/PERPrompt-PER-EN-0shot.txt\"\n",
        "\n",
        "with open(prpren0_file_path, \"r\") as file:\n",
        "    prpren0 = [line.strip() for line in file]\n",
        "\n",
        "bleu = sacrebleu.corpus_bleu(prpren0, [english])\n",
        "\n",
        "print(bleu)"
      ]
    },
    {
      "cell_type": "markdown",
      "metadata": {
        "id": "zO0L1PkN2Jtq"
      },
      "source": [
        "### Oneshot"
      ]
    },
    {
      "cell_type": "code",
      "execution_count": null,
      "metadata": {
        "id": "kCfvAROK2Jts"
      },
      "outputs": [],
      "source": [
        "# Import your OpenAI API key\n",
        "openai.api_key = ''\n",
        "\n",
        "def get_completion(prompt, model=\"gpt-3.5-turbo\"):\n",
        "    if type(prompt) == str:\n",
        "        messages = [{\"role\": \"user\", \"content\": prompt}]\n",
        "    elif type(prompt) == list:\n",
        "        messages = prompt\n",
        "\n",
        "    response = openai.ChatCompletion.create(\n",
        "        model=model,\n",
        "        messages=messages,\n",
        "        temperature=0,\n",
        "    )\n",
        "    return response['choices'][0]['message']['content']\n",
        "\n",
        "def translate_and_save(sentences, source_language, target_language, output_file):\n",
        "    # Prompt for machine translation task\n",
        "    prompt_intro = (\n",
        "        \"در ادامه‌، وظیفه‌ (تکلیفی) برای شما درنظر گرفته شده است، که مربوط به  ترجمه ماشینی است. \"\n",
        "        \"به این منظور جمله‌ای به زبان فارسی به شما نشان داده می‌شود. \"\n",
        "        \"در نتیجه، شما باید آن جمله را به شکل مناسب و دقیق به زبان انگلیسی ترجمه کنید.\"\n",
        "\n",
        "        \" مثالی از ترجمه‌ی جمله‌ی نمونه از زبان فارسی به زبان انگلیسی:\"\n",
        "        \" 'This is a sample sentence that we are going to translate it.' <- 'این یک جمله‌ی نمونه است که می‌خواهیم آن را ترجمه کنیم.'\"\n",
        "    )\n",
        "    # Get the translation for each sentence and save it to a file\n",
        "    with open(output_file, 'w', encoding='utf-8') as f:\n",
        "        for sentence in sentences:\n",
        "            prompt = f\"{prompt_intro}\\n\\nهمچون مثال بالا جمله زیر نیز به زبان فارسی است و باید به زبان انگلیسی ترجمه شود:\\n {sentence}\"\n",
        "\n",
        "            # Get the translation for the current sentence\n",
        "            response = get_completion(prompt)\n",
        "\n",
        "            # Extract and save the translated sentence\n",
        "            translated_sentence = response.strip()\n",
        "            f.write(translated_sentence + '\\n')\n",
        "\n",
        "            # Add a delay of 20 seconds between requests\n",
        "            time.sleep(20)"
      ]
    },
    {
      "cell_type": "code",
      "execution_count": null,
      "metadata": {
        "id": "-Cgwk4FF2Jtv"
      },
      "outputs": [],
      "source": [
        "# translate_and_save(\n",
        "#     pr_sentences_200,\n",
        "#     source_language=\"Persian\",\n",
        "#     target_language=\"English\",\n",
        "#     output_file=\"/content/drive/MyDrive/Openai/Persian Prompt/Persian to English/1shot/0-200.txt\",\n",
        "# )"
      ]
    },
    {
      "cell_type": "code",
      "execution_count": null,
      "metadata": {
        "colab": {
          "base_uri": "https://localhost:8080/"
        },
        "id": "327vc0j-5dnB",
        "outputId": "3fb05ff7-eb9e-4fde-829d-b46170c33e7b"
      },
      "outputs": [
        {
          "name": "stdout",
          "output_type": "stream",
          "text": [
            "BLEU = 10.77 42.7/15.9/6.8/2.9 (BP = 1.000 ratio = 1.013 hyp_len = 4258 ref_len = 4202)\n"
          ]
        }
      ],
      "source": [
        "prpren1_file_path = \"/content/drive/MyDrive/MTEval/Openai/Persian Prompt/Persian to English/1shot/PERPrompt-PER-EN-1shot.txt\"\n",
        "\n",
        "with open(prpren1_file_path, \"r\") as file:\n",
        "    prpren1 = [line.strip() for line in file]\n",
        "\n",
        "bleu = sacrebleu.corpus_bleu(prpren1, [english])\n",
        "\n",
        "print(bleu)"
      ]
    },
    {
      "cell_type": "markdown",
      "metadata": {
        "id": "a91GvhT92Jty"
      },
      "source": [
        "### Fewshot"
      ]
    },
    {
      "cell_type": "code",
      "execution_count": null,
      "metadata": {
        "id": "YLAA10zj2Jt0"
      },
      "outputs": [],
      "source": [
        "# Import your OpenAI API key\n",
        "openai.api_key = ''\n",
        "\n",
        "def get_completion(prompt, model=\"gpt-3.5-turbo\"):\n",
        "    if type(prompt) == str:\n",
        "        messages = [{\"role\": \"user\", \"content\": prompt}]\n",
        "    elif type(prompt) == list:\n",
        "        messages = prompt\n",
        "\n",
        "    response = openai.ChatCompletion.create(\n",
        "        model=model,\n",
        "        messages=messages,\n",
        "        temperature=0,  # You can adjust the temperature as needed\n",
        "    )\n",
        "    return response['choices'][0]['message']['content']\n",
        "\n",
        "def translate_and_save(sentences, source_language, target_language, output_file):\n",
        "    # Prompt for machine translation task\n",
        "    prompt_intro = (\n",
        "        \"در ادامه‌، وظیفه‌ (تکلیفی) برای شما درنظر گرفته شده است، که مربوط به  ترجمه ماشینی است. \"\n",
        "        \"به این منظور جمله‌ای به زبان فارسی به شما نشان داده می‌شود. \"\n",
        "        \"در نتیجه، شما باید آن جمله را به شکل مناسب و دقیق به زبان انگلیسی ترجمه کنید.\"\n",
        "\n",
        "        \" مثال‌هایی از ترجمه‌ی جملات نمونه از زبان فارسی به زبان انگلیسی:\"\n",
        "        \"'I love programming.' <- 'من برنامه‌نویسی را دوست دارم.'\"\n",
        "        \"'Cooking a delicious meal requires a combination of ingredients and techniques.' <- 'پخت یک وعده غذای خوشمزه نیازمند ترکیبی از مواد اولیه و تکنیک‌هاست.'\"\n",
        "        \"'In the realm of artificial intelligence, neural networks play a pivotal role.' <- 'در دنیای هوش مصنوعی، شبکه‌های عصبی نقشی کلیدی ایفا می‌کنند.'\"\n",
        "    )\n",
        "\n",
        "    # Get the translation for each sentence and save it to a file\n",
        "    with open(output_file, 'w', encoding='utf-8') as f:\n",
        "        for sentence in sentences:\n",
        "            prompt = f\"{prompt_intro}\\n\\nهمچون مثال‌های بالا جمله زیر نیز به زبان فارسی است و باید به زبان انگلیسی ترجمه شود:\\n {sentence}\"\n",
        "\n",
        "            # Get the translation for the current sentence\n",
        "            response = get_completion(prompt)\n",
        "\n",
        "            # Extract and save the translated sentence\n",
        "            translated_sentence = response.strip()\n",
        "            f.write(translated_sentence + '\\n')\n",
        "\n",
        "            # Add a delay of 20 seconds between requests\n",
        "            time.sleep(20)"
      ]
    },
    {
      "cell_type": "code",
      "execution_count": null,
      "metadata": {
        "id": "n9OQp9Zz2Jt4"
      },
      "outputs": [],
      "source": [
        "# translate_and_save(\n",
        "#     pr_sentences_200,\n",
        "#     source_language=\"Persian\",\n",
        "#     target_language=\"English\",\n",
        "#     output_file=\"/content/drive/MyDrive/Openai/Persian Prompt/Persian to English/3shot/0-200.txt\",\n",
        "# )"
      ]
    },
    {
      "cell_type": "code",
      "execution_count": null,
      "metadata": {
        "colab": {
          "base_uri": "https://localhost:8080/"
        },
        "id": "hbydCfFe5eow",
        "outputId": "dfbb070a-976b-4ddb-a3a1-8c5c4e45b1a8"
      },
      "outputs": [
        {
          "name": "stdout",
          "output_type": "stream",
          "text": [
            "BLEU = 11.00 42.9/15.8/7.0/3.1 (BP = 0.996 ratio = 0.996 hyp_len = 4184 ref_len = 4202)\n"
          ]
        }
      ],
      "source": [
        "prpren3_file_path = \"/content/drive/MyDrive/MTEval/Openai/Persian Prompt/Persian to English/3shot/PERPrompt-PER-EN-3shot.txt\"\n",
        "\n",
        "with open(prpren3_file_path, \"r\") as file:\n",
        "    prpren3 = [line.strip() for line in file]\n",
        "\n",
        "bleu = sacrebleu.corpus_bleu(prpren3, [english])\n",
        "\n",
        "print(bleu)"
      ]
    },
    {
      "cell_type": "code",
      "execution_count": null,
      "metadata": {
        "id": "2cuTrolZNA50"
      },
      "outputs": [],
      "source": []
    }
  ],
  "metadata": {
    "accelerator": "GPU",
    "colab": {
      "collapsed_sections": [
        "O7HbhUqq__zV",
        "yc5z9QxVBZCA",
        "IBkjbEBRvW97",
        "7snOkZKZGRaC",
        "yEXIIO2KGUAh",
        "16RdkN5xFV2b",
        "gd3RMJQMFefv",
        "3eXm3MxHFg7k",
        "bNkw_IrOFi5Z",
        "k-4PipNLFUiA",
        "JyWbdPFbF35Z",
        "YRze7xHWF35c",
        "1rKAuL02F35e",
        "Oj60TbZzAEi2",
        "YzkUjLfTAnvy",
        "MktshXArArtA",
        "TD8TzRvuAuJs",
        "GDR4576awCAE",
        "t3No5xSP2Jth",
        "zO0L1PkN2Jtq",
        "a91GvhT92Jty"
      ],
      "gpuType": "T4",
      "provenance": []
    },
    "kernelspec": {
      "display_name": "Python 3",
      "name": "python3"
    },
    "language_info": {
      "name": "python"
    }
  },
  "nbformat": 4,
  "nbformat_minor": 0
}
