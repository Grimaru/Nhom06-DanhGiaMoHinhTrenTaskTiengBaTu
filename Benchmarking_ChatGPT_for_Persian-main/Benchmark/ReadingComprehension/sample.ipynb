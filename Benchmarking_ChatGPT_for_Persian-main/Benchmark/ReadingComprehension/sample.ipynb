{
  "nbformat": 4,
  "nbformat_minor": 0,
  "metadata": {
    "colab": {
      "provenance": []
    },
    "kernelspec": {
      "name": "python3",
      "display_name": "Python 3"
    },
    "language_info": {
      "name": "python"
    }
  },
  "cells": [
    {
      "cell_type": "markdown",
      "source": [
        "Given a sample"
      ],
      "metadata": {
        "id": "dHFk5yT_g1Gp"
      }
    },
    {
      "cell_type": "code",
      "execution_count": 15,
      "metadata": {
        "id": "AC83O7WJgx0u"
      },
      "outputs": [],
      "source": [
        "sample = {\"context\": \"بوداپـِست پایتخت، بزرگترین و پرجمعیت‌ترین شهر کشور مجارستان و مرکز سیاسی، فرهنگی، تجاری، صنعتی و ترابری این کشور است. بوداپست از سه بخشِ اُبودا (بودای قدیم)، بودا (تپه ای و در کرانهٔ باختری دانوب)، و پست (خلاف بودا کاملاً تخت و سمت خاوری رود) تشکیل شده‌است. جمعیت بوداپست طبق آمار اول ژانویهٔ سال ۲۰۱۹ برابر با ۱٬۷۵۲٬۲۸۶ نفر بوده‌است. مساحت شهر حدود ۵۲۵ کیلومتر مربع و یک واحد مستقل در تقسیمات کشوری مجارستان است.\", \"question\": \"بوداپست در کدام کشور است؟\", \"target\": [\"مجارستان\"]}"
      ]
    },
    {
      "cell_type": "markdown",
      "source": [
        "# prepare input prompt"
      ],
      "metadata": {
        "id": "79lLZ0cyhHup"
      }
    },
    {
      "cell_type": "code",
      "source": [
        "from prompt import PERSIAN_ONE"
      ],
      "metadata": {
        "id": "y7g7JsvqhKp2"
      },
      "execution_count": 16,
      "outputs": []
    },
    {
      "cell_type": "code",
      "source": [
        "sample_prompt = PERSIAN_ONE.format(context=sample['context'],question=sample['question'])"
      ],
      "metadata": {
        "id": "2wXwAdg1hT3E"
      },
      "execution_count": 17,
      "outputs": []
    },
    {
      "cell_type": "code",
      "source": [
        "print(sample_prompt)"
      ],
      "metadata": {
        "colab": {
          "base_uri": "https://localhost:8080/"
        },
        "id": "Jh9XmlV8hilr",
        "outputId": "59968b18-40d2-4af0-931d-d330687d7f5e"
      },
      "execution_count": 18,
      "outputs": [
        {
          "output_type": "stream",
          "name": "stdout",
          "text": [
            "\n",
            "  در ادامه به شما یک متن فارسی و یک سوال نشان داده می شود. شما باید برای سوال یک پاسخ بنویسید. سعی کنید پاسخ های خود را تا حد ممکن کوتاه بدهید.\n",
            "\n",
            "  نمونه:\n",
            "\n",
            "  سوال:\n",
            "  ویتامین ای را چه موقع استفاده کنیم؟\n",
            "\n",
            "  جواب:\n",
            "  برای رفع چین و چروک پیشانی و دیگر نشانه های پیری\n",
            "\n",
            "  متن:\n",
            "  '''بوداپـِست پایتخت، بزرگترین و پرجمعیت‌ترین شهر کشور مجارستان و مرکز سیاسی، فرهنگی، تجاری، صنعتی و ترابری این کشور است. بوداپست از سه بخشِ اُبودا (بودای قدیم)، بودا (تپه ای و در کرانهٔ باختری دانوب)، و پست (خلاف بودا کاملاً تخت و سمت خاوری رود) تشکیل شده‌است. جمعیت بوداپست طبق آمار اول ژانویهٔ سال ۲۰۱۹ برابر با ۱٬۷۵۲٬۲۸۶ نفر بوده‌است. مساحت شهر حدود ۵۲۵ کیلومتر مربع و یک واحد مستقل در تقسیمات کشوری مجارستان است.'''\n",
            "\n",
            "  سوال:\n",
            "  '''بوداپست در کدام کشور است؟'''\n",
            "\n",
            "  جواب:\n",
            "  \n"
          ]
        }
      ]
    },
    {
      "cell_type": "markdown",
      "source": [
        "# Evaluate model's response"
      ],
      "metadata": {
        "id": "9rYh5EwShn75"
      }
    },
    {
      "cell_type": "code",
      "source": [
        "! pip install hazm"
      ],
      "metadata": {
        "colab": {
          "base_uri": "https://localhost:8080/"
        },
        "id": "VLjQu_wmkStZ",
        "outputId": "49a2179d-4e5c-434d-b5ed-d2d210103ce4"
      },
      "execution_count": 14,
      "outputs": [
        {
          "output_type": "stream",
          "name": "stdout",
          "text": [
            "Requirement already satisfied: hazm in /usr/local/lib/python3.10/dist-packages (0.10.0)\n",
            "Requirement already satisfied: fasttext-wheel<0.10.0,>=0.9.2 in /usr/local/lib/python3.10/dist-packages (from hazm) (0.9.2)\n",
            "Requirement already satisfied: flashtext<3.0,>=2.7 in /usr/local/lib/python3.10/dist-packages (from hazm) (2.7)\n",
            "Requirement already satisfied: gensim<5.0.0,>=4.3.1 in /usr/local/lib/python3.10/dist-packages (from hazm) (4.3.2)\n",
            "Requirement already satisfied: nltk<4.0.0,>=3.8.1 in /usr/local/lib/python3.10/dist-packages (from hazm) (3.8.1)\n",
            "Requirement already satisfied: numpy==1.24.3 in /usr/local/lib/python3.10/dist-packages (from hazm) (1.24.3)\n",
            "Requirement already satisfied: python-crfsuite<0.10.0,>=0.9.9 in /usr/local/lib/python3.10/dist-packages (from hazm) (0.9.10)\n",
            "Requirement already satisfied: scikit-learn<2.0.0,>=1.2.2 in /usr/local/lib/python3.10/dist-packages (from hazm) (1.2.2)\n",
            "Requirement already satisfied: pybind11>=2.2 in /usr/local/lib/python3.10/dist-packages (from fasttext-wheel<0.10.0,>=0.9.2->hazm) (2.11.1)\n",
            "Requirement already satisfied: setuptools>=0.7.0 in /usr/local/lib/python3.10/dist-packages (from fasttext-wheel<0.10.0,>=0.9.2->hazm) (67.7.2)\n",
            "Requirement already satisfied: scipy>=1.7.0 in /usr/local/lib/python3.10/dist-packages (from gensim<5.0.0,>=4.3.1->hazm) (1.11.4)\n",
            "Requirement already satisfied: smart-open>=1.8.1 in /usr/local/lib/python3.10/dist-packages (from gensim<5.0.0,>=4.3.1->hazm) (6.4.0)\n",
            "Requirement already satisfied: click in /usr/local/lib/python3.10/dist-packages (from nltk<4.0.0,>=3.8.1->hazm) (8.1.7)\n",
            "Requirement already satisfied: joblib in /usr/local/lib/python3.10/dist-packages (from nltk<4.0.0,>=3.8.1->hazm) (1.3.2)\n",
            "Requirement already satisfied: regex>=2021.8.3 in /usr/local/lib/python3.10/dist-packages (from nltk<4.0.0,>=3.8.1->hazm) (2023.12.25)\n",
            "Requirement already satisfied: tqdm in /usr/local/lib/python3.10/dist-packages (from nltk<4.0.0,>=3.8.1->hazm) (4.66.2)\n",
            "Requirement already satisfied: threadpoolctl>=2.0.0 in /usr/local/lib/python3.10/dist-packages (from scikit-learn<2.0.0,>=1.2.2->hazm) (3.3.0)\n"
          ]
        }
      ]
    },
    {
      "cell_type": "code",
      "source": [
        "from hazm import Normalizer"
      ],
      "metadata": {
        "id": "YuzAflS_kTai"
      },
      "execution_count": 11,
      "outputs": []
    },
    {
      "cell_type": "code",
      "source": [
        "import numpy as np"
      ],
      "metadata": {
        "id": "zvFiWsWVkBSD"
      },
      "execution_count": 8,
      "outputs": []
    },
    {
      "cell_type": "code",
      "source": [
        "sample_GPT_response = \"\"\"\n",
        "مجارستان\n",
        "\"\"\""
      ],
      "metadata": {
        "id": "9FU29VkDhprp"
      },
      "execution_count": 19,
      "outputs": []
    },
    {
      "cell_type": "code",
      "source": [
        "def preprocess_text(s,normalizer):\n",
        "\n",
        "    def normalize(text):\n",
        "        text.replace(\"پاسخ:\",\"\")\n",
        "        return normalizer.normalize(text)\n",
        "\n",
        "    def remove_punc_stopword(text):\n",
        "        exclude = [\"?\",\".\",\"!\",\"؟\",\":\",\"،\",\")\",\"(\",\"...\"]\n",
        "        return \"\".join(ch for ch in text if ch not in exclude)\n",
        "\n",
        "    return normalize(remove_punc_stopword(s))\n",
        "\n",
        "def compute_exact_match(prediction, truth):\n",
        "    return int(preprocess_text(prediction) == preprocess_text(truth))\n",
        "\n",
        "def compute_f1(prediction, truth):\n",
        "    pred_tokens = prediction.split()\n",
        "    truth_tokens = truth.split()\n",
        "\n",
        "    # if either the prediction or the truth is no-answer then f1 = 1 if they agree, 0 otherwise\n",
        "    if len(pred_tokens) == 0 or len(truth_tokens) == 0:\n",
        "        return int(pred_tokens == truth_tokens)\n",
        "\n",
        "    common_tokens = set(pred_tokens) & set(truth_tokens)\n",
        "\n",
        "    # if there are no common tokens then f1 = 0\n",
        "    if len(common_tokens) == 0:\n",
        "        return 0\n",
        "\n",
        "    prec = len(common_tokens) / len(pred_tokens)\n",
        "    rec = len(common_tokens) / len(truth_tokens)\n",
        "\n",
        "    return 2 * (prec * rec) / (prec + rec)\n",
        "\n",
        "def get_gold_answers(i):\n",
        "    \"\"\"helper function that retrieves all possible true answers from a squad2.0 example\"\"\"\n",
        "\n",
        "    gold_answers = [answer[\"text\"] for answer in example.answers if answer[\"text\"]]\n",
        "\n",
        "    # if gold_answers doesn't exist it's because this is a negative example -\n",
        "    # the only correct answer is an empty string\n",
        "    if not gold_answers:\n",
        "        gold_answers = [\"\"]\n",
        "\n",
        "    return gold_answers"
      ],
      "metadata": {
        "id": "4kmKEy0Nimyz"
      },
      "execution_count": 6,
      "outputs": []
    },
    {
      "cell_type": "code",
      "source": [
        "def calculate_f1(model_ans_list,correct_ans_list):\n",
        "  normalizer = Normalizer()\n",
        "  f1 = []\n",
        "  for i in range(0,len(model_ans_list)):\n",
        "    model_ans = preprocess_text(model_ans_list[i],normalizer)\n",
        "    correct_ans =  [preprocess_text(text,normalizer) for text in correct_ans_list[i]]\n",
        "    f1.append(max((compute_f1(model_ans, answer)) for answer in correct_ans))\n",
        "\n",
        "  return np.array(f1).mean()"
      ],
      "metadata": {
        "id": "4i0sTU8SinpZ"
      },
      "execution_count": 9,
      "outputs": []
    },
    {
      "cell_type": "code",
      "source": [
        "gpt_results = [sample_GPT_response]\n",
        "true_ans = [sample['target']]\n",
        "f1 = calculate_f1(gpt_results,true_ans)\n",
        "print(f'average f1: {f1}')"
      ],
      "metadata": {
        "colab": {
          "base_uri": "https://localhost:8080/"
        },
        "id": "VwLxW9eci3T6",
        "outputId": "0827dea2-b29c-46c8-d673-17a1856cd3e3"
      },
      "execution_count": 20,
      "outputs": [
        {
          "output_type": "stream",
          "name": "stdout",
          "text": [
            "average f1: 1.0\n"
          ]
        }
      ]
    }
  ]
}