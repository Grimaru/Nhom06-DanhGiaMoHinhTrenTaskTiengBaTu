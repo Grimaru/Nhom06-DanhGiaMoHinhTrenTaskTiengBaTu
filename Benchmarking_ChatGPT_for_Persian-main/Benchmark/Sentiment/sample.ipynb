{
 "cells": [
  {
   "cell_type": "markdown",
   "metadata": {},
   "source": [
    "Given a sample"
   ]
  },
  {
   "cell_type": "code",
   "execution_count": 1,
   "metadata": {},
   "outputs": [],
   "source": [
    "sample = {\"review\": \"نسبت به قیمت جدیدش قهوه های بهتری رو توی این رنج قیمت میشه خرید\", \"output\": \"NEGATIVE\"}"
   ]
  },
  {
   "cell_type": "markdown",
   "metadata": {},
   "source": [
    "# Prepare input prompt"
   ]
  },
  {
   "cell_type": "code",
   "execution_count": 2,
   "metadata": {},
   "outputs": [],
   "source": [
    "import prompt"
   ]
  },
  {
   "cell_type": "code",
   "execution_count": 3,
   "metadata": {},
   "outputs": [],
   "source": [
    "sample_prompt = prompt.ENGLISH_ONE.format(review=sample[\"review\"])"
   ]
  },
  {
   "cell_type": "code",
   "execution_count": 4,
   "metadata": {},
   "outputs": [
    {
     "name": "stdout",
     "output_type": "stream",
     "text": [
      "The below sentence is a person's review. The review is in Persian. Identify the sentiment or polarity associated with it.\n",
      "Possible answers are: POSITIVE, NEUTRAL, NEGATIVE, OTHER.\n",
      "Use OTHER when the sentence does not include any specific sense, or has mixed or borderline senses.\n",
      "\n",
      "Examples:\n",
      "\n",
      "Example 1:\n",
      "Review: طعم بد . بوی بد . فقط قیمتش خوبه .\n",
      "Sentiment: NEGATIVE\n",
      "\n",
      "Example 2:\n",
      "Review: با بقیه چایی ها هیچ فرقی نداره چه طعم چه رنگ\n",
      "Sentiment: NEUTRAL\n",
      "\n",
      "Example 3:\n",
      "Review: خوب بود و در باز بودن و طعم خوبی داشت\n",
      "Sentiment: POSITIVE\n",
      "\n",
      "Example 4:\n",
      "Review: مزه اش یه جور خاصه تند تند نیس ولی متفاوته\n",
      "Sentiment: OTHER\n",
      "\n",
      "Review: نسبت به قیمت جدیدش قهوه های بهتری رو توی این رنج قیمت میشه خرید\n",
      "Sentiment: \n",
      "\n"
     ]
    }
   ],
   "source": [
    "print(sample_prompt)"
   ]
  },
  {
   "cell_type": "markdown",
   "metadata": {},
   "source": [
    "# Evaluate model's response"
   ]
  },
  {
   "cell_type": "code",
   "execution_count": 5,
   "metadata": {},
   "outputs": [],
   "source": [
    "sample_GPT_response = \"\"\"Negative\"\"\""
   ]
  },
  {
   "cell_type": "code",
   "execution_count": 6,
   "metadata": {},
   "outputs": [],
   "source": [
    "acceptable_classes = [\n",
    "    \"POSITIVE\",\n",
    "    \"NEGATIVE\",\n",
    "    \"NEUTRAL\",\n",
    "    \"OTHER\"\n",
    "]"
   ]
  },
  {
   "cell_type": "code",
   "execution_count": 7,
   "metadata": {},
   "outputs": [],
   "source": [
    "def post_proccess_response(response):\n",
    "    response = response.upper()\n",
    "    for label in acceptable_classes:\n",
    "        if label in response:\n",
    "            return label\n",
    "    return \"OTHER\""
   ]
  },
  {
   "cell_type": "code",
   "execution_count": 8,
   "metadata": {},
   "outputs": [
    {
     "data": {
      "text/plain": [
       "'NEGATIVE'"
      ]
     },
     "execution_count": 8,
     "metadata": {},
     "output_type": "execute_result"
    }
   ],
   "source": [
    "proccessed_response = post_proccess_response(sample_GPT_response)\n",
    "proccessed_response"
   ]
  },
  {
   "cell_type": "code",
   "execution_count": 9,
   "metadata": {},
   "outputs": [
    {
     "name": "stdout",
     "output_type": "stream",
     "text": [
      "              precision    recall  f1-score   support\n",
      "\n",
      "    POSITIVE       0.00      0.00      0.00         0\n",
      "    NEGATIVE       1.00      1.00      1.00         1\n",
      "     NEUTRAL       0.00      0.00      0.00         0\n",
      "       OTHER       0.00      0.00      0.00         0\n",
      "\n",
      "   micro avg       1.00      1.00      1.00         1\n",
      "   macro avg       0.25      0.25      0.25         1\n",
      "weighted avg       1.00      1.00      1.00         1\n",
      "\n"
     ]
    }
   ],
   "source": [
    "from sklearn.metrics import classification_report\n",
    "\n",
    "actual = [sample[\"output\"]]\n",
    "predicted = [proccessed_response]\n",
    "print(classification_report(actual, predicted, zero_division=0, target_names=acceptable_classes, labels=acceptable_classes))"
   ]
  },
  {
   "cell_type": "code",
   "execution_count": 10,
   "metadata": {},
   "outputs": [],
   "source": [
    "from sklearn.metrics import accuracy_score, f1_score, precision_score, recall_score\n",
    "from collections import Counter\n",
    "import pandas as pd\n",
    "import numpy as np\n",
    "\n",
    "def calculate_metrics(actual, predicted):\n",
    "    accuracy = accuracy_score(actual, predicted)\n",
    "    f1 = f1_score(actual, predicted, average='weighted', zero_division=0)\n",
    "    precision = precision_score(actual, predicted, average='weighted', zero_division=0)\n",
    "    recall = recall_score(actual, predicted, average='weighted', zero_division=0)\n",
    "\n",
    "    actual_counts = Counter(actual)\n",
    "    predicted_counts = Counter(predicted)\n",
    "    classes = list(set(actual + predicted))\n",
    "    classes.append('All Classes')\n",
    "    metrics = ['Accuracy', 'F1 Score', 'Precision', 'Recall']\n",
    "\n",
    "    probability_table = pd.DataFrame(index=metrics, columns=classes)\n",
    "\n",
    "    for class_label in classes:\n",
    "        if class_label == 'All Classes':\n",
    "            probability_table[class_label][\"F1 Score\"] = f1\n",
    "            probability_table[class_label][\"Precision\"] = precision\n",
    "            probability_table[class_label][\"Recall\"] = recall\n",
    "        else:\n",
    "            class_precision = precision_score(actual, predicted, labels=[class_label], average=None, zero_division=0)\n",
    "            class_recall = recall_score(actual, predicted, labels=[class_label], average=None, zero_division=0)\n",
    "            class_f1 = f1_score(actual, predicted, labels=[class_label], average=None, zero_division=0)\n",
    "            probability_table[class_label][\"F1 Score\"] = class_f1\n",
    "            probability_table[class_label][\"Precision\"] = class_precision\n",
    "            probability_table[class_label][\"Recall\"] = class_recall\n",
    "    probability_table.fillna(value=\"-\", inplace = True)\n",
    "    probability_table['All Classes'][\"Accuracy\"] = accuracy\n",
    "    return probability_table"
   ]
  },
  {
   "cell_type": "code",
   "execution_count": 11,
   "metadata": {},
   "outputs": [
    {
     "data": {
      "text/html": [
       "<div>\n",
       "<style scoped>\n",
       "    .dataframe tbody tr th:only-of-type {\n",
       "        vertical-align: middle;\n",
       "    }\n",
       "\n",
       "    .dataframe tbody tr th {\n",
       "        vertical-align: top;\n",
       "    }\n",
       "\n",
       "    .dataframe thead th {\n",
       "        text-align: right;\n",
       "    }\n",
       "</style>\n",
       "<table border=\"1\" class=\"dataframe\">\n",
       "  <thead>\n",
       "    <tr style=\"text-align: right;\">\n",
       "      <th></th>\n",
       "      <th>NEGATIVE</th>\n",
       "      <th>All Classes</th>\n",
       "    </tr>\n",
       "  </thead>\n",
       "  <tbody>\n",
       "    <tr>\n",
       "      <th>Accuracy</th>\n",
       "      <td>-</td>\n",
       "      <td>1.0</td>\n",
       "    </tr>\n",
       "    <tr>\n",
       "      <th>F1 Score</th>\n",
       "      <td>[1.0]</td>\n",
       "      <td>1.0</td>\n",
       "    </tr>\n",
       "    <tr>\n",
       "      <th>Precision</th>\n",
       "      <td>[1.0]</td>\n",
       "      <td>1.0</td>\n",
       "    </tr>\n",
       "    <tr>\n",
       "      <th>Recall</th>\n",
       "      <td>[1.0]</td>\n",
       "      <td>1.0</td>\n",
       "    </tr>\n",
       "  </tbody>\n",
       "</table>\n",
       "</div>"
      ],
      "text/plain": [
       "          NEGATIVE All Classes\n",
       "Accuracy         -         1.0\n",
       "F1 Score     [1.0]         1.0\n",
       "Precision    [1.0]         1.0\n",
       "Recall       [1.0]         1.0"
      ]
     },
     "execution_count": 11,
     "metadata": {},
     "output_type": "execute_result"
    }
   ],
   "source": [
    "results = calculate_metrics([sample[\"output\"]], [proccessed_response])\n",
    "results"
   ]
  }
 ],
 "metadata": {
  "kernelspec": {
   "display_name": "Python 3",
   "language": "python",
   "name": "python3"
  },
  "language_info": {
   "codemirror_mode": {
    "name": "ipython",
    "version": 3
   },
   "file_extension": ".py",
   "mimetype": "text/x-python",
   "name": "python",
   "nbconvert_exporter": "python",
   "pygments_lexer": "ipython3",
   "version": "3.10.12"
  }
 },
 "nbformat": 4,
 "nbformat_minor": 2
}
