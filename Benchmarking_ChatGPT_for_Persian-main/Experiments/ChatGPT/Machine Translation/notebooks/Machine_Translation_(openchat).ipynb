{
  "cells": [
    {
      "cell_type": "code",
      "execution_count": 1,
      "metadata": {
        "colab": {
          "base_uri": "https://localhost:8080/"
        },
        "id": "jD-RafWmmUVa",
        "outputId": "0054dacd-25cd-44a1-80b4-d8c25026354a"
      },
      "outputs": [
        {
          "output_type": "stream",
          "name": "stdout",
          "text": [
            "Collecting ctransformers\n",
            "  Downloading ctransformers-0.2.27-py3-none-any.whl.metadata (17 kB)\n",
            "Requirement already satisfied: accelerate in /usr/local/lib/python3.11/dist-packages (1.9.0)\n",
            "Requirement already satisfied: huggingface-hub in /usr/local/lib/python3.11/dist-packages (from ctransformers) (0.34.1)\n",
            "Requirement already satisfied: py-cpuinfo<10.0.0,>=9.0.0 in /usr/local/lib/python3.11/dist-packages (from ctransformers) (9.0.0)\n",
            "Requirement already satisfied: numpy<3.0.0,>=1.17 in /usr/local/lib/python3.11/dist-packages (from accelerate) (2.0.2)\n",
            "Requirement already satisfied: packaging>=20.0 in /usr/local/lib/python3.11/dist-packages (from accelerate) (25.0)\n",
            "Requirement already satisfied: psutil in /usr/local/lib/python3.11/dist-packages (from accelerate) (5.9.5)\n",
            "Requirement already satisfied: pyyaml in /usr/local/lib/python3.11/dist-packages (from accelerate) (6.0.2)\n",
            "Requirement already satisfied: torch>=2.0.0 in /usr/local/lib/python3.11/dist-packages (from accelerate) (2.6.0+cu124)\n",
            "Requirement already satisfied: safetensors>=0.4.3 in /usr/local/lib/python3.11/dist-packages (from accelerate) (0.5.3)\n",
            "Requirement already satisfied: filelock in /usr/local/lib/python3.11/dist-packages (from huggingface-hub->ctransformers) (3.18.0)\n",
            "Requirement already satisfied: fsspec>=2023.5.0 in /usr/local/lib/python3.11/dist-packages (from huggingface-hub->ctransformers) (2025.3.0)\n",
            "Requirement already satisfied: requests in /usr/local/lib/python3.11/dist-packages (from huggingface-hub->ctransformers) (2.32.3)\n",
            "Requirement already satisfied: tqdm>=4.42.1 in /usr/local/lib/python3.11/dist-packages (from huggingface-hub->ctransformers) (4.67.1)\n",
            "Requirement already satisfied: typing-extensions>=3.7.4.3 in /usr/local/lib/python3.11/dist-packages (from huggingface-hub->ctransformers) (4.14.1)\n",
            "Requirement already satisfied: hf-xet<2.0.0,>=1.1.3 in /usr/local/lib/python3.11/dist-packages (from huggingface-hub->ctransformers) (1.1.5)\n",
            "Requirement already satisfied: networkx in /usr/local/lib/python3.11/dist-packages (from torch>=2.0.0->accelerate) (3.5)\n",
            "Requirement already satisfied: jinja2 in /usr/local/lib/python3.11/dist-packages (from torch>=2.0.0->accelerate) (3.1.6)\n",
            "Collecting nvidia-cuda-nvrtc-cu12==12.4.127 (from torch>=2.0.0->accelerate)\n",
            "  Downloading nvidia_cuda_nvrtc_cu12-12.4.127-py3-none-manylinux2014_x86_64.whl.metadata (1.5 kB)\n",
            "Collecting nvidia-cuda-runtime-cu12==12.4.127 (from torch>=2.0.0->accelerate)\n",
            "  Downloading nvidia_cuda_runtime_cu12-12.4.127-py3-none-manylinux2014_x86_64.whl.metadata (1.5 kB)\n",
            "Collecting nvidia-cuda-cupti-cu12==12.4.127 (from torch>=2.0.0->accelerate)\n",
            "  Downloading nvidia_cuda_cupti_cu12-12.4.127-py3-none-manylinux2014_x86_64.whl.metadata (1.6 kB)\n",
            "Collecting nvidia-cudnn-cu12==9.1.0.70 (from torch>=2.0.0->accelerate)\n",
            "  Downloading nvidia_cudnn_cu12-9.1.0.70-py3-none-manylinux2014_x86_64.whl.metadata (1.6 kB)\n",
            "Collecting nvidia-cublas-cu12==12.4.5.8 (from torch>=2.0.0->accelerate)\n",
            "  Downloading nvidia_cublas_cu12-12.4.5.8-py3-none-manylinux2014_x86_64.whl.metadata (1.5 kB)\n",
            "Collecting nvidia-cufft-cu12==11.2.1.3 (from torch>=2.0.0->accelerate)\n",
            "  Downloading nvidia_cufft_cu12-11.2.1.3-py3-none-manylinux2014_x86_64.whl.metadata (1.5 kB)\n",
            "Collecting nvidia-curand-cu12==10.3.5.147 (from torch>=2.0.0->accelerate)\n",
            "  Downloading nvidia_curand_cu12-10.3.5.147-py3-none-manylinux2014_x86_64.whl.metadata (1.5 kB)\n",
            "Collecting nvidia-cusolver-cu12==11.6.1.9 (from torch>=2.0.0->accelerate)\n",
            "  Downloading nvidia_cusolver_cu12-11.6.1.9-py3-none-manylinux2014_x86_64.whl.metadata (1.6 kB)\n",
            "Collecting nvidia-cusparse-cu12==12.3.1.170 (from torch>=2.0.0->accelerate)\n",
            "  Downloading nvidia_cusparse_cu12-12.3.1.170-py3-none-manylinux2014_x86_64.whl.metadata (1.6 kB)\n",
            "Requirement already satisfied: nvidia-cusparselt-cu12==0.6.2 in /usr/local/lib/python3.11/dist-packages (from torch>=2.0.0->accelerate) (0.6.2)\n",
            "Requirement already satisfied: nvidia-nccl-cu12==2.21.5 in /usr/local/lib/python3.11/dist-packages (from torch>=2.0.0->accelerate) (2.21.5)\n",
            "Requirement already satisfied: nvidia-nvtx-cu12==12.4.127 in /usr/local/lib/python3.11/dist-packages (from torch>=2.0.0->accelerate) (12.4.127)\n",
            "Collecting nvidia-nvjitlink-cu12==12.4.127 (from torch>=2.0.0->accelerate)\n",
            "  Downloading nvidia_nvjitlink_cu12-12.4.127-py3-none-manylinux2014_x86_64.whl.metadata (1.5 kB)\n",
            "Requirement already satisfied: triton==3.2.0 in /usr/local/lib/python3.11/dist-packages (from torch>=2.0.0->accelerate) (3.2.0)\n",
            "Requirement already satisfied: sympy==1.13.1 in /usr/local/lib/python3.11/dist-packages (from torch>=2.0.0->accelerate) (1.13.1)\n",
            "Requirement already satisfied: mpmath<1.4,>=1.1.0 in /usr/local/lib/python3.11/dist-packages (from sympy==1.13.1->torch>=2.0.0->accelerate) (1.3.0)\n",
            "Requirement already satisfied: MarkupSafe>=2.0 in /usr/local/lib/python3.11/dist-packages (from jinja2->torch>=2.0.0->accelerate) (3.0.2)\n",
            "Requirement already satisfied: charset-normalizer<4,>=2 in /usr/local/lib/python3.11/dist-packages (from requests->huggingface-hub->ctransformers) (3.4.2)\n",
            "Requirement already satisfied: idna<4,>=2.5 in /usr/local/lib/python3.11/dist-packages (from requests->huggingface-hub->ctransformers) (3.10)\n",
            "Requirement already satisfied: urllib3<3,>=1.21.1 in /usr/local/lib/python3.11/dist-packages (from requests->huggingface-hub->ctransformers) (2.5.0)\n",
            "Requirement already satisfied: certifi>=2017.4.17 in /usr/local/lib/python3.11/dist-packages (from requests->huggingface-hub->ctransformers) (2025.7.14)\n",
            "Downloading ctransformers-0.2.27-py3-none-any.whl (9.9 MB)\n",
            "\u001b[2K   \u001b[90m━━━━━━━━━━━━━━━━━━━━━━━━━━━━━━━━━━━━━━━━\u001b[0m \u001b[32m9.9/9.9 MB\u001b[0m \u001b[31m14.6 MB/s\u001b[0m eta \u001b[36m0:00:00\u001b[0m\n",
            "\u001b[?25hDownloading nvidia_cublas_cu12-12.4.5.8-py3-none-manylinux2014_x86_64.whl (363.4 MB)\n",
            "\u001b[2K   \u001b[90m━━━━━━━━━━━━━━━━━━━━━━━━━━━━━━━━━━━━━━━━\u001b[0m \u001b[32m363.4/363.4 MB\u001b[0m \u001b[31m3.0 MB/s\u001b[0m eta \u001b[36m0:00:00\u001b[0m\n",
            "\u001b[?25hDownloading nvidia_cuda_cupti_cu12-12.4.127-py3-none-manylinux2014_x86_64.whl (13.8 MB)\n",
            "\u001b[2K   \u001b[90m━━━━━━━━━━━━━━━━━━━━━━━━━━━━━━━━━━━━━━━━\u001b[0m \u001b[32m13.8/13.8 MB\u001b[0m \u001b[31m37.0 MB/s\u001b[0m eta \u001b[36m0:00:00\u001b[0m\n",
            "\u001b[?25hDownloading nvidia_cuda_nvrtc_cu12-12.4.127-py3-none-manylinux2014_x86_64.whl (24.6 MB)\n",
            "\u001b[2K   \u001b[90m━━━━━━━━━━━━━━━━━━━━━━━━━━━━━━━━━━━━━━━━\u001b[0m \u001b[32m24.6/24.6 MB\u001b[0m \u001b[31m42.9 MB/s\u001b[0m eta \u001b[36m0:00:00\u001b[0m\n",
            "\u001b[?25hDownloading nvidia_cuda_runtime_cu12-12.4.127-py3-none-manylinux2014_x86_64.whl (883 kB)\n",
            "\u001b[2K   \u001b[90m━━━━━━━━━━━━━━━━━━━━━━━━━━━━━━━━━━━━━━━━\u001b[0m \u001b[32m883.7/883.7 kB\u001b[0m \u001b[31m59.2 MB/s\u001b[0m eta \u001b[36m0:00:00\u001b[0m\n",
            "\u001b[?25hDownloading nvidia_cudnn_cu12-9.1.0.70-py3-none-manylinux2014_x86_64.whl (664.8 MB)\n",
            "\u001b[2K   \u001b[90m━━━━━━━━━━━━━━━━━━━━━━━━━━━━━━━━━━━━━━━━\u001b[0m \u001b[32m664.8/664.8 MB\u001b[0m \u001b[31m3.0 MB/s\u001b[0m eta \u001b[36m0:00:00\u001b[0m\n",
            "\u001b[?25hDownloading nvidia_cufft_cu12-11.2.1.3-py3-none-manylinux2014_x86_64.whl (211.5 MB)\n",
            "\u001b[2K   \u001b[90m━━━━━━━━━━━━━━━━━━━━━━━━━━━━━━━━━━━━━━━━\u001b[0m \u001b[32m211.5/211.5 MB\u001b[0m \u001b[31m6.3 MB/s\u001b[0m eta \u001b[36m0:00:00\u001b[0m\n",
            "\u001b[?25hDownloading nvidia_curand_cu12-10.3.5.147-py3-none-manylinux2014_x86_64.whl (56.3 MB)\n",
            "\u001b[2K   \u001b[90m━━━━━━━━━━━━━━━━━━━━━━━━━━━━━━━━━━━━━━━━\u001b[0m \u001b[32m56.3/56.3 MB\u001b[0m \u001b[31m24.5 MB/s\u001b[0m eta \u001b[36m0:00:00\u001b[0m\n",
            "\u001b[?25hDownloading nvidia_cusolver_cu12-11.6.1.9-py3-none-manylinux2014_x86_64.whl (127.9 MB)\n",
            "\u001b[2K   \u001b[90m━━━━━━━━━━━━━━━━━━━━━━━━━━━━━━━━━━━━━━━━\u001b[0m \u001b[32m127.9/127.9 MB\u001b[0m \u001b[31m11.6 MB/s\u001b[0m eta \u001b[36m0:00:00\u001b[0m\n",
            "\u001b[?25hDownloading nvidia_cusparse_cu12-12.3.1.170-py3-none-manylinux2014_x86_64.whl (207.5 MB)\n",
            "\u001b[2K   \u001b[90m━━━━━━━━━━━━━━━━━━━━━━━━━━━━━━━━━━━━━━━━\u001b[0m \u001b[32m207.5/207.5 MB\u001b[0m \u001b[31m4.2 MB/s\u001b[0m eta \u001b[36m0:00:00\u001b[0m\n",
            "\u001b[?25hDownloading nvidia_nvjitlink_cu12-12.4.127-py3-none-manylinux2014_x86_64.whl (21.1 MB)\n",
            "\u001b[2K   \u001b[90m━━━━━━━━━━━━━━━━━━━━━━━━━━━━━━━━━━━━━━━━\u001b[0m \u001b[32m21.1/21.1 MB\u001b[0m \u001b[31m35.4 MB/s\u001b[0m eta \u001b[36m0:00:00\u001b[0m\n",
            "\u001b[?25hInstalling collected packages: nvidia-nvjitlink-cu12, nvidia-curand-cu12, nvidia-cufft-cu12, nvidia-cuda-runtime-cu12, nvidia-cuda-nvrtc-cu12, nvidia-cuda-cupti-cu12, nvidia-cublas-cu12, nvidia-cusparse-cu12, nvidia-cudnn-cu12, nvidia-cusolver-cu12, ctransformers\n",
            "  Attempting uninstall: nvidia-nvjitlink-cu12\n",
            "    Found existing installation: nvidia-nvjitlink-cu12 12.5.82\n",
            "    Uninstalling nvidia-nvjitlink-cu12-12.5.82:\n",
            "      Successfully uninstalled nvidia-nvjitlink-cu12-12.5.82\n",
            "  Attempting uninstall: nvidia-curand-cu12\n",
            "    Found existing installation: nvidia-curand-cu12 10.3.6.82\n",
            "    Uninstalling nvidia-curand-cu12-10.3.6.82:\n",
            "      Successfully uninstalled nvidia-curand-cu12-10.3.6.82\n",
            "  Attempting uninstall: nvidia-cufft-cu12\n",
            "    Found existing installation: nvidia-cufft-cu12 11.2.3.61\n",
            "    Uninstalling nvidia-cufft-cu12-11.2.3.61:\n",
            "      Successfully uninstalled nvidia-cufft-cu12-11.2.3.61\n",
            "  Attempting uninstall: nvidia-cuda-runtime-cu12\n",
            "    Found existing installation: nvidia-cuda-runtime-cu12 12.5.82\n",
            "    Uninstalling nvidia-cuda-runtime-cu12-12.5.82:\n",
            "      Successfully uninstalled nvidia-cuda-runtime-cu12-12.5.82\n",
            "  Attempting uninstall: nvidia-cuda-nvrtc-cu12\n",
            "    Found existing installation: nvidia-cuda-nvrtc-cu12 12.5.82\n",
            "    Uninstalling nvidia-cuda-nvrtc-cu12-12.5.82:\n",
            "      Successfully uninstalled nvidia-cuda-nvrtc-cu12-12.5.82\n",
            "  Attempting uninstall: nvidia-cuda-cupti-cu12\n",
            "    Found existing installation: nvidia-cuda-cupti-cu12 12.5.82\n",
            "    Uninstalling nvidia-cuda-cupti-cu12-12.5.82:\n",
            "      Successfully uninstalled nvidia-cuda-cupti-cu12-12.5.82\n",
            "  Attempting uninstall: nvidia-cublas-cu12\n",
            "    Found existing installation: nvidia-cublas-cu12 12.5.3.2\n",
            "    Uninstalling nvidia-cublas-cu12-12.5.3.2:\n",
            "      Successfully uninstalled nvidia-cublas-cu12-12.5.3.2\n",
            "  Attempting uninstall: nvidia-cusparse-cu12\n",
            "    Found existing installation: nvidia-cusparse-cu12 12.5.1.3\n",
            "    Uninstalling nvidia-cusparse-cu12-12.5.1.3:\n",
            "      Successfully uninstalled nvidia-cusparse-cu12-12.5.1.3\n",
            "  Attempting uninstall: nvidia-cudnn-cu12\n",
            "    Found existing installation: nvidia-cudnn-cu12 9.3.0.75\n",
            "    Uninstalling nvidia-cudnn-cu12-9.3.0.75:\n",
            "      Successfully uninstalled nvidia-cudnn-cu12-9.3.0.75\n",
            "  Attempting uninstall: nvidia-cusolver-cu12\n",
            "    Found existing installation: nvidia-cusolver-cu12 11.6.3.83\n",
            "    Uninstalling nvidia-cusolver-cu12-11.6.3.83:\n",
            "      Successfully uninstalled nvidia-cusolver-cu12-11.6.3.83\n",
            "Successfully installed ctransformers-0.2.27 nvidia-cublas-cu12-12.4.5.8 nvidia-cuda-cupti-cu12-12.4.127 nvidia-cuda-nvrtc-cu12-12.4.127 nvidia-cuda-runtime-cu12-12.4.127 nvidia-cudnn-cu12-9.1.0.70 nvidia-cufft-cu12-11.2.1.3 nvidia-curand-cu12-10.3.5.147 nvidia-cusolver-cu12-11.6.1.9 nvidia-cusparse-cu12-12.3.1.170 nvidia-nvjitlink-cu12-12.4.127\n",
            "Collecting sacrebleu\n",
            "  Downloading sacrebleu-2.5.1-py3-none-any.whl.metadata (51 kB)\n",
            "\u001b[2K     \u001b[90m━━━━━━━━━━━━━━━━━━━━━━━━━━━━━━━━━━━━━━━\u001b[0m \u001b[32m51.8/51.8 kB\u001b[0m \u001b[31m590.8 kB/s\u001b[0m eta \u001b[36m0:00:00\u001b[0m\n",
            "\u001b[?25hCollecting portalocker (from sacrebleu)\n",
            "  Downloading portalocker-3.2.0-py3-none-any.whl.metadata (8.7 kB)\n",
            "Requirement already satisfied: regex in /usr/local/lib/python3.11/dist-packages (from sacrebleu) (2024.11.6)\n",
            "Requirement already satisfied: tabulate>=0.8.9 in /usr/local/lib/python3.11/dist-packages (from sacrebleu) (0.9.0)\n",
            "Requirement already satisfied: numpy>=1.17 in /usr/local/lib/python3.11/dist-packages (from sacrebleu) (2.0.2)\n",
            "Collecting colorama (from sacrebleu)\n",
            "  Downloading colorama-0.4.6-py2.py3-none-any.whl.metadata (17 kB)\n",
            "Requirement already satisfied: lxml in /usr/local/lib/python3.11/dist-packages (from sacrebleu) (5.4.0)\n",
            "Downloading sacrebleu-2.5.1-py3-none-any.whl (104 kB)\n",
            "\u001b[2K   \u001b[90m━━━━━━━━━━━━━━━━━━━━━━━━━━━━━━━━━━━━━━━━\u001b[0m \u001b[32m104.1/104.1 kB\u001b[0m \u001b[31m1.3 MB/s\u001b[0m eta \u001b[36m0:00:00\u001b[0m\n",
            "\u001b[?25hDownloading colorama-0.4.6-py2.py3-none-any.whl (25 kB)\n",
            "Downloading portalocker-3.2.0-py3-none-any.whl (22 kB)\n",
            "Installing collected packages: portalocker, colorama, sacrebleu\n",
            "Successfully installed colorama-0.4.6 portalocker-3.2.0 sacrebleu-2.5.1\n"
          ]
        }
      ],
      "source": [
        "!pip install ctransformers accelerate\n",
        "!pip install sacrebleu"
      ]
    },
    {
      "cell_type": "code",
      "execution_count": 55,
      "metadata": {
        "id": "cp_N9ioSmVmQ"
      },
      "outputs": [],
      "source": [
        "import pandas as pd\n",
        "import sacrebleu\n",
        "import time"
      ]
    },
    {
      "cell_type": "code",
      "execution_count": 56,
      "metadata": {
        "id": "z74IKBH1mZlR"
      },
      "outputs": [],
      "source": [
        "en_file_path = \"/content/English (openchat).txt\"\n",
        "pr_file_path = \"/content/Persian (openchat).txt\"\n",
        "\n",
        "with open(en_file_path, \"r\") as file:\n",
        "    english = [line.strip() for line in file]\n",
        "\n",
        "with open(pr_file_path, \"r\") as file:\n",
        "    persian = [line.strip() for line in file]"
      ]
    },
    {
      "cell_type": "code",
      "execution_count": 57,
      "metadata": {
        "id": "n4oI9jrqmdfm"
      },
      "outputs": [],
      "source": [
        "en_sentences_10 = [\n",
        "    '\"in the heat and sands of India, the mud and swamp of Africa, the purlieus of London, wherever in short the climate or the devil tempts men to fall from the true belief which is her own is even now engaged in dashing down shrines, smashing idols, and setting up in their place her own stern countenance.\"',\n",
        "    'Conversion is her name',\n",
        "    '\"she feasts on the wills of the weakly, loving to impress, to impose, adoring her own features stamped on the face of the populace.\"',\n",
        "    'At Hyde Park Corner on a tub she stands preaching;',\n",
        "    '\"shrouds herself in white and walks penitentially disguised as brotherly love through factories and parliaments; offers help, but desires power;\"',\n",
        "    '\"smites out of her way roughly the dissentient, or dissatisfied; bestows her blessing on those who, looking upward, catch submissively from her eyes the light of their own.\"',\n",
        "    '\"This lady too Rezia Warren Smith divined it had her dwelling in Sir William\\'s heart, though concealed, as she mostly is, under some plausible disguise; some venerable name; love, duty, self sacrifice.\"',\n",
        "    'How he would work',\n",
        "    '\"how toil to raise funds, propagate reforms, initiate institutions!\"',\n",
        "    '\"But conversion, fastidious Goddess, loves blood better than brick, and feasts most subtly on the human will.\"'\n",
        "    ]"
      ]
    },
    {
      "cell_type": "code",
      "execution_count": 45,
      "metadata": {
        "id": "00SRDOMZmhcE"
      },
      "outputs": [],
      "source": [
        "pr_sentences_10 = [\n",
        "    \"در گرما و ماسه هایس هندوستان، گل و باتلاق آفریقا، حواشی لندن، هر جا کهخلاصه اقلیم یا شیطان انسانتن‌ها را وسوسه می‌کند تا از صراط راستینی که از آن اوست بلغزند حتی در همین لحظه مشغول پایین کشیدن محراب‌ها، خرد کردن بت‌ها و بر پا کردن چهرة عبوس خود به جای آن‌هاست.\",\n",
        "    \"نامش همکیش گردانی است\",\n",
        "    \"از ارادة ضعیفان سور خویش فراهم می‌آورد، عاشق تاثیر گذاشتن است، تحمیل کردن، ستایش وجنات خویش که به صورت عوام الناس مهر شده است.\",\n",
        "    \"در هاید پارک کرنر بر گلدانی ایستاده موعظه می‌کند؛\",\n",
        "    \"پیچیده در دایی سفید به نشان توبه با لباس مبدل عشق برادرانه در کارخانه‌ها و مجالس قانونگذاری راه می‌رود؛ پیشنهاد کمک می‌کند، اما طالب قدرت است.\",\n",
        "    \"مخالفان، یا ناراضیان را با خشونت از سر راه خود کنار میزند؛ دعای خیر خود را نثار آنان می‌کند که رو به بالاکرده، مطیعانه فروغ چشمان خود را از چشمان او می‌گیرند.\",\n",
        "    \"این بانو هم رتزیا وارن اسمیت به فراست در یافت د قلب سر ویلیام جایداشت هر چند پنهان بود چنان که اغلب هست در لباس مبدلی موجه ناامی والا عشق وظیفه از خود گذشتگی.\",\n",
        "    \"اماده که چه کارها بکند\",\n",
        "    \"چه زحمت‌ها که بکشد تا منابع مالی را تامین کند اصطلاحات را ترویج کند نهادهایی به راه اندازد.\",\n",
        "    \"اما همکیش گردانی ایزد بانوی سختگیر خون را بیش از خشت دوست دارد و به ظریف‌ترین وجهی اراده‌ی انسان را سفره‌ی سور خود می‌کند.\"\n",
        "]"
      ]
    },
    {
      "cell_type": "markdown",
      "metadata": {
        "id": "sPsO59P2zGA8"
      },
      "source": [
        "## English Prompt - English to Persian"
      ]
    },
    {
      "cell_type": "markdown",
      "metadata": {
        "id": "qC86GROAzEFi"
      },
      "source": [
        "### Zeroshot"
      ]
    },
    {
      "cell_type": "code",
      "execution_count": 7,
      "metadata": {
        "colab": {
          "base_uri": "https://localhost:8080/",
          "height": 113,
          "referenced_widgets": [
            "26b965b137b94314a0e5ff49aa5cd445",
            "67813f63c4f841f791b4a66785d3410c",
            "1029a498222b44b7ba7776ef35c81848",
            "40c55e3092024ee9ae40e2d13b194671",
            "e2c8931b0f774a588197a6e159add2f7",
            "ce132fbaff9f43b7842e085b1ca81590",
            "be767e8b25b5479dae9ac0c807a9b5b2",
            "c8618ec46576412f8f00cacc33013a4d",
            "7be0460a36124b91a945e9e3e43b46b0",
            "9dddc4f189234497849069c2298c4537",
            "81492b79fb354246b743f1b267d0332a",
            "b97260e3613a41009be43d33d175a46f",
            "11be8a5f1c5b4564b00d685c91815230",
            "76eeb11cf8db449dad12b0fdb21407cb",
            "8d1ddc2394d441ac9a02871182331cfc",
            "8dbe6709245d4eb18510facc0e7809af",
            "116b4cec3f4c463e8f39d5e2e21eb195",
            "9b0aa453dc01442ab1025920c6d5dfff",
            "7f5802e285084d358a02abe395e7f381",
            "03180dd21e344abd958a7f6e9e26326e",
            "67ac032b9e624793b23f886425e0d9a5",
            "161b672c42f94f77accf964d4c541444",
            "709cdf7d85d847aa80ca1c5512bfa787",
            "587c065607f64f8fac8da69c49e1eaf0",
            "7db891e418de4adb860ca4f50239d2f5",
            "f01d274ecdc34e428ef029bcf1461a15",
            "7e1d2bd16e5f448ca6b00e6ebb3c6d26",
            "dc63c907d94b4d6dad6f1dc6af515cf1",
            "354d09a60ebb4792ad77a24ae8aca3c1",
            "be92b3ade5be470b9441b39526dcf479",
            "94444d89512f49f088277d6153c80458",
            "48a5651d83b64c23b64683c3c63d3863",
            "d38b2dc91b6045f2b97f3d3415efca98"
          ]
        },
        "id": "IKMHRHc7mlCr",
        "outputId": "7b601fbb-d910-4272-b028-2a30d54efcd2"
      },
      "outputs": [
        {
          "output_type": "display_data",
          "data": {
            "text/plain": [
              "Fetching 1 files:   0%|          | 0/1 [00:00<?, ?it/s]"
            ],
            "application/vnd.jupyter.widget-view+json": {
              "version_major": 2,
              "version_minor": 0,
              "model_id": "26b965b137b94314a0e5ff49aa5cd445"
            }
          },
          "metadata": {}
        },
        {
          "output_type": "display_data",
          "data": {
            "text/plain": [
              "Fetching 1 files:   0%|          | 0/1 [00:00<?, ?it/s]"
            ],
            "application/vnd.jupyter.widget-view+json": {
              "version_major": 2,
              "version_minor": 0,
              "model_id": "b97260e3613a41009be43d33d175a46f"
            }
          },
          "metadata": {}
        },
        {
          "output_type": "display_data",
          "data": {
            "text/plain": [
              "openchat-3.5-0106.Q4_K_M.gguf:   0%|          | 0.00/4.37G [00:00<?, ?B/s]"
            ],
            "application/vnd.jupyter.widget-view+json": {
              "version_major": 2,
              "version_minor": 0,
              "model_id": "709cdf7d85d847aa80ca1c5512bfa787"
            }
          },
          "metadata": {}
        }
      ],
      "source": [
        "from ctransformers import AutoModelForCausalLM\n",
        "\n",
        "# Load mô hình lượng tử hóa OpenChat-3.5 từ TheBloke\n",
        "model = AutoModelForCausalLM.from_pretrained(\n",
        "    \"TheBloke/openchat-3.5-0106-GGUF\",\n",
        "    model_file=\"openchat-3.5-0106.Q4_K_M.gguf\",\n",
        "    model_type=\"llama\",\n",
        "    gpu_layers=20,\n",
        "    context_length=2048\n",
        ")\n",
        "\n",
        "# Định dạng prompt kiểu hội thoại\n",
        "def build_prompt(user_input):\n",
        "    return f\"<|user|>\\n{user_input}\\n<|assistant|>\\n\"\n",
        "\n",
        "# Hàm sinh văn bản từ mô hình\n",
        "def get_completion(prompt):\n",
        "    return model(prompt).strip()\n",
        "\n",
        "# Hàm dịch từng câu và lưu ra file\n",
        "def translate_and_save(sentences, source_language, target_language, output_file):\n",
        "    with open(output_file, 'w', encoding='utf-8') as f:\n",
        "        for sentence in sentences:\n",
        "            user_prompt = f\"Translate the following {source_language} sentence into {target_language}:\\n\\n\\\"{sentence}\\\"\"\n",
        "            prompt = build_prompt(user_prompt)\n",
        "\n",
        "            try:\n",
        "                response = get_completion(prompt)\n",
        "            except Exception as e:\n",
        "                response = \"[Translation Failed]\"\n",
        "                print(f\"Error: {e}\")\n",
        "\n",
        "            f.write(response + '\\n')\n",
        "            time.sleep(20)  # delay tránh tràn bộ nhớ"
      ]
    },
    {
      "cell_type": "code",
      "execution_count": 8,
      "metadata": {
        "id": "Upxlc_EemnY9"
      },
      "outputs": [],
      "source": [
        "output_path = \"/content/OpenChat-EN-PER-0shot (openchat).txt\"\n",
        "translate_and_save(\n",
        "    en_sentences_10,\n",
        "    source_language = \"English\",\n",
        "    target_language = \"Persian\",\n",
        "    output_file = output_path)"
      ]
    },
    {
      "cell_type": "code",
      "execution_count": 10,
      "metadata": {
        "colab": {
          "base_uri": "https://localhost:8080/"
        },
        "id": "5o_v5ih9mo_v",
        "outputId": "f87232f3-e55e-4312-d377-1c22348fef86"
      },
      "outputs": [
        {
          "output_type": "stream",
          "name": "stdout",
          "text": [
            "BLEU = 0.24 10.2/1.2/0.2/0.1 (BP = 0.313 ratio = 0.463 hyp_len = 547 ref_len = 1182)\n"
          ]
        }
      ],
      "source": [
        "enenpr0_file_path = \"/content/OpenChat-EN-PER-0shot (openchat).txt\"\n",
        "\n",
        "with open(enenpr0_file_path, \"r\") as file:\n",
        "    enenpr0 = [line.strip() for line in file]\n",
        "\n",
        "bleu = sacrebleu.corpus_bleu(enenpr0, [persian])\n",
        "\n",
        "print(bleu)"
      ]
    },
    {
      "cell_type": "markdown",
      "metadata": {
        "id": "UP1PJgEnzB2c"
      },
      "source": [
        "### Oneshot"
      ]
    },
    {
      "cell_type": "code",
      "execution_count": 15,
      "metadata": {
        "id": "kicCiBxxs4CN"
      },
      "outputs": [],
      "source": [
        "# Định dạng prompt kiểu hội thoại\n",
        "def build_prompt(user_input):\n",
        "    return f\"<|user|>\\n{user_input}\\n<|assistant|>\\n\"\n",
        "\n",
        "# Hàm sinh văn bản từ mô hình\n",
        "def get_completion(prompt):\n",
        "    return model(prompt).strip()\n",
        "\n",
        "def translate_and_save(sentences, source_language, target_language, output_file):\n",
        "    # Prompt one-shot với ví dụ mẫu\n",
        "    prompt_intro = (\n",
        "        f\"In this task, which is Machine Translation (MT), you will be presented with a sentence in {source_language}. \"\n",
        "        f\"You should translate it to {target_language} in the most appropriate way.\\n\\n\"\n",
        "        f\"Here is an example for this task, which is translating sentences from {source_language} to {target_language}:\\n\"\n",
        "        f\"'This is a sample sentence that we are going to translate it.' -> 'این یک جمله‌ی نمونه است که می‌خواهیم آن را ترجمه کنیم.'\"\n",
        "    )\n",
        "\n",
        "    with open(output_file, 'w', encoding='utf-8') as f:\n",
        "        for sentence in sentences:\n",
        "            user_prompt = f\"{prompt_intro}\\n\\n{source_language} to {target_language}: {sentence}\"\n",
        "            prompt = build_prompt(user_prompt)\n",
        "\n",
        "            try:\n",
        "                response = get_completion(prompt)\n",
        "            except Exception as e:\n",
        "                response = \"[Translation Failed]\"\n",
        "                print(f\"Error: {e}\")\n",
        "\n",
        "            f.write(response.strip() + '\\n')\n",
        "            time.sleep(20)"
      ]
    },
    {
      "cell_type": "code",
      "execution_count": 16,
      "metadata": {
        "id": "QV7UJHMqtDzd"
      },
      "outputs": [],
      "source": [
        "translate_and_save(\n",
        "    en_sentences_10,\n",
        "    source_language=\"English\",\n",
        "    target_language=\"Persian\",\n",
        "    output_file=\"/content/ENPrompt-EN-PER-1shot (openchat).txt\"\n",
        ")"
      ]
    },
    {
      "cell_type": "code",
      "execution_count": 17,
      "metadata": {
        "colab": {
          "base_uri": "https://localhost:8080/"
        },
        "id": "EQ5fBr1WtG2a",
        "outputId": "d541971b-cccf-4f47-9f5c-53ce2d5a8c22"
      },
      "outputs": [
        {
          "output_type": "stream",
          "name": "stdout",
          "text": [
            "BLEU = 0.08 7.5/0.5/0.1/0.1 (BP = 0.173 ratio = 0.363 hyp_len = 429 ref_len = 1182)\n"
          ]
        }
      ],
      "source": [
        "enenpr1_file_path = \"/content/ENPrompt-EN-PER-1shot (openchat).txt\"\n",
        "\n",
        "with open(enenpr1_file_path, \"r\") as file:\n",
        "    enenpr1 = [line.strip() for line in file]\n",
        "\n",
        "bleu = sacrebleu.corpus_bleu(enenpr1, [persian])\n",
        "\n",
        "print(bleu)"
      ]
    },
    {
      "cell_type": "markdown",
      "metadata": {
        "id": "rfM-QBiHy_Ag"
      },
      "source": [
        "### Fewshot"
      ]
    },
    {
      "cell_type": "code",
      "execution_count": 22,
      "metadata": {
        "id": "qv38LqBVti9L"
      },
      "outputs": [],
      "source": [
        "# Định dạng prompt kiểu hội thoại\n",
        "def build_prompt(user_input):\n",
        "    return f\"<|user|>\\n{user_input}\\n<|assistant|>\\n\"\n",
        "\n",
        "# Hàm sinh văn bản từ mô hình\n",
        "def get_completion(prompt):\n",
        "    return model(prompt).strip()\n",
        "\n",
        "def translate_and_save(sentences, source_language, target_language, output_file):\n",
        "    prompt_intro = (\n",
        "        f\"In this task, which is Machine Translation (MT), you will be presented with a sentence in {source_language}. \"\n",
        "        f\"You should translate it to {target_language} in the most appropriate way.\\n\\n\"\n",
        "\n",
        "        f\"Here are some examples for this task:\\n\"\n",
        "        f\"'I love programming.' -> 'من برنامه‌نویسی را دوست دارم.'\\n\"\n",
        "        f\"'Cooking a delicious meal requires a combination of ingredients and techniques.' -> 'پخت یک وعده غذای خوشمزه نیازمند ترکیبی از مواد اولیه و تکنیک‌هاست.'\\n\"\n",
        "        f\"'In the realm of artificial intelligence, neural networks play a pivotal role.' -> 'در دنیای هوش مصنوعی، شبکه‌های عصبی نقشی کلیدی ایفا می‌کنند.'\"\n",
        "    )\n",
        "\n",
        "    with open(output_file, 'w', encoding='utf-8') as f:\n",
        "        for sentence in sentences:\n",
        "            prompt = f\"{prompt_intro}\\n\\n{source_language} to {target_language}: {sentence}\"\n",
        "            response = get_completion(prompt)\n",
        "            f.write(response.strip() + '\\n')\n",
        "            time.sleep(24)  # Tránh nóng máy"
      ]
    },
    {
      "cell_type": "code",
      "execution_count": 23,
      "metadata": {
        "id": "dlxB3UkwtsEb"
      },
      "outputs": [],
      "source": [
        "translate_and_save(\n",
        "    en_sentences_10,\n",
        "    source_language=\"English\",\n",
        "    target_language=\"Persian\",\n",
        "    output_file=\"/content/ENPrompt-EN-PER-3shot (openchat).txt\"\n",
        "    )"
      ]
    },
    {
      "cell_type": "code",
      "execution_count": 24,
      "metadata": {
        "colab": {
          "base_uri": "https://localhost:8080/"
        },
        "id": "MNcu_6oYtuGo",
        "outputId": "dbfc045e-f660-4557-8b07-b926c8a14125"
      },
      "outputs": [
        {
          "output_type": "stream",
          "name": "stdout",
          "text": [
            "BLEU = 0.32 8.8/0.8/0.1/0.1 (BP = 0.651 ratio = 0.700 hyp_len = 827 ref_len = 1182)\n"
          ]
        }
      ],
      "source": [
        "enenpr3_file_path = \"/content/ENPrompt-EN-PER-3shot (openchat).txt\"\n",
        "\n",
        "with open(enenpr3_file_path, \"r\") as file:\n",
        "    enenpr3 = [line.strip() for line in file]\n",
        "\n",
        "bleu = sacrebleu.corpus_bleu(enenpr3, [persian])\n",
        "\n",
        "print(bleu)"
      ]
    },
    {
      "cell_type": "markdown",
      "metadata": {
        "id": "sNK1mQx65P6a"
      },
      "source": [
        "## English Prompt - Persian to English"
      ]
    },
    {
      "cell_type": "markdown",
      "metadata": {
        "id": "K_iIkSCP5T8n"
      },
      "source": [
        "### Zeroshot"
      ]
    },
    {
      "cell_type": "code",
      "execution_count": 30,
      "metadata": {
        "id": "aOopDJiS5yWr"
      },
      "outputs": [],
      "source": [
        "# Định dạng prompt kiểu hội thoại\n",
        "def build_prompt(user_input):\n",
        "    return f\"<|user|>\\n{user_input}\\n<|assistant|>\\n\"\n",
        "\n",
        "# Hàm sinh văn bản từ mô hình\n",
        "def get_completion(prompt):\n",
        "    return model(prompt).strip()\n",
        "\n",
        "def translate_and_save(sentences, source_language, target_language, output_file):\n",
        "    # Prompt for machine translation task\n",
        "    prompt_intro = (\n",
        "        f\"In this task, which is Machine Translation (MT), you will be presented with a sentence in the {source_language} (Farsi) language.\"\n",
        "        f\"You should translate it to {target_language} in the most appropriate way.\"\n",
        "    )\n",
        "    # Get the translation for each sentence and save it to a file\n",
        "    with open(output_file, 'w', encoding='utf-8') as f:\n",
        "        for sentence in sentences:\n",
        "            prompt = f\"{prompt_intro}\\n{source_language} to {target_language}: {sentence}\"\n",
        "\n",
        "            # Get the translation for the current sentence\n",
        "            response = get_completion(prompt)\n",
        "\n",
        "            # Extract and save the translated sentence\n",
        "            translated_sentence = response.strip()\n",
        "            f.write(translated_sentence + '\\n')\n",
        "\n",
        "            # Add a delay of 20 seconds between requests\n",
        "            time.sleep(21)"
      ]
    },
    {
      "cell_type": "code",
      "execution_count": 31,
      "metadata": {
        "id": "q4xL5ynY6JTp"
      },
      "outputs": [],
      "source": [
        "translate_and_save(\n",
        "    pr_sentences_10,\n",
        "    source_language=\"Persian\",\n",
        "    target_language=\"English\",\n",
        "    output_file=\"/content/ENPrompt-PER-EN-0shot (openchat).txt\"\n",
        ")"
      ]
    },
    {
      "cell_type": "code",
      "execution_count": 32,
      "metadata": {
        "colab": {
          "base_uri": "https://localhost:8080/"
        },
        "id": "V_hzkgy_6NX4",
        "outputId": "a354aee2-04bb-400a-f8e1-982d3e7fcc7d"
      },
      "outputs": [
        {
          "output_type": "stream",
          "name": "stdout",
          "text": [
            "BLEU = 1.68 12.1/1.7/0.9/0.7 (BP = 0.889 ratio = 0.895 hyp_len = 1027 ref_len = 1148)\n"
          ]
        }
      ],
      "source": [
        "enpren1_file_path = \"/content/ENPrompt-PER-EN-0shot (openchat).txt\"\n",
        "\n",
        "with open(enpren1_file_path, \"r\") as file:\n",
        "    enpren0 = [line.strip() for line in file]\n",
        "\n",
        "bleu = sacrebleu.corpus_bleu(enpren0, [english])\n",
        "\n",
        "print(bleu)"
      ]
    },
    {
      "cell_type": "markdown",
      "metadata": {
        "id": "VCYZggcV6cHH"
      },
      "source": [
        "### Oneshot"
      ]
    },
    {
      "cell_type": "code",
      "execution_count": 40,
      "metadata": {
        "id": "6VxtoHZJ6d9d"
      },
      "outputs": [],
      "source": [
        "# Định dạng prompt kiểu hội thoại\n",
        "def build_prompt(user_input):\n",
        "    return f\"<|user|>\\n{user_input}\\n<|assistant|>\\n\"\n",
        "\n",
        "# Hàm sinh văn bản từ mô hình\n",
        "def get_completion(prompt):\n",
        "    return model(prompt).strip()\n",
        "\n",
        "def translate_and_save(sentences, source_language, target_language, output_file):\n",
        "    # Prompt for machine translation task\n",
        "    prompt_intro = (\n",
        "        f\"In this task, which is Machine Translation (MT), you will be presented with a sentence in {source_language}\"\n",
        "        f\"You should translate it to {target_language} in the most appropriate way.\"\n",
        "\n",
        "        f\"Here is an example for this task, which is translating sentecnes from {source_language} to {target_language}:\"\n",
        "        \"'این یک جمله‌ی نمونه است که می‌خواهیم آن را ترجمه کنیم' -> 'This is a sample sentence that we are going to translate it.'\"\n",
        "    )\n",
        "\n",
        "    # Get the translation for each sentence and save it to a file\n",
        "    with open(output_file, 'w', encoding='utf-8') as f:\n",
        "        for sentence in sentences:\n",
        "            prompt = f\"{prompt_intro}\\n{source_language} to {target_language}: {sentence}\"\n",
        "\n",
        "            # Get the translation for the current sentence\n",
        "            response = get_completion(prompt)\n",
        "\n",
        "            # Extract and save the translated sentence\n",
        "            translated_sentence = response.strip()\n",
        "            f.write(translated_sentence + '\\n')\n",
        "\n",
        "            # Add a delay of 20 seconds between requests\n",
        "            time.sleep(21)"
      ]
    },
    {
      "cell_type": "code",
      "execution_count": 41,
      "metadata": {
        "id": "k1K5JUBr6rtO"
      },
      "outputs": [],
      "source": [
        "translate_and_save(\n",
        "    pr_sentences_10,\n",
        "    source_language=\"Persian\",\n",
        "    target_language=\"English\",\n",
        "    output_file=\"/content/ENPrompt-PER-EN-1shot (openchat).txt\"\n",
        ")"
      ]
    },
    {
      "cell_type": "code",
      "execution_count": 42,
      "metadata": {
        "colab": {
          "base_uri": "https://localhost:8080/"
        },
        "id": "cXzvRW916urD",
        "outputId": "9831c6ea-ce37-497b-d7cc-0c88b379f243"
      },
      "outputs": [
        {
          "output_type": "stream",
          "name": "stdout",
          "text": [
            "BLEU = 1.79 14.0/3.9/2.0/1.2 (BP = 0.530 ratio = 0.611 hyp_len = 494 ref_len = 808)\n"
          ]
        }
      ],
      "source": [
        "enpren3_file_path = \"/content/ENPrompt-PER-EN-1shot (openchat).txt\"\n",
        "\n",
        "with open(enpren3_file_path, \"r\") as file:\n",
        "    enpren0 = [line.strip() for line in file]\n",
        "\n",
        "bleu = sacrebleu.corpus_bleu(enpren0, [english])\n",
        "\n",
        "print(bleu)"
      ]
    },
    {
      "cell_type": "markdown",
      "metadata": {
        "id": "qN-CGNwg68Px"
      },
      "source": [
        "### Fewshot"
      ]
    },
    {
      "cell_type": "code",
      "execution_count": 46,
      "metadata": {
        "id": "ZNWjR73L62T5"
      },
      "outputs": [],
      "source": [
        "# Định dạng prompt kiểu hội thoại\n",
        "def build_prompt(user_input):\n",
        "    return f\"<|user|>\\n{user_input}\\n<|assistant|>\\n\"\n",
        "\n",
        "# Hàm sinh văn bản từ mô hình\n",
        "def get_completion(prompt):\n",
        "    return model(prompt).strip()\n",
        "\n",
        "def translate_and_save(sentences, source_language, target_language, output_file):\n",
        "    # Prompt for machine translation task\n",
        "    prompt_intro = (\n",
        "        f\"In this task, which is Machine Translation (MT), you will be presented with a sentence in {source_language}\"\n",
        "        f\"You should translate it to {target_language} in the most appropriate way.\"\n",
        "\n",
        "        f\"Here is an example for this task, which is translating sentecnes from {source_language} to {target_language}:\"\n",
        "        \"'من عاشق برنامه‌نویسی هستم.' -> 'I love programming.'\"\n",
        "        \"'پخت یک وعده غذای خوشمزه نیازمند ترکیبی از مواد اولیه و تکنیک‌هاست.' -> 'Cooking a delicious meal requires a combination of ingredients and techniques.'\"\n",
        "        \"'در دنیای هوش مصنوعی، شبکه‌های عصبی نقشی کلیدی ایفا می‌کنند.' -> 'In the realm of artificial intelligence, neural networks play a pivotal role.'\"\n",
        "    )\n",
        "\n",
        "    # Get the translation for each sentence and save it to a file\n",
        "    with open(output_file, 'w', encoding='utf-8') as f:\n",
        "        for sentence in sentences:\n",
        "            prompt = f\"{prompt_intro}\\n{source_language} to {target_language}: {sentence}\"\n",
        "\n",
        "            # Get the translation for the current sentence\n",
        "            response = get_completion(prompt)\n",
        "\n",
        "            # Extract and save the translated sentence\n",
        "            translated_sentence = response.strip()\n",
        "            f.write(translated_sentence + '\\n')\n",
        "\n",
        "            # Add a delay of 20 seconds between requests\n",
        "            time.sleep(20)"
      ]
    },
    {
      "cell_type": "code",
      "execution_count": 47,
      "metadata": {
        "id": "IUSTI4q87GkJ"
      },
      "outputs": [],
      "source": [
        "translate_and_save(\n",
        "    pr_sentences_10,\n",
        "    source_language=\"Persian\",\n",
        "    target_language=\"English\",\n",
        "    output_file=\"/content/ENPrompt-PER-EN-3shot (openchat).txt\"\n",
        ")"
      ]
    },
    {
      "cell_type": "code",
      "execution_count": 48,
      "metadata": {
        "colab": {
          "base_uri": "https://localhost:8080/"
        },
        "id": "3zioZNXR7Jh5",
        "outputId": "5cbbcf76-49f8-45d6-eda3-e3ed91b11827"
      },
      "outputs": [
        {
          "output_type": "stream",
          "name": "stdout",
          "text": [
            "BLEU = 0.13 6.3/0.2/0.1/0.1 (BP = 0.410 ratio = 0.529 hyp_len = 495 ref_len = 936)\n"
          ]
        }
      ],
      "source": [
        "enpren0_file_path = \"/content/ENPrompt-PER-EN-3shot (openchat).txt\"\n",
        "\n",
        "with open(enpren0_file_path, \"r\") as file:\n",
        "    enpren0 = [line.strip() for line in file]\n",
        "\n",
        "bleu = sacrebleu.corpus_bleu(enpren0, [english])\n",
        "\n",
        "print(bleu)"
      ]
    },
    {
      "cell_type": "markdown",
      "metadata": {
        "id": "stzCD6a0_gJP"
      },
      "source": [
        "## Persian Prompt - English to Persian"
      ]
    },
    {
      "cell_type": "markdown",
      "metadata": {
        "id": "fJK9AkiZ_oBd"
      },
      "source": [
        "### Zeroshot"
      ]
    },
    {
      "cell_type": "code",
      "execution_count": 52,
      "metadata": {
        "id": "tQeqhSXY_eg2"
      },
      "outputs": [],
      "source": [
        "# Định dạng prompt kiểu hội thoại\n",
        "def build_prompt(user_input):\n",
        "    return f\"<|user|>\\n{user_input}\\n<|assistant|>\\n\"\n",
        "\n",
        "# Hàm sinh văn bản từ mô hình\n",
        "def get_completion(prompt):\n",
        "    return model(prompt).strip()\n",
        "\n",
        "def translate_and_save(sentences, source_language, target_language, output_file):\n",
        "    # Prompt for machine translation task\n",
        "    prompt_intro = (\n",
        "        \"در ادامه‌، وظیفه‌ (تکلیفی) برای شما درنظر گرفته شده است، که مربوط به  ترجمه ماشینی است. \"\n",
        "        \"به این منظور جمله‌ای به زبان انگلیسی به شما نشان داده می‌شود. \"\n",
        "        \"در نتیجه، شما باید آن جمله را به شکل مناسب و دقیق به زبان فارسی ترجمه کنید.\"\n",
        "    )\n",
        "\n",
        "    # Get the translation for each sentence and save it to a file\n",
        "    with open(output_file, 'w', encoding='utf-8') as f:\n",
        "        for sentence in sentences:\n",
        "            prompt = f\"{prompt_intro}\\n\\nجمله زیر به زبان فارسی است و باید به زبان انگلیسی ترجمه شود:\\n {sentence}\"\n",
        "\n",
        "            # Get the translation for the current sentence\n",
        "            response = get_completion(prompt)\n",
        "\n",
        "            # Extract and save the translated sentence\n",
        "            translated_sentence = response.strip()\n",
        "            f.write(translated_sentence + '\\n')\n",
        "\n",
        "            # Add a delay of 20 seconds between requests\n",
        "            time.sleep(20)"
      ]
    },
    {
      "cell_type": "code",
      "execution_count": 53,
      "metadata": {
        "id": "bYxtkUK5_uRi"
      },
      "outputs": [],
      "source": [
        "translate_and_save(\n",
        "    en_sentences_10,\n",
        "    source_language=\"English\",\n",
        "    target_language=\"Persian\",\n",
        "    output_file=\"/content/PERPrompt-EN-PER-0shot (openchat).txt\"\n",
        ")"
      ]
    },
    {
      "cell_type": "code",
      "execution_count": 54,
      "metadata": {
        "colab": {
          "base_uri": "https://localhost:8080/"
        },
        "id": "JBJjZcXkAUAC",
        "outputId": "f781e893-6ada-4fbe-c33e-5d54c247554c"
      },
      "outputs": [
        {
          "output_type": "stream",
          "name": "stdout",
          "text": [
            "BLEU = 0.12 9.6/0.2/0.1/0.0 (BP = 0.406 ratio = 0.526 hyp_len = 622 ref_len = 1182)\n"
          ]
        }
      ],
      "source": [
        "prener0_file_path = \"/content/PERPrompt-EN-PER-0shot (openchat).txt\"\n",
        "\n",
        "with open(prener0_file_path, \"r\") as file:\n",
        "    prener0 = [line.strip() for line in file]\n",
        "\n",
        "bleu = sacrebleu.corpus_bleu(prener0, [persian])\n",
        "\n",
        "print(bleu)"
      ]
    },
    {
      "cell_type": "markdown",
      "metadata": {
        "id": "DGYEKIk-JfC7"
      },
      "source": [
        "### Oneshot"
      ]
    },
    {
      "cell_type": "code",
      "execution_count": 58,
      "metadata": {
        "id": "dfIOfBoTJhGN"
      },
      "outputs": [],
      "source": [
        "# Định dạng prompt kiểu hội thoại\n",
        "def build_prompt(user_input):\n",
        "    return f\"<|user|>\\n{user_input}\\n<|assistant|>\\n\"\n",
        "\n",
        "# Hàm sinh văn bản từ mô hình\n",
        "def get_completion(prompt):\n",
        "    return model(prompt).strip()\n",
        "\n",
        "def translate_and_save(sentences, source_language, target_language, output_file):\n",
        "    # Prompt for machine translation task\n",
        "    prompt_intro = (\n",
        "        \"در ادامه‌، وظیفه‌ (تکلیفی) برای شما درنظر گرفته شده است، که مربوط به  ترجمه ماشینی است. \"\n",
        "        \"به این منظور جمله‌ای به زبان انگلیسی به شما نشان داده می‌شود. \"\n",
        "        \"در نتیجه، شما باید آن جمله را به شکل مناسب و دقیق به زبان فارسی ترجمه کنید.\"\n",
        "\n",
        "        \" مثالی از ترجمه‌ی جمله‌ی نمونه از زبان انگلیسی به زبان فارسی:\"\n",
        "        \" 'This is a sample sentence that we are going to translate it.' -> 'این یک جمله‌ی نمونه است که می‌خواهیم آن را ترجمه کنیم.'\"\n",
        "    )\n",
        "\n",
        "    # Get the translation for each sentence and save it to a file\n",
        "    with open(output_file, 'w', encoding='utf-8') as f:\n",
        "        for sentence in sentences:\n",
        "            prompt = f\"{prompt_intro}\\n\\nجمله زیر به زبان فارسی است و باید به زبان انگلیسی ترجمه شود:\\n {sentence}\"\n",
        "\n",
        "            # Get the translation for the current sentence\n",
        "            response = get_completion(prompt)\n",
        "\n",
        "            # Extract and save the translated sentence\n",
        "            translated_sentence = response.strip()\n",
        "            f.write(translated_sentence + '\\n')\n",
        "\n",
        "            # Add a delay of 20 seconds between requests\n",
        "            time.sleep(20)"
      ]
    },
    {
      "cell_type": "code",
      "execution_count": 59,
      "metadata": {
        "id": "iPtjdunuJoqE"
      },
      "outputs": [],
      "source": [
        "translate_and_save(\n",
        "    en_sentences_10,\n",
        "    source_language=\"English\",\n",
        "    target_language=\"Persian\",\n",
        "    output_file=\"/content/PERPrompt-EN-PER-1shot (openchat).txt\"\n",
        ")"
      ]
    },
    {
      "cell_type": "code",
      "execution_count": 60,
      "metadata": {
        "id": "EeB7E5uHJq98",
        "colab": {
          "base_uri": "https://localhost:8080/"
        },
        "outputId": "3138e7f9-5d83-475b-9ff2-baa4f608370e"
      },
      "outputs": [
        {
          "output_type": "stream",
          "name": "stdout",
          "text": [
            "BLEU = 0.12 9.6/0.2/0.1/0.0 (BP = 0.406 ratio = 0.526 hyp_len = 622 ref_len = 1182)\n"
          ]
        }
      ],
      "source": [
        "prener1_file_path = \"/content/PERPrompt-EN-PER-1shot (openchat).txt\"\n",
        "\n",
        "with open(prener1_file_path, \"r\") as file:\n",
        "    prener1 = [line.strip() for line in file]\n",
        "\n",
        "bleu = sacrebleu.corpus_bleu(prener0, [persian])\n",
        "\n",
        "print(bleu)"
      ]
    }
  ],
  "metadata": {
    "accelerator": "GPU",
    "colab": {
      "collapsed_sections": [
        "qC86GROAzEFi",
        "UP1PJgEnzB2c"
      ],
      "gpuType": "T4",
      "provenance": [],
      "machine_shape": "hm"
    },
    "kernelspec": {
      "display_name": "Python 3",
      "name": "python3"
    },
    "language_info": {
      "name": "python"
    },
    "widgets": {
      "application/vnd.jupyter.widget-state+json": {
        "26b965b137b94314a0e5ff49aa5cd445": {
          "model_module": "@jupyter-widgets/controls",
          "model_name": "HBoxModel",
          "model_module_version": "1.5.0",
          "state": {
            "_dom_classes": [],
            "_model_module": "@jupyter-widgets/controls",
            "_model_module_version": "1.5.0",
            "_model_name": "HBoxModel",
            "_view_count": null,
            "_view_module": "@jupyter-widgets/controls",
            "_view_module_version": "1.5.0",
            "_view_name": "HBoxView",
            "box_style": "",
            "children": [
              "IPY_MODEL_67813f63c4f841f791b4a66785d3410c",
              "IPY_MODEL_1029a498222b44b7ba7776ef35c81848",
              "IPY_MODEL_40c55e3092024ee9ae40e2d13b194671"
            ],
            "layout": "IPY_MODEL_e2c8931b0f774a588197a6e159add2f7"
          }
        },
        "67813f63c4f841f791b4a66785d3410c": {
          "model_module": "@jupyter-widgets/controls",
          "model_name": "HTMLModel",
          "model_module_version": "1.5.0",
          "state": {
            "_dom_classes": [],
            "_model_module": "@jupyter-widgets/controls",
            "_model_module_version": "1.5.0",
            "_model_name": "HTMLModel",
            "_view_count": null,
            "_view_module": "@jupyter-widgets/controls",
            "_view_module_version": "1.5.0",
            "_view_name": "HTMLView",
            "description": "",
            "description_tooltip": null,
            "layout": "IPY_MODEL_ce132fbaff9f43b7842e085b1ca81590",
            "placeholder": "​",
            "style": "IPY_MODEL_be767e8b25b5479dae9ac0c807a9b5b2",
            "value": "Fetching 1 files: 100%"
          }
        },
        "1029a498222b44b7ba7776ef35c81848": {
          "model_module": "@jupyter-widgets/controls",
          "model_name": "FloatProgressModel",
          "model_module_version": "1.5.0",
          "state": {
            "_dom_classes": [],
            "_model_module": "@jupyter-widgets/controls",
            "_model_module_version": "1.5.0",
            "_model_name": "FloatProgressModel",
            "_view_count": null,
            "_view_module": "@jupyter-widgets/controls",
            "_view_module_version": "1.5.0",
            "_view_name": "ProgressView",
            "bar_style": "success",
            "description": "",
            "description_tooltip": null,
            "layout": "IPY_MODEL_c8618ec46576412f8f00cacc33013a4d",
            "max": 1,
            "min": 0,
            "orientation": "horizontal",
            "style": "IPY_MODEL_7be0460a36124b91a945e9e3e43b46b0",
            "value": 1
          }
        },
        "40c55e3092024ee9ae40e2d13b194671": {
          "model_module": "@jupyter-widgets/controls",
          "model_name": "HTMLModel",
          "model_module_version": "1.5.0",
          "state": {
            "_dom_classes": [],
            "_model_module": "@jupyter-widgets/controls",
            "_model_module_version": "1.5.0",
            "_model_name": "HTMLModel",
            "_view_count": null,
            "_view_module": "@jupyter-widgets/controls",
            "_view_module_version": "1.5.0",
            "_view_name": "HTMLView",
            "description": "",
            "description_tooltip": null,
            "layout": "IPY_MODEL_9dddc4f189234497849069c2298c4537",
            "placeholder": "​",
            "style": "IPY_MODEL_81492b79fb354246b743f1b267d0332a",
            "value": " 1/1 [00:00&lt;00:00, 115.34it/s]"
          }
        },
        "e2c8931b0f774a588197a6e159add2f7": {
          "model_module": "@jupyter-widgets/base",
          "model_name": "LayoutModel",
          "model_module_version": "1.2.0",
          "state": {
            "_model_module": "@jupyter-widgets/base",
            "_model_module_version": "1.2.0",
            "_model_name": "LayoutModel",
            "_view_count": null,
            "_view_module": "@jupyter-widgets/base",
            "_view_module_version": "1.2.0",
            "_view_name": "LayoutView",
            "align_content": null,
            "align_items": null,
            "align_self": null,
            "border": null,
            "bottom": null,
            "display": null,
            "flex": null,
            "flex_flow": null,
            "grid_area": null,
            "grid_auto_columns": null,
            "grid_auto_flow": null,
            "grid_auto_rows": null,
            "grid_column": null,
            "grid_gap": null,
            "grid_row": null,
            "grid_template_areas": null,
            "grid_template_columns": null,
            "grid_template_rows": null,
            "height": null,
            "justify_content": null,
            "justify_items": null,
            "left": null,
            "margin": null,
            "max_height": null,
            "max_width": null,
            "min_height": null,
            "min_width": null,
            "object_fit": null,
            "object_position": null,
            "order": null,
            "overflow": null,
            "overflow_x": null,
            "overflow_y": null,
            "padding": null,
            "right": null,
            "top": null,
            "visibility": null,
            "width": null
          }
        },
        "ce132fbaff9f43b7842e085b1ca81590": {
          "model_module": "@jupyter-widgets/base",
          "model_name": "LayoutModel",
          "model_module_version": "1.2.0",
          "state": {
            "_model_module": "@jupyter-widgets/base",
            "_model_module_version": "1.2.0",
            "_model_name": "LayoutModel",
            "_view_count": null,
            "_view_module": "@jupyter-widgets/base",
            "_view_module_version": "1.2.0",
            "_view_name": "LayoutView",
            "align_content": null,
            "align_items": null,
            "align_self": null,
            "border": null,
            "bottom": null,
            "display": null,
            "flex": null,
            "flex_flow": null,
            "grid_area": null,
            "grid_auto_columns": null,
            "grid_auto_flow": null,
            "grid_auto_rows": null,
            "grid_column": null,
            "grid_gap": null,
            "grid_row": null,
            "grid_template_areas": null,
            "grid_template_columns": null,
            "grid_template_rows": null,
            "height": null,
            "justify_content": null,
            "justify_items": null,
            "left": null,
            "margin": null,
            "max_height": null,
            "max_width": null,
            "min_height": null,
            "min_width": null,
            "object_fit": null,
            "object_position": null,
            "order": null,
            "overflow": null,
            "overflow_x": null,
            "overflow_y": null,
            "padding": null,
            "right": null,
            "top": null,
            "visibility": null,
            "width": null
          }
        },
        "be767e8b25b5479dae9ac0c807a9b5b2": {
          "model_module": "@jupyter-widgets/controls",
          "model_name": "DescriptionStyleModel",
          "model_module_version": "1.5.0",
          "state": {
            "_model_module": "@jupyter-widgets/controls",
            "_model_module_version": "1.5.0",
            "_model_name": "DescriptionStyleModel",
            "_view_count": null,
            "_view_module": "@jupyter-widgets/base",
            "_view_module_version": "1.2.0",
            "_view_name": "StyleView",
            "description_width": ""
          }
        },
        "c8618ec46576412f8f00cacc33013a4d": {
          "model_module": "@jupyter-widgets/base",
          "model_name": "LayoutModel",
          "model_module_version": "1.2.0",
          "state": {
            "_model_module": "@jupyter-widgets/base",
            "_model_module_version": "1.2.0",
            "_model_name": "LayoutModel",
            "_view_count": null,
            "_view_module": "@jupyter-widgets/base",
            "_view_module_version": "1.2.0",
            "_view_name": "LayoutView",
            "align_content": null,
            "align_items": null,
            "align_self": null,
            "border": null,
            "bottom": null,
            "display": null,
            "flex": null,
            "flex_flow": null,
            "grid_area": null,
            "grid_auto_columns": null,
            "grid_auto_flow": null,
            "grid_auto_rows": null,
            "grid_column": null,
            "grid_gap": null,
            "grid_row": null,
            "grid_template_areas": null,
            "grid_template_columns": null,
            "grid_template_rows": null,
            "height": null,
            "justify_content": null,
            "justify_items": null,
            "left": null,
            "margin": null,
            "max_height": null,
            "max_width": null,
            "min_height": null,
            "min_width": null,
            "object_fit": null,
            "object_position": null,
            "order": null,
            "overflow": null,
            "overflow_x": null,
            "overflow_y": null,
            "padding": null,
            "right": null,
            "top": null,
            "visibility": null,
            "width": null
          }
        },
        "7be0460a36124b91a945e9e3e43b46b0": {
          "model_module": "@jupyter-widgets/controls",
          "model_name": "ProgressStyleModel",
          "model_module_version": "1.5.0",
          "state": {
            "_model_module": "@jupyter-widgets/controls",
            "_model_module_version": "1.5.0",
            "_model_name": "ProgressStyleModel",
            "_view_count": null,
            "_view_module": "@jupyter-widgets/base",
            "_view_module_version": "1.2.0",
            "_view_name": "StyleView",
            "bar_color": null,
            "description_width": ""
          }
        },
        "9dddc4f189234497849069c2298c4537": {
          "model_module": "@jupyter-widgets/base",
          "model_name": "LayoutModel",
          "model_module_version": "1.2.0",
          "state": {
            "_model_module": "@jupyter-widgets/base",
            "_model_module_version": "1.2.0",
            "_model_name": "LayoutModel",
            "_view_count": null,
            "_view_module": "@jupyter-widgets/base",
            "_view_module_version": "1.2.0",
            "_view_name": "LayoutView",
            "align_content": null,
            "align_items": null,
            "align_self": null,
            "border": null,
            "bottom": null,
            "display": null,
            "flex": null,
            "flex_flow": null,
            "grid_area": null,
            "grid_auto_columns": null,
            "grid_auto_flow": null,
            "grid_auto_rows": null,
            "grid_column": null,
            "grid_gap": null,
            "grid_row": null,
            "grid_template_areas": null,
            "grid_template_columns": null,
            "grid_template_rows": null,
            "height": null,
            "justify_content": null,
            "justify_items": null,
            "left": null,
            "margin": null,
            "max_height": null,
            "max_width": null,
            "min_height": null,
            "min_width": null,
            "object_fit": null,
            "object_position": null,
            "order": null,
            "overflow": null,
            "overflow_x": null,
            "overflow_y": null,
            "padding": null,
            "right": null,
            "top": null,
            "visibility": null,
            "width": null
          }
        },
        "81492b79fb354246b743f1b267d0332a": {
          "model_module": "@jupyter-widgets/controls",
          "model_name": "DescriptionStyleModel",
          "model_module_version": "1.5.0",
          "state": {
            "_model_module": "@jupyter-widgets/controls",
            "_model_module_version": "1.5.0",
            "_model_name": "DescriptionStyleModel",
            "_view_count": null,
            "_view_module": "@jupyter-widgets/base",
            "_view_module_version": "1.2.0",
            "_view_name": "StyleView",
            "description_width": ""
          }
        },
        "b97260e3613a41009be43d33d175a46f": {
          "model_module": "@jupyter-widgets/controls",
          "model_name": "HBoxModel",
          "model_module_version": "1.5.0",
          "state": {
            "_dom_classes": [],
            "_model_module": "@jupyter-widgets/controls",
            "_model_module_version": "1.5.0",
            "_model_name": "HBoxModel",
            "_view_count": null,
            "_view_module": "@jupyter-widgets/controls",
            "_view_module_version": "1.5.0",
            "_view_name": "HBoxView",
            "box_style": "",
            "children": [
              "IPY_MODEL_11be8a5f1c5b4564b00d685c91815230",
              "IPY_MODEL_76eeb11cf8db449dad12b0fdb21407cb",
              "IPY_MODEL_8d1ddc2394d441ac9a02871182331cfc"
            ],
            "layout": "IPY_MODEL_8dbe6709245d4eb18510facc0e7809af"
          }
        },
        "11be8a5f1c5b4564b00d685c91815230": {
          "model_module": "@jupyter-widgets/controls",
          "model_name": "HTMLModel",
          "model_module_version": "1.5.0",
          "state": {
            "_dom_classes": [],
            "_model_module": "@jupyter-widgets/controls",
            "_model_module_version": "1.5.0",
            "_model_name": "HTMLModel",
            "_view_count": null,
            "_view_module": "@jupyter-widgets/controls",
            "_view_module_version": "1.5.0",
            "_view_name": "HTMLView",
            "description": "",
            "description_tooltip": null,
            "layout": "IPY_MODEL_116b4cec3f4c463e8f39d5e2e21eb195",
            "placeholder": "​",
            "style": "IPY_MODEL_9b0aa453dc01442ab1025920c6d5dfff",
            "value": "Fetching 1 files: 100%"
          }
        },
        "76eeb11cf8db449dad12b0fdb21407cb": {
          "model_module": "@jupyter-widgets/controls",
          "model_name": "FloatProgressModel",
          "model_module_version": "1.5.0",
          "state": {
            "_dom_classes": [],
            "_model_module": "@jupyter-widgets/controls",
            "_model_module_version": "1.5.0",
            "_model_name": "FloatProgressModel",
            "_view_count": null,
            "_view_module": "@jupyter-widgets/controls",
            "_view_module_version": "1.5.0",
            "_view_name": "ProgressView",
            "bar_style": "success",
            "description": "",
            "description_tooltip": null,
            "layout": "IPY_MODEL_7f5802e285084d358a02abe395e7f381",
            "max": 1,
            "min": 0,
            "orientation": "horizontal",
            "style": "IPY_MODEL_03180dd21e344abd958a7f6e9e26326e",
            "value": 1
          }
        },
        "8d1ddc2394d441ac9a02871182331cfc": {
          "model_module": "@jupyter-widgets/controls",
          "model_name": "HTMLModel",
          "model_module_version": "1.5.0",
          "state": {
            "_dom_classes": [],
            "_model_module": "@jupyter-widgets/controls",
            "_model_module_version": "1.5.0",
            "_model_name": "HTMLModel",
            "_view_count": null,
            "_view_module": "@jupyter-widgets/controls",
            "_view_module_version": "1.5.0",
            "_view_name": "HTMLView",
            "description": "",
            "description_tooltip": null,
            "layout": "IPY_MODEL_67ac032b9e624793b23f886425e0d9a5",
            "placeholder": "​",
            "style": "IPY_MODEL_161b672c42f94f77accf964d4c541444",
            "value": " 1/1 [00:49&lt;00:00, 49.07s/it]"
          }
        },
        "8dbe6709245d4eb18510facc0e7809af": {
          "model_module": "@jupyter-widgets/base",
          "model_name": "LayoutModel",
          "model_module_version": "1.2.0",
          "state": {
            "_model_module": "@jupyter-widgets/base",
            "_model_module_version": "1.2.0",
            "_model_name": "LayoutModel",
            "_view_count": null,
            "_view_module": "@jupyter-widgets/base",
            "_view_module_version": "1.2.0",
            "_view_name": "LayoutView",
            "align_content": null,
            "align_items": null,
            "align_self": null,
            "border": null,
            "bottom": null,
            "display": null,
            "flex": null,
            "flex_flow": null,
            "grid_area": null,
            "grid_auto_columns": null,
            "grid_auto_flow": null,
            "grid_auto_rows": null,
            "grid_column": null,
            "grid_gap": null,
            "grid_row": null,
            "grid_template_areas": null,
            "grid_template_columns": null,
            "grid_template_rows": null,
            "height": null,
            "justify_content": null,
            "justify_items": null,
            "left": null,
            "margin": null,
            "max_height": null,
            "max_width": null,
            "min_height": null,
            "min_width": null,
            "object_fit": null,
            "object_position": null,
            "order": null,
            "overflow": null,
            "overflow_x": null,
            "overflow_y": null,
            "padding": null,
            "right": null,
            "top": null,
            "visibility": null,
            "width": null
          }
        },
        "116b4cec3f4c463e8f39d5e2e21eb195": {
          "model_module": "@jupyter-widgets/base",
          "model_name": "LayoutModel",
          "model_module_version": "1.2.0",
          "state": {
            "_model_module": "@jupyter-widgets/base",
            "_model_module_version": "1.2.0",
            "_model_name": "LayoutModel",
            "_view_count": null,
            "_view_module": "@jupyter-widgets/base",
            "_view_module_version": "1.2.0",
            "_view_name": "LayoutView",
            "align_content": null,
            "align_items": null,
            "align_self": null,
            "border": null,
            "bottom": null,
            "display": null,
            "flex": null,
            "flex_flow": null,
            "grid_area": null,
            "grid_auto_columns": null,
            "grid_auto_flow": null,
            "grid_auto_rows": null,
            "grid_column": null,
            "grid_gap": null,
            "grid_row": null,
            "grid_template_areas": null,
            "grid_template_columns": null,
            "grid_template_rows": null,
            "height": null,
            "justify_content": null,
            "justify_items": null,
            "left": null,
            "margin": null,
            "max_height": null,
            "max_width": null,
            "min_height": null,
            "min_width": null,
            "object_fit": null,
            "object_position": null,
            "order": null,
            "overflow": null,
            "overflow_x": null,
            "overflow_y": null,
            "padding": null,
            "right": null,
            "top": null,
            "visibility": null,
            "width": null
          }
        },
        "9b0aa453dc01442ab1025920c6d5dfff": {
          "model_module": "@jupyter-widgets/controls",
          "model_name": "DescriptionStyleModel",
          "model_module_version": "1.5.0",
          "state": {
            "_model_module": "@jupyter-widgets/controls",
            "_model_module_version": "1.5.0",
            "_model_name": "DescriptionStyleModel",
            "_view_count": null,
            "_view_module": "@jupyter-widgets/base",
            "_view_module_version": "1.2.0",
            "_view_name": "StyleView",
            "description_width": ""
          }
        },
        "7f5802e285084d358a02abe395e7f381": {
          "model_module": "@jupyter-widgets/base",
          "model_name": "LayoutModel",
          "model_module_version": "1.2.0",
          "state": {
            "_model_module": "@jupyter-widgets/base",
            "_model_module_version": "1.2.0",
            "_model_name": "LayoutModel",
            "_view_count": null,
            "_view_module": "@jupyter-widgets/base",
            "_view_module_version": "1.2.0",
            "_view_name": "LayoutView",
            "align_content": null,
            "align_items": null,
            "align_self": null,
            "border": null,
            "bottom": null,
            "display": null,
            "flex": null,
            "flex_flow": null,
            "grid_area": null,
            "grid_auto_columns": null,
            "grid_auto_flow": null,
            "grid_auto_rows": null,
            "grid_column": null,
            "grid_gap": null,
            "grid_row": null,
            "grid_template_areas": null,
            "grid_template_columns": null,
            "grid_template_rows": null,
            "height": null,
            "justify_content": null,
            "justify_items": null,
            "left": null,
            "margin": null,
            "max_height": null,
            "max_width": null,
            "min_height": null,
            "min_width": null,
            "object_fit": null,
            "object_position": null,
            "order": null,
            "overflow": null,
            "overflow_x": null,
            "overflow_y": null,
            "padding": null,
            "right": null,
            "top": null,
            "visibility": null,
            "width": null
          }
        },
        "03180dd21e344abd958a7f6e9e26326e": {
          "model_module": "@jupyter-widgets/controls",
          "model_name": "ProgressStyleModel",
          "model_module_version": "1.5.0",
          "state": {
            "_model_module": "@jupyter-widgets/controls",
            "_model_module_version": "1.5.0",
            "_model_name": "ProgressStyleModel",
            "_view_count": null,
            "_view_module": "@jupyter-widgets/base",
            "_view_module_version": "1.2.0",
            "_view_name": "StyleView",
            "bar_color": null,
            "description_width": ""
          }
        },
        "67ac032b9e624793b23f886425e0d9a5": {
          "model_module": "@jupyter-widgets/base",
          "model_name": "LayoutModel",
          "model_module_version": "1.2.0",
          "state": {
            "_model_module": "@jupyter-widgets/base",
            "_model_module_version": "1.2.0",
            "_model_name": "LayoutModel",
            "_view_count": null,
            "_view_module": "@jupyter-widgets/base",
            "_view_module_version": "1.2.0",
            "_view_name": "LayoutView",
            "align_content": null,
            "align_items": null,
            "align_self": null,
            "border": null,
            "bottom": null,
            "display": null,
            "flex": null,
            "flex_flow": null,
            "grid_area": null,
            "grid_auto_columns": null,
            "grid_auto_flow": null,
            "grid_auto_rows": null,
            "grid_column": null,
            "grid_gap": null,
            "grid_row": null,
            "grid_template_areas": null,
            "grid_template_columns": null,
            "grid_template_rows": null,
            "height": null,
            "justify_content": null,
            "justify_items": null,
            "left": null,
            "margin": null,
            "max_height": null,
            "max_width": null,
            "min_height": null,
            "min_width": null,
            "object_fit": null,
            "object_position": null,
            "order": null,
            "overflow": null,
            "overflow_x": null,
            "overflow_y": null,
            "padding": null,
            "right": null,
            "top": null,
            "visibility": null,
            "width": null
          }
        },
        "161b672c42f94f77accf964d4c541444": {
          "model_module": "@jupyter-widgets/controls",
          "model_name": "DescriptionStyleModel",
          "model_module_version": "1.5.0",
          "state": {
            "_model_module": "@jupyter-widgets/controls",
            "_model_module_version": "1.5.0",
            "_model_name": "DescriptionStyleModel",
            "_view_count": null,
            "_view_module": "@jupyter-widgets/base",
            "_view_module_version": "1.2.0",
            "_view_name": "StyleView",
            "description_width": ""
          }
        },
        "709cdf7d85d847aa80ca1c5512bfa787": {
          "model_module": "@jupyter-widgets/controls",
          "model_name": "HBoxModel",
          "model_module_version": "1.5.0",
          "state": {
            "_dom_classes": [],
            "_model_module": "@jupyter-widgets/controls",
            "_model_module_version": "1.5.0",
            "_model_name": "HBoxModel",
            "_view_count": null,
            "_view_module": "@jupyter-widgets/controls",
            "_view_module_version": "1.5.0",
            "_view_name": "HBoxView",
            "box_style": "",
            "children": [
              "IPY_MODEL_587c065607f64f8fac8da69c49e1eaf0",
              "IPY_MODEL_7db891e418de4adb860ca4f50239d2f5",
              "IPY_MODEL_f01d274ecdc34e428ef029bcf1461a15"
            ],
            "layout": "IPY_MODEL_7e1d2bd16e5f448ca6b00e6ebb3c6d26"
          }
        },
        "587c065607f64f8fac8da69c49e1eaf0": {
          "model_module": "@jupyter-widgets/controls",
          "model_name": "HTMLModel",
          "model_module_version": "1.5.0",
          "state": {
            "_dom_classes": [],
            "_model_module": "@jupyter-widgets/controls",
            "_model_module_version": "1.5.0",
            "_model_name": "HTMLModel",
            "_view_count": null,
            "_view_module": "@jupyter-widgets/controls",
            "_view_module_version": "1.5.0",
            "_view_name": "HTMLView",
            "description": "",
            "description_tooltip": null,
            "layout": "IPY_MODEL_dc63c907d94b4d6dad6f1dc6af515cf1",
            "placeholder": "​",
            "style": "IPY_MODEL_354d09a60ebb4792ad77a24ae8aca3c1",
            "value": "openchat-3.5-0106.Q4_K_M.gguf: 100%"
          }
        },
        "7db891e418de4adb860ca4f50239d2f5": {
          "model_module": "@jupyter-widgets/controls",
          "model_name": "FloatProgressModel",
          "model_module_version": "1.5.0",
          "state": {
            "_dom_classes": [],
            "_model_module": "@jupyter-widgets/controls",
            "_model_module_version": "1.5.0",
            "_model_name": "FloatProgressModel",
            "_view_count": null,
            "_view_module": "@jupyter-widgets/controls",
            "_view_module_version": "1.5.0",
            "_view_name": "ProgressView",
            "bar_style": "success",
            "description": "",
            "description_tooltip": null,
            "layout": "IPY_MODEL_be92b3ade5be470b9441b39526dcf479",
            "max": 4368450656,
            "min": 0,
            "orientation": "horizontal",
            "style": "IPY_MODEL_94444d89512f49f088277d6153c80458",
            "value": 4368450656
          }
        },
        "f01d274ecdc34e428ef029bcf1461a15": {
          "model_module": "@jupyter-widgets/controls",
          "model_name": "HTMLModel",
          "model_module_version": "1.5.0",
          "state": {
            "_dom_classes": [],
            "_model_module": "@jupyter-widgets/controls",
            "_model_module_version": "1.5.0",
            "_model_name": "HTMLModel",
            "_view_count": null,
            "_view_module": "@jupyter-widgets/controls",
            "_view_module_version": "1.5.0",
            "_view_name": "HTMLView",
            "description": "",
            "description_tooltip": null,
            "layout": "IPY_MODEL_48a5651d83b64c23b64683c3c63d3863",
            "placeholder": "​",
            "style": "IPY_MODEL_d38b2dc91b6045f2b97f3d3415efca98",
            "value": " 4.37G/4.37G [00:48&lt;00:00, 91.8MB/s]"
          }
        },
        "7e1d2bd16e5f448ca6b00e6ebb3c6d26": {
          "model_module": "@jupyter-widgets/base",
          "model_name": "LayoutModel",
          "model_module_version": "1.2.0",
          "state": {
            "_model_module": "@jupyter-widgets/base",
            "_model_module_version": "1.2.0",
            "_model_name": "LayoutModel",
            "_view_count": null,
            "_view_module": "@jupyter-widgets/base",
            "_view_module_version": "1.2.0",
            "_view_name": "LayoutView",
            "align_content": null,
            "align_items": null,
            "align_self": null,
            "border": null,
            "bottom": null,
            "display": null,
            "flex": null,
            "flex_flow": null,
            "grid_area": null,
            "grid_auto_columns": null,
            "grid_auto_flow": null,
            "grid_auto_rows": null,
            "grid_column": null,
            "grid_gap": null,
            "grid_row": null,
            "grid_template_areas": null,
            "grid_template_columns": null,
            "grid_template_rows": null,
            "height": null,
            "justify_content": null,
            "justify_items": null,
            "left": null,
            "margin": null,
            "max_height": null,
            "max_width": null,
            "min_height": null,
            "min_width": null,
            "object_fit": null,
            "object_position": null,
            "order": null,
            "overflow": null,
            "overflow_x": null,
            "overflow_y": null,
            "padding": null,
            "right": null,
            "top": null,
            "visibility": null,
            "width": null
          }
        },
        "dc63c907d94b4d6dad6f1dc6af515cf1": {
          "model_module": "@jupyter-widgets/base",
          "model_name": "LayoutModel",
          "model_module_version": "1.2.0",
          "state": {
            "_model_module": "@jupyter-widgets/base",
            "_model_module_version": "1.2.0",
            "_model_name": "LayoutModel",
            "_view_count": null,
            "_view_module": "@jupyter-widgets/base",
            "_view_module_version": "1.2.0",
            "_view_name": "LayoutView",
            "align_content": null,
            "align_items": null,
            "align_self": null,
            "border": null,
            "bottom": null,
            "display": null,
            "flex": null,
            "flex_flow": null,
            "grid_area": null,
            "grid_auto_columns": null,
            "grid_auto_flow": null,
            "grid_auto_rows": null,
            "grid_column": null,
            "grid_gap": null,
            "grid_row": null,
            "grid_template_areas": null,
            "grid_template_columns": null,
            "grid_template_rows": null,
            "height": null,
            "justify_content": null,
            "justify_items": null,
            "left": null,
            "margin": null,
            "max_height": null,
            "max_width": null,
            "min_height": null,
            "min_width": null,
            "object_fit": null,
            "object_position": null,
            "order": null,
            "overflow": null,
            "overflow_x": null,
            "overflow_y": null,
            "padding": null,
            "right": null,
            "top": null,
            "visibility": null,
            "width": null
          }
        },
        "354d09a60ebb4792ad77a24ae8aca3c1": {
          "model_module": "@jupyter-widgets/controls",
          "model_name": "DescriptionStyleModel",
          "model_module_version": "1.5.0",
          "state": {
            "_model_module": "@jupyter-widgets/controls",
            "_model_module_version": "1.5.0",
            "_model_name": "DescriptionStyleModel",
            "_view_count": null,
            "_view_module": "@jupyter-widgets/base",
            "_view_module_version": "1.2.0",
            "_view_name": "StyleView",
            "description_width": ""
          }
        },
        "be92b3ade5be470b9441b39526dcf479": {
          "model_module": "@jupyter-widgets/base",
          "model_name": "LayoutModel",
          "model_module_version": "1.2.0",
          "state": {
            "_model_module": "@jupyter-widgets/base",
            "_model_module_version": "1.2.0",
            "_model_name": "LayoutModel",
            "_view_count": null,
            "_view_module": "@jupyter-widgets/base",
            "_view_module_version": "1.2.0",
            "_view_name": "LayoutView",
            "align_content": null,
            "align_items": null,
            "align_self": null,
            "border": null,
            "bottom": null,
            "display": null,
            "flex": null,
            "flex_flow": null,
            "grid_area": null,
            "grid_auto_columns": null,
            "grid_auto_flow": null,
            "grid_auto_rows": null,
            "grid_column": null,
            "grid_gap": null,
            "grid_row": null,
            "grid_template_areas": null,
            "grid_template_columns": null,
            "grid_template_rows": null,
            "height": null,
            "justify_content": null,
            "justify_items": null,
            "left": null,
            "margin": null,
            "max_height": null,
            "max_width": null,
            "min_height": null,
            "min_width": null,
            "object_fit": null,
            "object_position": null,
            "order": null,
            "overflow": null,
            "overflow_x": null,
            "overflow_y": null,
            "padding": null,
            "right": null,
            "top": null,
            "visibility": null,
            "width": null
          }
        },
        "94444d89512f49f088277d6153c80458": {
          "model_module": "@jupyter-widgets/controls",
          "model_name": "ProgressStyleModel",
          "model_module_version": "1.5.0",
          "state": {
            "_model_module": "@jupyter-widgets/controls",
            "_model_module_version": "1.5.0",
            "_model_name": "ProgressStyleModel",
            "_view_count": null,
            "_view_module": "@jupyter-widgets/base",
            "_view_module_version": "1.2.0",
            "_view_name": "StyleView",
            "bar_color": null,
            "description_width": ""
          }
        },
        "48a5651d83b64c23b64683c3c63d3863": {
          "model_module": "@jupyter-widgets/base",
          "model_name": "LayoutModel",
          "model_module_version": "1.2.0",
          "state": {
            "_model_module": "@jupyter-widgets/base",
            "_model_module_version": "1.2.0",
            "_model_name": "LayoutModel",
            "_view_count": null,
            "_view_module": "@jupyter-widgets/base",
            "_view_module_version": "1.2.0",
            "_view_name": "LayoutView",
            "align_content": null,
            "align_items": null,
            "align_self": null,
            "border": null,
            "bottom": null,
            "display": null,
            "flex": null,
            "flex_flow": null,
            "grid_area": null,
            "grid_auto_columns": null,
            "grid_auto_flow": null,
            "grid_auto_rows": null,
            "grid_column": null,
            "grid_gap": null,
            "grid_row": null,
            "grid_template_areas": null,
            "grid_template_columns": null,
            "grid_template_rows": null,
            "height": null,
            "justify_content": null,
            "justify_items": null,
            "left": null,
            "margin": null,
            "max_height": null,
            "max_width": null,
            "min_height": null,
            "min_width": null,
            "object_fit": null,
            "object_position": null,
            "order": null,
            "overflow": null,
            "overflow_x": null,
            "overflow_y": null,
            "padding": null,
            "right": null,
            "top": null,
            "visibility": null,
            "width": null
          }
        },
        "d38b2dc91b6045f2b97f3d3415efca98": {
          "model_module": "@jupyter-widgets/controls",
          "model_name": "DescriptionStyleModel",
          "model_module_version": "1.5.0",
          "state": {
            "_model_module": "@jupyter-widgets/controls",
            "_model_module_version": "1.5.0",
            "_model_name": "DescriptionStyleModel",
            "_view_count": null,
            "_view_module": "@jupyter-widgets/base",
            "_view_module_version": "1.2.0",
            "_view_name": "StyleView",
            "description_width": ""
          }
        }
      }
    }
  },
  "nbformat": 4,
  "nbformat_minor": 0
}