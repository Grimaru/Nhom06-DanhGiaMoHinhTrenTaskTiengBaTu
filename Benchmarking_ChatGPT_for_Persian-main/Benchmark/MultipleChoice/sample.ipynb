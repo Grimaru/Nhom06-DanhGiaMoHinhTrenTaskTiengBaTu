{
  "nbformat": 4,
  "nbformat_minor": 0,
  "metadata": {
    "colab": {
      "provenance": []
    },
    "kernelspec": {
      "name": "python3",
      "display_name": "Python 3"
    },
    "language_info": {
      "name": "python"
    }
  },
  "cells": [
    {
      "cell_type": "markdown",
      "source": [
        "evaluation will be the same for other tasks in Multiple Choice category"
      ],
      "metadata": {
        "id": "jKcCCsulzOCw"
      }
    },
    {
      "cell_type": "markdown",
      "source": [
        "Given a sample"
      ],
      "metadata": {
        "id": "dHFk5yT_g1Gp"
      }
    },
    {
      "cell_type": "code",
      "execution_count": 7,
      "metadata": {
        "id": "AC83O7WJgx0u"
      },
      "outputs": [],
      "source": [
        "sample = {\"question\": \"کدامیک ازاعداد زیرازعدد 43 کوچکتراست؟\", \"candidates\": \"45,54,49,34\", \"target\": \"34\"}"
      ]
    },
    {
      "cell_type": "markdown",
      "source": [
        "# prepare input prompt"
      ],
      "metadata": {
        "id": "79lLZ0cyhHup"
      }
    },
    {
      "cell_type": "code",
      "source": [
        "from prompt import PERSIAN_ONE"
      ],
      "metadata": {
        "id": "y7g7JsvqhKp2"
      },
      "execution_count": 8,
      "outputs": []
    },
    {
      "cell_type": "code",
      "source": [
        "sample_prompt = PERSIAN_ONE.format(question=sample['question'],candidates=sample['candidates'])"
      ],
      "metadata": {
        "id": "2wXwAdg1hT3E"
      },
      "execution_count": 9,
      "outputs": []
    },
    {
      "cell_type": "code",
      "source": [
        "print(sample_prompt)"
      ],
      "metadata": {
        "colab": {
          "base_uri": "https://localhost:8080/"
        },
        "id": "Jh9XmlV8hilr",
        "outputId": "4cdd63e8-215d-4c87-f12f-bb181984ffa7"
      },
      "execution_count": 10,
      "outputs": [
        {
          "output_type": "stream",
          "name": "stdout",
          "text": [
            "\n",
            "  در ادامه، به شما یک سوال چند گزینه‌ای به زبان فارسی نشان داده می شود. شما باید بر اساس دانش خود به سوال پاسخ دهید. پاسخ خود را از بین گزینه‌های داده شده انتخاب کنید.\n",
            "\n",
            "  نمونه:\n",
            "\n",
            "  سوال:\n",
            "  حاصل عبارت ۴ + ۵۵۳ برابر است با ؟\n",
            "\n",
            "  گزینه ها:\n",
            "  [558,557,556,554]\n",
            "\n",
            "  جواب:\n",
            "  557\n",
            "\n",
            "  سوال:\n",
            "  '''کدامیک ازاعداد زیرازعدد 43 کوچکتراست؟'''\n",
            "\n",
            "  گزینه ها:\n",
            "  '''[45,54,49,34]'''\n",
            "\n",
            "  جواب:\n",
            "\n"
          ]
        }
      ]
    },
    {
      "cell_type": "markdown",
      "source": [
        "# Evaluate model's response"
      ],
      "metadata": {
        "id": "9rYh5EwShn75"
      }
    },
    {
      "cell_type": "code",
      "source": [
        "import numpy as np"
      ],
      "metadata": {
        "id": "zvFiWsWVkBSD"
      },
      "execution_count": 5,
      "outputs": []
    },
    {
      "cell_type": "code",
      "source": [
        "sample_GPT_response = \"\"\"\n",
        "34\n",
        "\"\"\""
      ],
      "metadata": {
        "id": "9FU29VkDhprp"
      },
      "execution_count": 16,
      "outputs": []
    },
    {
      "cell_type": "code",
      "source": [
        "gpt_results = [sample_GPT_response]\n",
        "true_ans = [sample['target']]\n",
        "accuracy = np.array([1 if true_ans[i] in gpt_results[i] else 0 for i in range(len(true_ans))]).mean()\n",
        "print(f'accuracy: {accuracy}')"
      ],
      "metadata": {
        "colab": {
          "base_uri": "https://localhost:8080/"
        },
        "id": "VwLxW9eci3T6",
        "outputId": "14a65174-62cd-44fd-e196-9f042221ad11"
      },
      "execution_count": 17,
      "outputs": [
        {
          "output_type": "stream",
          "name": "stdout",
          "text": [
            "accuracy: 1.0\n"
          ]
        }
      ]
    }
  ]
}