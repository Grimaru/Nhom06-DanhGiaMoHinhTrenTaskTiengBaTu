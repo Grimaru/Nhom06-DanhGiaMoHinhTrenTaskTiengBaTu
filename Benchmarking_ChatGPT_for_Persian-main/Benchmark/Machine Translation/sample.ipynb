{
  "nbformat": 4,
  "nbformat_minor": 0,
  "metadata": {
    "colab": {
      "provenance": []
    },
    "kernelspec": {
      "name": "python3",
      "display_name": "Python 3"
    },
    "language_info": {
      "name": "python"
    }
  },
  "cells": [
    {
      "cell_type": "markdown",
      "source": [
        "Given a sample"
      ],
      "metadata": {
        "collapsed": false,
        "id": "8417aff8bf4b1a14"
      }
    },
    {
      "cell_type": "code",
      "execution_count": 31,
      "metadata": {
        "collapsed": true,
        "ExecuteTime": {
          "end_time": "2024-03-09T20:08:45.741419Z",
          "start_time": "2024-03-09T20:08:45.724813Z"
        },
        "id": "initial_id"
      },
      "outputs": [],
      "source": [
        "sample = {\"En_sentence\": \"It was his habit.\", \"Per_sentence\": \"عادتش بود.\", \"type\": \"En-Per\"}"
      ]
    },
    {
      "cell_type": "markdown",
      "source": [
        "# Prepare input prompt"
      ],
      "metadata": {
        "collapsed": false,
        "id": "8ddf05a07279b34c"
      }
    },
    {
      "cell_type": "code",
      "execution_count": 32,
      "outputs": [],
      "source": [
        "from prompt import ENGLISH_ONE"
      ],
      "metadata": {
        "ExecuteTime": {
          "end_time": "2024-03-09T20:08:45.741769Z",
          "start_time": "2024-03-09T20:08:45.728081Z"
        },
        "id": "9c041754d9815dc3"
      }
    },
    {
      "cell_type": "code",
      "execution_count": 33,
      "outputs": [],
      "source": [
        "sample_prompt = ENGLISH_ONE.format(input=sample['En_sentence'], output=sample['Per_sentence'], source_language='English', target_language='Persian')"
      ],
      "metadata": {
        "ExecuteTime": {
          "end_time": "2024-03-09T20:08:45.741844Z",
          "start_time": "2024-03-09T20:08:45.730910Z"
        },
        "id": "bc180567ff230cb7"
      }
    },
    {
      "cell_type": "code",
      "execution_count": 34,
      "outputs": [
        {
          "output_type": "stream",
          "name": "stdout",
          "text": [
            "\n",
            "  Task Description:\n",
            "  In this task, which is Machine Translation (MT), you will be presented with a sentence in English.\n",
            "  You should translate it to Persian in the most appropriate way.\n",
            "\n",
            "  Here is an example for this task, which is translating sentences from English to Persian:\n",
            "  'This is a sample sentence that we are going to translate it.'\n",
            "  -> 'این یک جمله‌ی نمونه است که می‌خواهیم آن را ترجمه کنیم.'\n",
            "\n",
            "  Input:\n",
            "  It was his habit.\n",
            "  \n"
          ]
        }
      ],
      "source": [
        "print(sample_prompt)"
      ],
      "metadata": {
        "ExecuteTime": {
          "end_time": "2024-03-09T20:08:45.742117Z",
          "start_time": "2024-03-09T20:08:45.732644Z"
        },
        "id": "fed76f5deade2ed3",
        "outputId": "c125d3ad-b9d6-4fbc-c964-710692f34dcc",
        "colab": {
          "base_uri": "https://localhost:8080/"
        }
      }
    },
    {
      "cell_type": "markdown",
      "source": [
        "# Evaluate model's response"
      ],
      "metadata": {
        "collapsed": false,
        "id": "dbb94a7e759b90e9"
      }
    },
    {
      "cell_type": "code",
      "source": [
        "from nltk.translate.bleu_score import sentence_bleu, SmoothingFunction"
      ],
      "metadata": {
        "id": "aemP1-6kKMid"
      },
      "execution_count": 35,
      "outputs": []
    },
    {
      "cell_type": "code",
      "source": [
        "sample_GPT_response = \"\"\"این عادت او بود.\"\"\""
      ],
      "metadata": {
        "id": "oEwRI0_WLh7c"
      },
      "execution_count": 36,
      "outputs": []
    },
    {
      "cell_type": "code",
      "execution_count": 37,
      "outputs": [
        {
          "output_type": "execute_result",
          "data": {
            "text/plain": [
              "0.08034284189446518"
            ]
          },
          "metadata": {},
          "execution_count": 37
        }
      ],
      "source": [
        "model_translation = sample_GPT_response.split()\n",
        "\n",
        "reference_translation = [sample['Per_sentence'].split()]\n",
        "\n",
        "bleu_score = sentence_bleu(reference_translation, model_translation, smoothing_function=SmoothingFunction().method1)\n",
        "\n",
        "bleu_score"
      ],
      "metadata": {
        "ExecuteTime": {
          "start_time": "2024-03-09T20:08:45.788789Z"
        },
        "id": "20653183a1e5d9fe",
        "colab": {
          "base_uri": "https://localhost:8080/"
        },
        "outputId": "466a78e7-85d6-497f-b1e0-810490497dbb"
      }
    },
    {
      "cell_type": "code",
      "source": [],
      "metadata": {
        "id": "5IgMNPLHLikZ"
      },
      "execution_count": null,
      "outputs": []
    }
  ]
}